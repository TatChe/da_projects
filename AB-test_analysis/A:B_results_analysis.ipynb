{
 "cells": [
  {
   "cell_type": "markdown",
   "metadata": {},
   "source": [
    "# Оценка результатов A/B-теста"
   ]
  },
  {
   "cell_type": "markdown",
   "metadata": {},
   "source": [
    "## Описание проекта\n",
    "\n",
    "### Цель и задачи\n",
    "Необходимо провести оценку результатов A/B-теста:\n",
    "\n",
    "1. Оценить корректность проведения теста:\n",
    "\n",
    "   1. Проверить пересечение тестовой аудитории с конкурирующим тестом;\n",
    "   2. Проверить совпадение времени проведения теста и маркетинговых событий;\n",
    "   3. Проверить равномерность распределения пользователей по тестовым группам и принадлежность пользователей к обеим группам.\n",
    "\n",
    "\n",
    "2. Проанализировать результаты теста:\n",
    "\n",
    "   1. Проверить, достигнуты ли ожидаемые эффекты (метрики улучшились на ожидаемый процент);\n",
    "   2. Если ожидаемые эффекты достигнуты, то проверить статистическую значимость изменений (сформулировать гипотезы, выбрать статистический критерий и уровень статистической значимости, применить выбранный статистический критерий и оценить результаты).\n",
    "\n",
    "\n",
    "### Техническое задание\n",
    "\n",
    "- Название теста: `recommender_system_test`;\n",
    "- Группы: А — контрольная, B — новая платёжная воронка;\n",
    "- Дата запуска: 2020-12-07;\n",
    "- Дата остановки набора новых пользователей: 2020-12-21;\n",
    "- Дата остановки: 2021-01-04;\n",
    "- Аудитория: 15% новых пользователей из региона EU;\n",
    "- Назначение теста: тестирование изменений, связанных с внедрением улучшенной рекомендательной системы;\n",
    "- Ожидаемое количество участников теста: 6000;\n",
    "- Ожидаемый эффект: за 14 дней с момента регистрации пользователи покажут улучшение каждой метрики не менее, чем на 10%:\n",
    "  - Конверсия в просмотры карточек товаров — событие `product_page`,\n",
    "  - Конверсия в просмотры корзины — `product_cart`,\n",
    "  - Конверсия в покупки — `purchase`."
   ]
  },
  {
   "cell_type": "markdown",
   "metadata": {},
   "source": [
    "## Данные\n",
    "\n",
    "1. Файл `ab_project_marketing_events.csv` — календарь маркетинговых событий на 2020 год:\n",
    "\n",
    "   - `name` — название маркетингового события;\n",
    "   - `regions` — регионы, в которых будет проводиться рекламная кампания;\n",
    "   - `start_dt` — дата начала кампании;\n",
    "   - `finish_dt` — дата завершения кампании.\n",
    "\n",
    "\n",
    "2. Файл `final_ab_new_users.csv` — пользователи, зарегистрировавшиеся с 7 по 21 декабря 2020 года:\n",
    "\n",
    "   - `user_id` — идентификатор пользователя;\n",
    "   - `first_date` — дата регистрации;\n",
    "   - `region` — регион пользователя;\n",
    "   - `device` — устройство, с которого происходила регистрация.\n",
    "\n",
    "\n",
    "3. Файл `final_ab_events.csv` — действия новых пользователей в период с 7 декабря 2020 по 4 января 2021 года:\n",
    "\n",
    "   - `user_id` — идентификатор пользователя;\n",
    "   - `event_dt` — дата и время покупки;\n",
    "   - `event_name` — тип события;\n",
    "   - `details` — дополнительные данные о событии. Например, для покупок (`purchase`) в этом поле хранится стоимость покупки в долларах.\n",
    "\n",
    "\n",
    "4. `final_ab_participants.csv` — таблица участников тестов:\n",
    "\n",
    "   - `user_id` — идентификатор пользователя;\n",
    "   - `ab_test` — название теста;\n",
    "   - `group` — группа пользователя."
   ]
  },
  {
   "cell_type": "markdown",
   "metadata": {},
   "source": [
    "## <a id='content'>План проекта</a>\n",
    "\n",
    "1. [Подготовка и настройка](#step-0)\n",
    "2. [Загрузка и изучение данных](#step-1)\n",
    "3. [Предобработка данных](#step-2)\n",
    "4. [Оценка корректности проведения A/B-теста](#step-3)\n",
    "5. [Исследовательский анализ данных](#step-4)\n",
    "6. [Оценка результатов A/B-тестирования](#step-5)\n",
    "7. [Общие выводы](#result)"
   ]
  },
  {
   "cell_type": "markdown",
   "metadata": {},
   "source": [
    "---"
   ]
  },
  {
   "cell_type": "markdown",
   "metadata": {},
   "source": [
    "## <a id='step-0'>Шаг 0. Подготовка и настройка¶</a>"
   ]
  },
  {
   "cell_type": "code",
   "execution_count": 1,
   "metadata": {},
   "outputs": [
    {
     "ename": "ModuleNotFoundError",
     "evalue": "No module named 'termcolor'",
     "output_type": "error",
     "traceback": [
      "\u001b[0;31m---------------------------------------------------------------------------\u001b[0m",
      "\u001b[0;31mModuleNotFoundError\u001b[0m                       Traceback (most recent call last)",
      "\u001b[0;32m<ipython-input-1-88e013ce9d0f>\u001b[0m in \u001b[0;36m<module>\u001b[0;34m\u001b[0m\n\u001b[1;32m      6\u001b[0m \u001b[0;34m\u001b[0m\u001b[0m\n\u001b[1;32m      7\u001b[0m \u001b[0;32mfrom\u001b[0m \u001b[0mscipy\u001b[0m \u001b[0;32mimport\u001b[0m \u001b[0mstats\u001b[0m \u001b[0;32mas\u001b[0m \u001b[0mst\u001b[0m\u001b[0;34m\u001b[0m\u001b[0;34m\u001b[0m\u001b[0m\n\u001b[0;32m----> 8\u001b[0;31m \u001b[0;32mfrom\u001b[0m \u001b[0mtermcolor\u001b[0m \u001b[0;32mimport\u001b[0m \u001b[0mcolored\u001b[0m \u001b[0;31m# раскраска текста\u001b[0m\u001b[0;34m\u001b[0m\u001b[0;34m\u001b[0m\u001b[0m\n\u001b[0m\u001b[1;32m      9\u001b[0m \u001b[0;34m\u001b[0m\u001b[0m\n\u001b[1;32m     10\u001b[0m \u001b[0;32mimport\u001b[0m \u001b[0mmatplotlib\u001b[0m\u001b[0;34m.\u001b[0m\u001b[0mpyplot\u001b[0m \u001b[0;32mas\u001b[0m \u001b[0mplt\u001b[0m\u001b[0;34m\u001b[0m\u001b[0;34m\u001b[0m\u001b[0m\n",
      "\u001b[0;31mModuleNotFoundError\u001b[0m: No module named 'termcolor'"
     ]
    }
   ],
   "source": [
    "# импорт библиотек\n",
    "import pandas as pd\n",
    "import numpy as np\n",
    "import math as mth\n",
    "from datetime import datetime\n",
    "\n",
    "from scipy import stats as st\n",
    "from termcolor import colored # раскраска текста\n",
    "\n",
    "import matplotlib.pyplot as plt\n",
    "import seaborn as sns"
   ]
  },
  {
   "cell_type": "code",
   "execution_count": null,
   "metadata": {},
   "outputs": [],
   "source": [
    "# отключение предупреждений\n",
    "import warnings\n",
    "warnings.filterwarnings('ignore')"
   ]
  },
  {
   "cell_type": "code",
   "execution_count": null,
   "metadata": {},
   "outputs": [],
   "source": [
    "# настройки графиков\n",
    "large = 16; medium = 14; small = 12\n",
    "\n",
    "params = {'axes.titlesize': large,\n",
    "          'axes.labelsize': medium,\n",
    "          'legend.fontsize': medium,\n",
    "          'figure.titlesize': large,\n",
    "          'figure.figsize': (10, 6),\n",
    "          'xtick.labelsize': small,\n",
    "          'ytick.labelsize': small,\n",
    "          'axes.grid': True,\n",
    "          'legend.loc': 'upper left',\n",
    "          'axes.titlepad': 20.0, # отступ названия графика\n",
    "          'axes.labelpad': 8.0, # отступ для подписей осей\n",
    "          'legend.title_fontsize': medium,\n",
    "         }\n",
    "plt.rcParams.update(params)\n",
    "# plt.rcParams.keys() # список параметров и их значения\n",
    "\n",
    "plt.style.use('seaborn-muted') # единый стиль графиков\n",
    "sns.set_style('white')"
   ]
  },
  {
   "cell_type": "markdown",
   "metadata": {},
   "source": [
    "<div align='right'><a href='#content'>↑ В начало проекта ↑</a></div>"
   ]
  },
  {
   "cell_type": "markdown",
   "metadata": {},
   "source": [
    "---"
   ]
  },
  {
   "cell_type": "markdown",
   "metadata": {},
   "source": [
    "## <a id='step-1'>Шаг 1. Загрузка и изучение данных</a>"
   ]
  },
  {
   "cell_type": "markdown",
   "metadata": {},
   "source": [
    "### 1.1. Автоматизация\n",
    "\n",
    "Так как датасетов у нас несколько, напишем **функцию `about_df`**, которая будет:\n",
    "- Принимать на вход имя файла;\n",
    "- Выводить примеры строк, информацию о датасете и числовое описание данных, количество и долю пропусков по каждому столбцу, количество дубликатов и сами дублирующиеся строки;\n",
    "- Возвращать прочитанный из файла датафрейм, чтобы его можно было сохранить в переменную."
   ]
  },
  {
   "cell_type": "code",
   "execution_count": null,
   "metadata": {},
   "outputs": [],
   "source": [
    "def about_df(df_name):   \n",
    "    data = pd.read_csv('/datasets/{}.csv'.format(df_name))\n",
    "    \n",
    "    print(colored('Примеры строк:', attrs=['bold']))\n",
    "    if len(data)>=5:\n",
    "        display(data.sample(5))\n",
    "    else:\n",
    "        display(data)\n",
    "    \n",
    "    print(colored('\\nИнформация о датасете:', attrs=['bold']))\n",
    "    display(data.info())\n",
    "    \n",
    "    print(colored('\\nЧисловое описание данных:', attrs=['bold']))\n",
    "    display(data.describe())\n",
    "\n",
    "    print(colored('\\nПропуски (количество и доля):', attrs=['bold']))\n",
    "    display(data.isna().agg(['sum', 'mean']))\n",
    "    \n",
    "    # дубликаты\n",
    "    duplicates = data[data.duplicated()]\n",
    "    duplicates_cnt = len(duplicates)\n",
    "    print(colored('\\nКоличество дубликатов:', attrs=['bold']), duplicates_cnt)\n",
    "    if duplicates_cnt > 0:\n",
    "        display(duplicates_cnt)\n",
    "    \n",
    "    return data"
   ]
  },
  {
   "cell_type": "markdown",
   "metadata": {},
   "source": [
    "### 1.2. Календарь маркетинговых событий на 2020 год"
   ]
  },
  {
   "cell_type": "markdown",
   "metadata": {},
   "source": [
    "Воспользуемся написанной нами функцией:"
   ]
  },
  {
   "cell_type": "code",
   "execution_count": null,
   "metadata": {},
   "outputs": [],
   "source": [
    "mark_events = about_df('ab_project_marketing_events')"
   ]
  },
  {
   "cell_type": "markdown",
   "metadata": {},
   "source": [
    "Пропусков и дубликатов нет, но потребуется преобразовать значения `start_dt` и `finish_dt` в даты."
   ]
  },
  {
   "cell_type": "markdown",
   "metadata": {},
   "source": [
    "### 1.3. Данные о пользователях, зарегистрировавшихся с 7 по 21 декабря 2020 года"
   ]
  },
  {
   "cell_type": "code",
   "execution_count": null,
   "metadata": {},
   "outputs": [],
   "source": [
    "users = about_df('final_ab_new_users')"
   ]
  },
  {
   "cell_type": "markdown",
   "metadata": {},
   "source": [
    "Дополнительно посмотрим на регионы:"
   ]
  },
  {
   "cell_type": "code",
   "execution_count": null,
   "metadata": {},
   "outputs": [],
   "source": [
    "# регионы пользователей\n",
    "users['region'].value_counts()"
   ]
  },
  {
   "cell_type": "markdown",
   "metadata": {},
   "source": [
    "Пропусков и дубликатов нет, но нужно преобразовать значения столбца `first_date` в даты.\n",
    "\n",
    "Так же стоит отметить, что нам понадобятся данные только по пользователям из региона EU."
   ]
  },
  {
   "cell_type": "markdown",
   "metadata": {},
   "source": [
    "### 1.4. Действия новых пользователей в период с 7 декабря 2020 по 4 января 2021 года"
   ]
  },
  {
   "cell_type": "code",
   "execution_count": null,
   "metadata": {},
   "outputs": [],
   "source": [
    "events = about_df('final_ab_events')"
   ]
  },
  {
   "cell_type": "markdown",
   "metadata": {},
   "source": [
    "Посмотрим, по событиям каких типов есть информация в поле `details`:"
   ]
  },
  {
   "cell_type": "code",
   "execution_count": null,
   "metadata": {},
   "outputs": [],
   "source": [
    "events.loc[~events['details'].isna(), 'event_name'].value_counts()"
   ]
  },
  {
   "cell_type": "markdown",
   "metadata": {},
   "source": [
    "Детали есть только по покупкам. Посмотрим, по всем ли покупкам есть детали:"
   ]
  },
  {
   "cell_type": "code",
   "execution_count": null,
   "metadata": {},
   "outputs": [],
   "source": [
    "events.loc[events['event_name'] == 'purchase', 'details'].isna().sum()"
   ]
  },
  {
   "cell_type": "markdown",
   "metadata": {},
   "source": [
    "Итого, дубликатов нет, а пропуски в `details` объясняются тем, что детали есть по событиям только одного типа (`purchase`). При этом по каждой покупке есть детали.\n",
    "\n",
    "В этом датасете нужно:\n",
    "- Преобразовать значения столбца `event_dt` в дату и время;\n",
    "- Добавить столбец с датой без времени."
   ]
  },
  {
   "cell_type": "markdown",
   "metadata": {},
   "source": [
    "### 1.5. Таблица участников тестов"
   ]
  },
  {
   "cell_type": "code",
   "execution_count": null,
   "metadata": {},
   "outputs": [],
   "source": [
    "tests = about_df('final_ab_participants')"
   ]
  },
  {
   "cell_type": "markdown",
   "metadata": {},
   "source": [
    "Видим:\n",
    "- Пропусков нет;\n",
    "- Судя по общему количеству и количеству уникальных значений в поле `user_id`, у нас есть пользователи, которые попали либо в несколько тестов, либо в несколько групп в одном тесте, либо и то, и другое. Выясним это на этапе оценки корректности проведения теста."
   ]
  },
  {
   "cell_type": "markdown",
   "metadata": {},
   "source": [
    "### Промежуточные выводы\n",
    "\n",
    "По итогам ознакомления данных обозначили фронт работы по предобработке данных:\n",
    "\n",
    "- Датасет `mark_events`: преобразовать значения `start_dt` и `finish_dt` в даты.\n",
    "\n",
    "\n",
    "- `users` — `first_date` в даты;\n",
    "\n",
    "\n",
    "- `events`:\n",
    "  - `event_dt` в дату и время;\n",
    "  - Добавить столбец с датой без времени."
   ]
  },
  {
   "cell_type": "markdown",
   "metadata": {},
   "source": [
    "<div align='right'><a href='#content'>↑ В начало проекта ↑</a></div>"
   ]
  },
  {
   "cell_type": "markdown",
   "metadata": {},
   "source": [
    "---"
   ]
  },
  {
   "cell_type": "markdown",
   "metadata": {},
   "source": [
    "## <a id='step-2'>Шаг 2. Предобработка данных</a>"
   ]
  },
  {
   "cell_type": "markdown",
   "metadata": {},
   "source": [
    "1. Преобразуем даты в столбцах датасетов:"
   ]
  },
  {
   "cell_type": "code",
   "execution_count": null,
   "metadata": {},
   "outputs": [],
   "source": [
    "# список датасетов, в которых есть столбцы с датами\n",
    "list_of_dfs = (mark_events, users, events)\n",
    "\n",
    "for df in list_of_dfs:\n",
    "    for col in df.columns:\n",
    "        if 'dt' in col or 'date' in col:\n",
    "            df[col] = pd.to_datetime(df[col], format='%Y-%m-%d')\n",
    "            print(f'Тип данных в столбцe {col}: {df[col].dtypes}')"
   ]
  },
  {
   "cell_type": "markdown",
   "metadata": {},
   "source": [
    "2. В датафрейме `events` выделим только дату события в отдельный столбец:"
   ]
  },
  {
   "cell_type": "code",
   "execution_count": null,
   "metadata": {},
   "outputs": [],
   "source": [
    "events['event_date'] = pd.to_datetime(events['event_dt'].dt.date)\n",
    "events.sample(5)"
   ]
  },
  {
   "cell_type": "code",
   "execution_count": null,
   "metadata": {},
   "outputs": [],
   "source": [
    "events.info()"
   ]
  },
  {
   "cell_type": "markdown",
   "metadata": {},
   "source": [
    "### Промежуточные выводы\n",
    "\n",
    "На этом этапе мы преобразовали типы данных в столбцах с датами и выделили только дату без времени в датафрейме `events`."
   ]
  },
  {
   "cell_type": "markdown",
   "metadata": {},
   "source": [
    "<div align='right'><a href='#content'>↑ В начало проекта ↑</a></div>"
   ]
  },
  {
   "cell_type": "markdown",
   "metadata": {},
   "source": [
    "---"
   ]
  },
  {
   "cell_type": "markdown",
   "metadata": {},
   "source": [
    "## <a id='step-3'>Шаг 3. Оценка корректности проведения A/B-теста</a>"
   ]
  },
  {
   "cell_type": "markdown",
   "metadata": {},
   "source": [
    "1. Зафиксируем в переменных условия теста:"
   ]
  },
  {
   "cell_type": "code",
   "execution_count": null,
   "metadata": {},
   "outputs": [],
   "source": [
    "# название теста\n",
    "test_name = 'recommender_system_test'\n",
    "\n",
    "# дата запуска теста\n",
    "test_start = datetime(2020,12,7).strftime('%Y-%m-%d')\n",
    "\n",
    "# дата остановки набора новых пользователей\n",
    "new_users_end = datetime(2020,12,21).strftime('%Y-%m-%d')\n",
    "\n",
    "# дата остановки\n",
    "test_end = datetime(2021,1,4).strftime('%Y-%m-%d')\n",
    "\n",
    "# регион (для переиспользования можно задать в виде списка,\n",
    "# если в будущих тестах могут участвовать пользователи из нескольких регионов)\n",
    "region = 'EU'\n",
    "\n",
    "# процент новых пользователей из целевого региона\n",
    "au_pcnt = 15\n",
    "\n",
    "# ожидаемое количество участников теста\n",
    "users_cnt_expected = 6000\n",
    "\n",
    "# конверсионное окно в днях\n",
    "conversion_window = 14\n",
    "\n",
    "# конверсионные метрики\n",
    "conversion_metrics = {'product_page':'просмотр карточек товаров',\n",
    "                      'product_cart':'просмотр корзины',\n",
    "                      'purchase':'покупки'}"
   ]
  },
  {
   "cell_type": "markdown",
   "metadata": {},
   "source": [
    "2. Отберем новых пользователей из региона EU, которые зарегистрировались в период с `test_start` по `new_users_end`:"
   ]
  },
  {
   "cell_type": "code",
   "execution_count": null,
   "metadata": {},
   "outputs": [],
   "source": [
    "users_eu = users[(users['region'] == region) \\\n",
    "                 & (users['first_date'] >= test_start) & (users['first_date'] <= new_users_end)]\n",
    "total_users_eu = users_eu.shape[0]\n",
    "print(f'Всего за период с {test_start} по {new_users_end} пришло {total_users_eu} новых пользователей из региона {region}.')"
   ]
  },
  {
   "cell_type": "markdown",
   "metadata": {},
   "source": [
    "3. Присоединим к списку новых пользователей из предыдущего пункта данные по участникам тестов (пересечение по `user_id`):"
   ]
  },
  {
   "cell_type": "code",
   "execution_count": null,
   "metadata": {},
   "outputs": [],
   "source": [
    "tests_eu = users_eu.merge(tests, on=['user_id'], how='inner')\n",
    "\n",
    "print(f'Количество новых пользователей из {region}, попавших хотя бы в один A/B-тест: {len(tests_eu)}')"
   ]
  },
  {
   "cell_type": "code",
   "execution_count": null,
   "metadata": {},
   "outputs": [],
   "source": [
    "tests_eu.sample(5)"
   ]
  },
  {
   "cell_type": "markdown",
   "metadata": {},
   "source": [
    "4. Проверим, есть ли пользователи, которые попали сразу в обе группы нашего теста:"
   ]
  },
  {
   "cell_type": "code",
   "execution_count": null,
   "metadata": {},
   "outputs": [],
   "source": [
    "users_in_ab = (tests_eu.query('ab_test == @test_name')\n",
    "               .groupby(['user_id', 'ab_test']).agg({'group':'nunique'})\n",
    "               .sort_values(by='group', ascending=False))\n",
    "\n",
    "print('Количество пользователей, попавших в обе группы теста {}: {}'.format(test_name, len(users_in_ab.query('group > 1'))))"
   ]
  },
  {
   "cell_type": "markdown",
   "metadata": {},
   "source": [
    "5. Отберем ID пользователей, которые участвовали в нашем тесте:"
   ]
  },
  {
   "cell_type": "code",
   "execution_count": null,
   "metadata": {},
   "outputs": [],
   "source": [
    "test_users_ids = list(tests_eu.query('ab_test == @test_name')['user_id'])\n",
    "display(test_users_ids[:5])\n",
    "print('Количество пользователей, участвовавших в тесте {}: {}'.format(test_name, len(test_users_ids)))"
   ]
  },
  {
   "cell_type": "markdown",
   "metadata": {},
   "source": [
    "6. Проверим, пересекается ли аудитория нашего теста с другими тестами:"
   ]
  },
  {
   "cell_type": "code",
   "execution_count": null,
   "metadata": {},
   "outputs": [],
   "source": [
    "users_in_manytests = (tests_eu.query('user_id in @test_users_ids')\n",
    "                      .groupby(['user_id'], as_index=False).agg({'ab_test':'nunique'})\n",
    "                      .query('ab_test > 1'))\n",
    "users_in_manytests.sample(5)"
   ]
  },
  {
   "cell_type": "markdown",
   "metadata": {},
   "source": [
    "Видим, что аудитория нашего теста пересекается с другими тестами. Оценим масштаб бедствия:"
   ]
  },
  {
   "cell_type": "code",
   "execution_count": null,
   "metadata": {},
   "outputs": [],
   "source": [
    "# записываем id пользователей, попавших в несколько тестов\n",
    "users_in_manytests_ids = list(users_in_manytests['user_id'])\n",
    "\n",
    "users_in_manytests_cnt = len(users_in_manytests_ids)\n",
    "\n",
    "print('Количество пользователей, попавших в несколько тестов: {:.0f} ({:.1%})'\n",
    "      .format(users_in_manytests_cnt, users_in_manytests_cnt/len(test_users_ids)))"
   ]
  },
  {
   "cell_type": "markdown",
   "metadata": {},
   "source": [
    "Видим, что четверть аудитории нашего теста попали и в другой / другие тесты тоже.\n",
    "\n",
    "Кажется, что **было бы правильно не использовать данные по пользователям, попавшим в несколько тестов**. Но с другой стороны, я думаю, что в реальных продуктах одновременно может идти много тестов, и пересечение неизбежно.\n",
    "\n",
    "Думаю, что **можно оставить этих пользователей, если в каждой группе нашего теста примерно одинаковая доля участников из разных групп в других тестах**. Например, если в группе A нашего теста 100 человек из группы B другого теста (и это составляет 5% от общего числа пользователей в группе А нашего теста), то среди участников группы B нашего теста должно быть тоже примерно 5% пользователей, попавших в группу B другого теста.\n",
    "\n",
    "Проверим это:"
   ]
  },
  {
   "cell_type": "code",
   "execution_count": null,
   "metadata": {},
   "outputs": [],
   "source": [
    "# запишем общее количество участников по группам нашего теста\n",
    "in_other_tests = (tests_eu.query('ab_test == @test_name')\n",
    "                  .groupby(['group'], as_index=False).agg({'user_id':'nunique'})\n",
    "                  .rename(columns={'user_id':'users_cnt'}))\n",
    "display(in_other_tests)\n",
    "\n",
    "# проверим, совпадает ли сумма по группам\n",
    "print(in_other_tests['users_cnt'].sum())"
   ]
  },
  {
   "cell_type": "code",
   "execution_count": null,
   "metadata": {},
   "outputs": [],
   "source": [
    "# id пользователей в группе A нашего теста\n",
    "users_a = list(tests_eu.query('ab_test == @test_name & group==\"A\"')['user_id'].unique())\n",
    "len(users_a)"
   ]
  },
  {
   "cell_type": "code",
   "execution_count": null,
   "metadata": {},
   "outputs": [],
   "source": [
    "# id пользователей в группе B нашего теста\n",
    "users_b = list(tests_eu.query('ab_test == @test_name & group==\"B\"')['user_id'].unique())\n",
    "len(users_b)"
   ]
  },
  {
   "cell_type": "code",
   "execution_count": null,
   "metadata": {},
   "outputs": [],
   "source": [
    "# перебираем все другие тесты (если их будет больше двух)\n",
    "for test in tests_eu['ab_test'].unique():\n",
    "    \n",
    "    # исключаем целевой тест, с которым мы работаем    \n",
    "    if test != test_name:\n",
    "        work_df = tests_eu[tests_eu['ab_test'] == test]\n",
    "        \n",
    "        # перебираем группы другого теста\n",
    "        for group in work_df['group'].unique():\n",
    "            # записываем id пользователей, попавших в каждую группу другого теста\n",
    "            users_in_group = list(work_df.loc[work_df['group'] == group, 'user_id'].unique())\n",
    "        \n",
    "            # считаем количество пересечений по id пользователей в группах нашего теста и группе другого теста\n",
    "            intersection_a_cnt = len(set(users_in_group).intersection(users_a))\n",
    "            intersection_b_cnt = len(set(users_in_group).intersection(users_b))\n",
    "        \n",
    "            # собираем датафрейм\n",
    "            cnt_name = test + '_' + group\n",
    "            intersection_cnt = pd.DataFrame({'group':['A', 'B'], cnt_name:[intersection_a_cnt, intersection_b_cnt]})\n",
    "        \n",
    "            # присоединяем полученный датафрейм к датафрейму с количеством участников по группам нашего теста\n",
    "            in_other_tests = in_other_tests.merge(intersection_cnt, on='group', how='left')\n",
    "        \n",
    "            # имя колонки с процентами\n",
    "            pcnt_name = cnt_name + '_pcnt'\n",
    "            in_other_tests[pcnt_name] = round(in_other_tests[cnt_name] / in_other_tests['users_cnt'] * 100, 2)\n",
    "        \n",
    "in_other_tests"
   ]
  },
  {
   "cell_type": "markdown",
   "metadata": {},
   "source": [
    "Видим, что доли пользователей, которые попали в экспериментальную группу B и контрольную группу А другого теста (`interface_eu_test`), примерно одинаковые в наших группах. Поэтому считаю, что можно оставить этих пользователей (если изменения, тестируемые в другом тесте, повлияли на поведение наших пользователей, то эффект должен быть примерно одинаковым в обеих группах)."
   ]
  },
  {
   "cell_type": "markdown",
   "metadata": {},
   "source": [
    "7. Проверим равномерность распределения пользователей по группам нашего теста:"
   ]
  },
  {
   "cell_type": "code",
   "execution_count": null,
   "metadata": {},
   "outputs": [],
   "source": [
    "round(abs(min(in_other_tests['users_cnt']) / max(in_other_tests['users_cnt']) - 1) * 100, 1)"
   ]
  },
  {
   "cell_type": "markdown",
   "metadata": {},
   "source": [
    "Относительное различие в количестве пользователей в группах очень большое – 25%. Это говорит о том, что траффик распределялся неравномерно."
   ]
  },
  {
   "cell_type": "markdown",
   "metadata": {},
   "source": [
    "8. Проверим, какая доля от всех новых пользователей из EU за период с `test_start` по `new_users_end`, попала в наш тест (по ТЗ должно быть около 15%):"
   ]
  },
  {
   "cell_type": "code",
   "execution_count": null,
   "metadata": {},
   "outputs": [],
   "source": [
    "round(len(test_users_ids) / total_users_eu * 100, 1)"
   ]
  },
  {
   "cell_type": "markdown",
   "metadata": {},
   "source": [
    "Тут идеальное попадание в ТЗ."
   ]
  },
  {
   "cell_type": "markdown",
   "metadata": {},
   "source": [
    "9. И еще посмотрим, проходили ли какие-то маркетинговые активности в регионе EU во время нашего теста:"
   ]
  },
  {
   "cell_type": "code",
   "execution_count": null,
   "metadata": {},
   "outputs": [],
   "source": [
    "mark_events"
   ]
  },
  {
   "cell_type": "markdown",
   "metadata": {},
   "source": [
    "Отбираем по региону:"
   ]
  },
  {
   "cell_type": "code",
   "execution_count": null,
   "metadata": {},
   "outputs": [],
   "source": [
    "mark_events['in_eu'] = mark_events['regions'].apply(lambda x: 'EU' in x.split(', '))\n",
    "mark_events_eu = mark_events.query('in_eu == True')\n",
    "mark_events_eu"
   ]
  },
  {
   "cell_type": "markdown",
   "metadata": {},
   "source": [
    "Отбираем по датам:"
   ]
  },
  {
   "cell_type": "code",
   "execution_count": null,
   "metadata": {},
   "outputs": [],
   "source": [
    "print(test_start)\n",
    "print(test_end)"
   ]
  },
  {
   "cell_type": "code",
   "execution_count": null,
   "metadata": {},
   "outputs": [],
   "source": [
    "mark_events_eu_time = mark_events_eu.query('finish_dt >= @test_start & finish_dt <= @test_end')\n",
    "\n",
    "if len(mark_events_eu_time) == 0:\n",
    "    print('Во время теста нет маркетинговых событий.')\n",
    "else:\n",
    "    display(mark_events_eu_time)"
   ]
  },
  {
   "cell_type": "markdown",
   "metadata": {},
   "source": [
    "### Промежуточные выводы"
   ]
  },
  {
   "cell_type": "markdown",
   "metadata": {},
   "source": [
    "На этом этапе мы проверили корректность проведения теста и отобрали пользователей, данные по которым будем анализировать дальше.\n",
    "\n",
    "- Всего за период с 2020-12-07 по 2020-12-21 пришло 42340 новых пользователей из региона EU;\n",
    "- Из этих пользователей попали хотя бы в один тест 16916 человек;\n",
    "- В интересующем нас тесте `recommender_system_test` участвовали 6351 человек (15% от общего количества новых пользователей из EU = соответствует ТЗ), из них никто не попал в обе группы этого теста;\n",
    "- 1602 пользователя (25.2%) участвовали в двух тестах одновременно, но доли пользователей, которые попали в экспериментальную группу B и контрольную группу А другого теста, примерно одинаковые в группах A и B нашего теста. Поэтому мы решили оставить этих пользователей;\n",
    "- Относительное различие в количестве пользователей в группах очень большое – 25%. Это говорит о том, что траффик распределялся неравномерно;\n",
    "- Во время теста было маркетинговое мероприятие «Christmas&New Year Promo» – это нужно будет учесть при анализе активностей пользователей.\n",
    "\n",
    "\n",
    "Вердикт по корректности проведения теста:\n",
    "- Длительность теста при неравномерном распределении должна быть увеличена для обнаружения статистически значимой разницы (если она есть на самом деле), так как минимальная длительности достигается при делении 50/50;\n",
    "- Проведение новогодней акции могло повлиять на активность пользователей;\n",
    "- Так же сомнительным является факт участие 25% пользователей в двух тестах одновременно (хотя в ТЗ и нет такого ограничения)."
   ]
  },
  {
   "cell_type": "markdown",
   "metadata": {},
   "source": [
    "<div align='right'><a href='#content'>↑ В начало проекта ↑</a></div>"
   ]
  },
  {
   "cell_type": "markdown",
   "metadata": {},
   "source": [
    "---"
   ]
  },
  {
   "cell_type": "markdown",
   "metadata": {},
   "source": [
    "## <a id='step-4'>Шаг 4. Исследовательский анализ данных</a>"
   ]
  },
  {
   "cell_type": "markdown",
   "metadata": {},
   "source": [
    "1. Соберем все нужные данные в один датафрейм: отберем пользователей нашего теста, присоединим данные по группам теста, отберем события.\n",
    "\n",
    "В ТЗ указан ожидаемый эффект: **за 14 дней** с момента регистрации пользователи покажут улучшение каждой метрики не менее, чем на 10%. Поэтому при отборе событий оставим для каждого пользователя только события, совершенные за 14 дней с момента регистрации."
   ]
  },
  {
   "cell_type": "markdown",
   "metadata": {},
   "source": [
    "Отберем данные по участникам теста:"
   ]
  },
  {
   "cell_type": "code",
   "execution_count": null,
   "metadata": {},
   "outputs": [],
   "source": [
    "users_test = users.query('user_id in @test_users_ids')\n",
    "display(users_test.sample(5))\n",
    "len(users_test)"
   ]
  },
  {
   "cell_type": "markdown",
   "metadata": {},
   "source": [
    "Присоединим данные по группам нашего теста:"
   ]
  },
  {
   "cell_type": "code",
   "execution_count": null,
   "metadata": {},
   "outputs": [],
   "source": [
    "users_groups = users_test.merge(tests.query('ab_test == @test_name'), on='user_id', how='left')"
   ]
  },
  {
   "cell_type": "code",
   "execution_count": null,
   "metadata": {},
   "outputs": [],
   "source": [
    "users_groups.sample(5)"
   ]
  },
  {
   "cell_type": "code",
   "execution_count": null,
   "metadata": {},
   "outputs": [],
   "source": [
    "users_groups['user_id'].nunique()"
   ]
  },
  {
   "cell_type": "code",
   "execution_count": null,
   "metadata": {},
   "outputs": [],
   "source": [
    "groups_cnt = users_groups.groupby(['group'], as_index=False).agg({'user_id':'count'})\n",
    "groups_cnt"
   ]
  },
  {
   "cell_type": "markdown",
   "metadata": {},
   "source": [
    "Присоединим данные по событиям:"
   ]
  },
  {
   "cell_type": "code",
   "execution_count": null,
   "metadata": {},
   "outputs": [],
   "source": [
    "users_events = users_groups.merge(events, on='user_id')"
   ]
  },
  {
   "cell_type": "code",
   "execution_count": null,
   "metadata": {},
   "outputs": [],
   "source": [
    "users_events.sample(5)"
   ]
  },
  {
   "cell_type": "code",
   "execution_count": null,
   "metadata": {},
   "outputs": [],
   "source": [
    "total_users_in_test = groups_cnt['user_id'].sum()\n",
    "users_with_actions = users_events['user_id'].nunique()\n",
    "users_with_actions_pcnt = users_with_actions / total_users_in_test\n",
    "print('Из {:.0f} совершили хотя бы одно действие {:.0f} пользователей ({:.1%})'.\\\n",
    "      format(total_users_in_test, users_with_actions, users_with_actions_pcnt))"
   ]
  },
  {
   "cell_type": "markdown",
   "metadata": {},
   "source": [
    "Посмотрим среднее количество событий на пользователя до отсечения событий после 14 дней:"
   ]
  },
  {
   "cell_type": "code",
   "execution_count": null,
   "metadata": {},
   "outputs": [],
   "source": [
    "users_events.groupby(['user_id']).agg({'user_id':'count'}).mean()"
   ]
  },
  {
   "cell_type": "markdown",
   "metadata": {},
   "source": [
    "Отберем для каждого пользователя события, совершенные только за первые 14 дней после регистрации (параметр нашего теста `conversion_window`):"
   ]
  },
  {
   "cell_type": "code",
   "execution_count": null,
   "metadata": {},
   "outputs": [],
   "source": [
    "# добавим столбец conversion_date = first_date + conversion_window\n",
    "users_events['conversion_date'] = users_events['first_date'] + pd.Timedelta(days = conversion_window)\n",
    "users_events.sample(5)"
   ]
  },
  {
   "cell_type": "code",
   "execution_count": null,
   "metadata": {},
   "outputs": [],
   "source": [
    "len(users_events)"
   ]
  },
  {
   "cell_type": "code",
   "execution_count": null,
   "metadata": {},
   "outputs": [],
   "source": [
    "users_events['group'].value_counts()"
   ]
  },
  {
   "cell_type": "code",
   "execution_count": null,
   "metadata": {},
   "outputs": [],
   "source": [
    "# отберем данные за 14 дней\n",
    "df = users_events.query('event_date>=first_date & event_date<=conversion_date')\n",
    "len(df)"
   ]
  },
  {
   "cell_type": "code",
   "execution_count": null,
   "metadata": {},
   "outputs": [],
   "source": [
    "df['user_id'].nunique()"
   ]
  },
  {
   "cell_type": "code",
   "execution_count": null,
   "metadata": {
    "scrolled": true
   },
   "outputs": [],
   "source": [
    "df.groupby(['user_id']).agg({'user_id':'count'}).mean()"
   ]
  },
  {
   "cell_type": "markdown",
   "metadata": {},
   "source": [
    "Среднее количество событий на пользователя снизилось с 6.73 до 6.56."
   ]
  },
  {
   "cell_type": "markdown",
   "metadata": {},
   "source": [
    "2. Посмотрим, как распределено количество событий на пользователя в выборках:"
   ]
  },
  {
   "cell_type": "code",
   "execution_count": null,
   "metadata": {},
   "outputs": [],
   "source": [
    "df_a = df.query('group == \"A\"')\n",
    "df_b = df.query('group == \"B\"')"
   ]
  },
  {
   "cell_type": "code",
   "execution_count": null,
   "metadata": {},
   "outputs": [],
   "source": [
    "ax = df_a.groupby(['user_id']).agg({'event_name':'count'}).plot(kind='hist', alpha=0.6)\n",
    "df_b.groupby(['user_id']).agg({'event_name':'count'}).plot(kind='hist', alpha=0.6, ax=ax)\n",
    "\n",
    "plt.legend(labels=['A','B'])\n",
    "plt.title('Количество событий на одного пользователя по группам')\n",
    "plt.xlabel('Количество событий на одного пользователя')\n",
    "plt.ylabel('Количество пользователей')\n",
    "plt.show()"
   ]
  },
  {
   "cell_type": "code",
   "execution_count": null,
   "metadata": {},
   "outputs": [],
   "source": [
    "(df.groupby(['group', 'user_id'], as_index=False)['event_name'].agg(['count'])\n",
    " .groupby(['group'])['count'].agg(['min','max','mean'])\n",
    ")"
   ]
  },
  {
   "cell_type": "markdown",
   "metadata": {},
   "source": [
    "3. Посмотрим, как распределено количество событий по дням:"
   ]
  },
  {
   "cell_type": "code",
   "execution_count": null,
   "metadata": {},
   "outputs": [],
   "source": [
    "ax = df.groupby(['event_date']).agg({'user_id':'count'}).plot()\n",
    "df_a.groupby(['event_date']).agg({'user_id':'count'}).plot(ax=ax)\n",
    "df_b.groupby(['event_date']).agg({'user_id':'count'}).plot(ax=ax)\n",
    "\n",
    "plt.legend(labels=['total','A','B'])\n",
    "plt.grid()\n",
    "plt.title('Количество событий по дням')\n",
    "plt.xlabel('Даты')\n",
    "plt.ylabel('Количество событий')\n",
    "plt.show()"
   ]
  },
  {
   "cell_type": "code",
   "execution_count": null,
   "metadata": {},
   "outputs": [],
   "source": [
    "events_per_date = df.groupby(['event_date'], as_index=False).agg({'user_id':'count'})\n",
    "events_max = events_per_date.max()\n",
    "events_min = events_per_date.min()\n",
    "\n",
    "print('Максимум событий произошло {} = {}'.format(events_max[0].strftime(format='%Y-%m-%d'), events_max[1]))\n",
    "print('Минимум событий произошло {} = {}'.format(events_min[0].strftime(format='%Y-%m-%d'), events_min[1]))"
   ]
  },
  {
   "cell_type": "markdown",
   "metadata": {},
   "source": [
    "### Промежуточные выводы\n",
    "\n",
    "На этом этапе выяснили:\n",
    "- Из 6351 совершили хотя бы одно действие 3481 пользователей (54.8%);\n",
    "- Характер распределения количества событий на одного пользователя различается: в группе A пик на 8-10, а в группе B – 1-3, но при этом более длинный хвост; среднее в группе А больше – 6.9 против 5.5 в группе B;\n",
    "- Распределение количества событий по дням в группе B более ровное;\n",
    "- Максимум событий произошло 2020-12-29 = 2304;\n",
    "- Минимум событий произошло 2020-12-07 = 332."
   ]
  },
  {
   "cell_type": "markdown",
   "metadata": {},
   "source": [
    " <div align='right'><a href='#content'>↑ В начало проекта ↑</a></div>"
   ]
  },
  {
   "cell_type": "markdown",
   "metadata": {},
   "source": [
    "---"
   ]
  },
  {
   "cell_type": "markdown",
   "metadata": {},
   "source": [
    "## <a id='step-5'>Шаг 5. Оценка результатов A/B-тестирования</a>"
   ]
  },
  {
   "cell_type": "markdown",
   "metadata": {},
   "source": [
    "1. Напишем функцию для проверки гипотез, которая будет:\n",
    "\n",
    "   - Принимать на вход название события и значение критического уровня статистической значимости (alpha, по умолчанию будет равно 0.05);\n",
    "   - Выводить анализируемое событие, нулевую и альтернативные гипотезы;\n",
    "   - Рассчитывать и выводить долю пользователей, совершивших действие, в каждой группе;\n",
    "   - Проводить z-тест и выводить его результаты."
   ]
  },
  {
   "cell_type": "code",
   "execution_count": null,
   "metadata": {},
   "outputs": [],
   "source": [
    "def check_hyp(event, alpha=0.05):\n",
    "    \n",
    "    # пишем, какое событие анализируем   \n",
    "    print(colored('Событие {} в группах A и B'.format(event), attrs=['bold']))\n",
    "    \n",
    "    # формулируем нулевую и альтернативную гипотезы\n",
    "    print()\n",
    "    print('H0: доли пользователей, совершивших событие {}, в группах A и B не различаются.'.format(event))\n",
    "    print('H1: доли пользователей, совершивших событие {}, в группах A и B различаются.'.format(event))\n",
    "    \n",
    "    # считаем количество пользователей, совершивших событие, в каждой группе\n",
    "    successesA = df_a.loc[df_a['event_name']==event, 'user_id'].nunique()\n",
    "    successesB = df_b.loc[df_b['event_name']==event, 'user_id'].nunique()\n",
    "    \n",
    "    # вытаскиваем общее количество пользователей\n",
    "    totalA = groups_cnt.loc[groups_cnt['group'] == 'A', 'user_id'].values[0]\n",
    "    totalB = groups_cnt.loc[groups_cnt['group'] == 'B', 'user_id'].values[0]\n",
    "    \n",
    "    # находим доли\n",
    "    propA = successesA / totalA\n",
    "    propB = successesB / totalB\n",
    "    \n",
    "    # выводим доли + количество пользователей в группах\n",
    "    print()\n",
    "    print(f'{propA:.0%} от {totalA} пользователей с событием {event} в группе «A»')\n",
    "    print(f'{propB:.0%} от {totalB} пользователей с событием {event} в группе «B»')\n",
    "    \n",
    "    \n",
    "    ########## проверяем гипотезу ##########\n",
    "      \n",
    "    # пропорция успехов в группах\n",
    "    pA = successesA / totalA\n",
    "    pB = successesB / totalB\n",
    "\n",
    "    # пропорция успехов в комбинированной группе\n",
    "    p_combined = (successesA + successesB) / (totalA + totalB)\n",
    "\n",
    "    # разница пропорций в группах\n",
    "    difference = pA - pB\n",
    "    \n",
    "    # выводим, в какой группе конверсия лучше\n",
    "    if difference > 0:\n",
    "        print(colored('Конверсия в группе B хуже.', 'red'))\n",
    "    else:\n",
    "        print(colored('Конверсия в группе B лучше.', 'greed'))\n",
    "\n",
    "    # статистика в стандартных отклонениях стандартного нормального распределения\n",
    "    z_value = difference / mth.sqrt(p_combined * (1 - p_combined) * (1/totalA + 1/totalB))\n",
    "\n",
    "    # задаем стандартное нормальное распределение (среднее = 0, стандартное отклонение = 1)\n",
    "    distr = st.norm(0, 1)\n",
    "    \n",
    "    # посчитаем, как далеко статистика уехала от нуля = какова вероятность получить такое отличие или больше\n",
    "    # так как распределение статистики нормальное, вызовем метод cdf()\n",
    "    # саму z-статистику возьмём по модулю методом abs(), чтобы получить правильный результат независимо от её знака\n",
    "    # это возможно, потому что тест двусторонний. По этой же причине удваиваем результат:\n",
    "    p_value = (1 - distr.cdf(abs(z_value))) * 2\n",
    "    \n",
    "    print()\n",
    "    print(f'p-значение: {p_value:.4%}')\n",
    "\n",
    "    # используем библиотеку termcolor\n",
    "    if (p_value < alpha):\n",
    "        print(colored('Отвергаем нулевую гипотезу: между долями есть значимая разница.', 'green'))\n",
    "    else:\n",
    "        print(colored('Не получилось отвергнуть нулевую гипотезу, нет оснований считать доли разными.', 'red'))\n",
    "    \n",
    "    print()\n",
    "    print()\n",
    "    \n",
    "    return"
   ]
  },
  {
   "cell_type": "markdown",
   "metadata": {},
   "source": [
    "2. Так как мы будем проверять три гипотезы на одном наборе данных, используем поправку уровня статистической значимости методом Бонферрони:"
   ]
  },
  {
   "cell_type": "code",
   "execution_count": null,
   "metadata": {},
   "outputs": [],
   "source": [
    "alpha = 0.05\n",
    "alpha_corr = alpha / 3"
   ]
  },
  {
   "cell_type": "markdown",
   "metadata": {},
   "source": [
    "3. Проверим статистическую разницу долей по каждому событию:"
   ]
  },
  {
   "cell_type": "code",
   "execution_count": null,
   "metadata": {},
   "outputs": [],
   "source": [
    "for event in ['product_page', 'product_cart', 'purchase']:\n",
    "    check_hyp(event, alpha=alpha_corr)"
   ]
  },
  {
   "cell_type": "markdown",
   "metadata": {},
   "source": [
    "### Промежуточные выводы\n",
    "\n",
    "По всем параметрам группа `B` хуже — конверсия в ней статистически значимо ниже."
   ]
  },
  {
   "cell_type": "markdown",
   "metadata": {},
   "source": [
    "<div align='right'><a href='#content'>↑ В начало проекта ↑</a></div>"
   ]
  },
  {
   "cell_type": "markdown",
   "metadata": {},
   "source": [
    "---"
   ]
  },
  {
   "cell_type": "markdown",
   "metadata": {},
   "source": [
    "## <a id='result'>Общие выводы</a>"
   ]
  },
  {
   "cell_type": "markdown",
   "metadata": {},
   "source": [
    "Результаты A/B-теста следует признать неудачными: по всем параметрам группа B хуже — конверсия в ней статистически значимо ниже, чем в контрольной группе A.\n",
    "\n",
    "При этом нужно заметить, что при проведении теста были особенности:\n",
    "- 25% пользователей участвовали в двух тестах одновременно;\n",
    "- Пользователи распределялись по группам неравномерно (относительное различие в количестве пользователей в группах = 25.2%);\n",
    "- Во время теста проходила новогодняя акция, поэтому поведение пользователей могло быть нестандартным.\n",
    "\n",
    "В целом, рекомендуем **НЕ внедрять** тестируемое изменение в продукт."
   ]
  },
  {
   "cell_type": "markdown",
   "metadata": {},
   "source": [
    "<div align='right'><a href='#content'>↑ В начало проекта ↑</a></div>"
   ]
  }
 ],
 "metadata": {
  "kernelspec": {
   "display_name": "Python 3",
   "language": "python",
   "name": "python3"
  },
  "language_info": {
   "codemirror_mode": {
    "name": "ipython",
    "version": 3
   },
   "file_extension": ".py",
   "mimetype": "text/x-python",
   "name": "python",
   "nbconvert_exporter": "python",
   "pygments_lexer": "ipython3",
   "version": "3.8.5"
  }
 },
 "nbformat": 4,
 "nbformat_minor": 2
}
