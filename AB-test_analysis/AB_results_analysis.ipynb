{
 "cells": [
  {
   "cell_type": "markdown",
   "metadata": {},
   "source": [
    "# Оценка результатов A/B-теста"
   ]
  },
  {
   "cell_type": "markdown",
   "metadata": {},
   "source": [
    "## Описание проекта\n",
    "\n",
    "### Цель и задачи\n",
    "Необходимо провести оценку результатов A/B-теста:\n",
    "\n",
    "1. Оценить корректность проведения теста:\n",
    "\n",
    "   1. Проверить пересечение тестовой аудитории с конкурирующим тестом;\n",
    "   2. Проверить совпадение времени проведения теста и маркетинговых событий;\n",
    "   3. Проверить равномерность распределения пользователей по тестовым группам и принадлежность пользователей к обеим группам.\n",
    "\n",
    "\n",
    "2. Проанализировать результаты теста:\n",
    "\n",
    "   1. Проверить, достигнуты ли ожидаемые эффекты (метрики улучшились на ожидаемый процент);\n",
    "   2. Если ожидаемые эффекты достигнуты, то проверить статистическую значимость изменений (сформулировать гипотезы, выбрать статистический критерий и уровень статистической значимости, применить выбранный статистический критерий и оценить результаты).\n",
    "\n",
    "\n",
    "### Техническое задание\n",
    "\n",
    "- Название теста: `recommender_system_test`;\n",
    "- Группы: А — контрольная, B — новая платёжная воронка;\n",
    "- Дата запуска: 2020-12-07;\n",
    "- Дата остановки набора новых пользователей: 2020-12-21;\n",
    "- Дата остановки: 2021-01-04;\n",
    "- Аудитория: 15% новых пользователей из региона EU;\n",
    "- Назначение теста: тестирование изменений, связанных с внедрением улучшенной рекомендательной системы;\n",
    "- Ожидаемое количество участников теста: 6000;\n",
    "- Ожидаемый эффект: за 14 дней с момента регистрации пользователи покажут улучшение каждой метрики не менее, чем на 10%:\n",
    "  - Конверсия в просмотры карточек товаров — событие `product_page`,\n",
    "  - Конверсия в просмотры корзины — `product_cart`,\n",
    "  - Конверсия в покупки — `purchase`."
   ]
  },
  {
   "cell_type": "markdown",
   "metadata": {},
   "source": [
    "## Данные\n",
    "\n",
    "1. Файл `ab_project_marketing_events.csv` — календарь маркетинговых событий на 2020 год:\n",
    "\n",
    "   - `name` — название маркетингового события;\n",
    "   - `regions` — регионы, в которых будет проводиться рекламная кампания;\n",
    "   - `start_dt` — дата начала кампании;\n",
    "   - `finish_dt` — дата завершения кампании.\n",
    "\n",
    "\n",
    "2. Файл `final_ab_new_users.csv` — пользователи, зарегистрировавшиеся с 7 по 21 декабря 2020 года:\n",
    "\n",
    "   - `user_id` — идентификатор пользователя;\n",
    "   - `first_date` — дата регистрации;\n",
    "   - `region` — регион пользователя;\n",
    "   - `device` — устройство, с которого происходила регистрация.\n",
    "\n",
    "\n",
    "3. Файл `final_ab_events.csv` — действия новых пользователей в период с 7 декабря 2020 по 4 января 2021 года:\n",
    "\n",
    "   - `user_id` — идентификатор пользователя;\n",
    "   - `event_dt` — дата и время покупки;\n",
    "   - `event_name` — тип события;\n",
    "   - `details` — дополнительные данные о событии. Например, для покупок (`purchase`) в этом поле хранится стоимость покупки в долларах.\n",
    "\n",
    "\n",
    "4. `final_ab_participants.csv` — таблица участников тестов:\n",
    "\n",
    "   - `user_id` — идентификатор пользователя;\n",
    "   - `ab_test` — название теста;\n",
    "   - `group` — группа пользователя."
   ]
  },
  {
   "cell_type": "markdown",
   "metadata": {},
   "source": [
    "## <a id='content'>План проекта</a>\n",
    "\n",
    "1. [Подготовка и настройка](#step-0)\n",
    "2. [Загрузка и изучение данных](#step-1)\n",
    "3. [Предобработка данных](#step-2)\n",
    "4. [Оценка корректности проведения A/B-теста](#step-3)\n",
    "5. [Исследовательский анализ данных](#step-4)\n",
    "6. [Оценка результатов A/B-тестирования](#step-5)\n",
    "7. [Общие выводы](#result)"
   ]
  },
  {
   "cell_type": "markdown",
   "metadata": {},
   "source": [
    "---"
   ]
  },
  {
   "cell_type": "markdown",
   "metadata": {},
   "source": [
    "## <a id='step-0'>Шаг 0. Подготовка и настройка¶</a>"
   ]
  },
  {
   "cell_type": "code",
   "execution_count": 1,
   "metadata": {},
   "outputs": [],
   "source": [
    "# импорт библиотек\n",
    "import pandas as pd\n",
    "import numpy as np\n",
    "import math as mth\n",
    "from datetime import datetime\n",
    "\n",
    "from scipy import stats as st\n",
    "from termcolor import colored # раскраска текста\n",
    "\n",
    "import matplotlib.pyplot as plt\n",
    "import seaborn as sns"
   ]
  },
  {
   "cell_type": "code",
   "execution_count": 2,
   "metadata": {},
   "outputs": [],
   "source": [
    "# отключение предупреждений\n",
    "import warnings\n",
    "warnings.filterwarnings('ignore')"
   ]
  },
  {
   "cell_type": "code",
   "execution_count": 3,
   "metadata": {},
   "outputs": [],
   "source": [
    "# настройки графиков\n",
    "large = 16; medium = 14; small = 12\n",
    "\n",
    "params = {'axes.titlesize': large,\n",
    "          'axes.labelsize': medium,\n",
    "          'legend.fontsize': medium,\n",
    "          'figure.titlesize': large,\n",
    "          'figure.figsize': (10, 6),\n",
    "          'xtick.labelsize': small,\n",
    "          'ytick.labelsize': small,\n",
    "          'axes.grid': True,\n",
    "          'legend.loc': 'upper left',\n",
    "          'axes.titlepad': 20.0, # отступ названия графика\n",
    "          'axes.labelpad': 8.0, # отступ для подписей осей\n",
    "          'legend.title_fontsize': medium,\n",
    "         }\n",
    "plt.rcParams.update(params)\n",
    "# plt.rcParams.keys() # список параметров и их значения\n",
    "\n",
    "plt.style.use('seaborn-muted') # единый стиль графиков\n",
    "sns.set_style('white')"
   ]
  },
  {
   "cell_type": "markdown",
   "metadata": {},
   "source": [
    "<div align='right'><a href='#content'>↑ В начало проекта ↑</a></div>"
   ]
  },
  {
   "cell_type": "markdown",
   "metadata": {},
   "source": [
    "---"
   ]
  },
  {
   "cell_type": "markdown",
   "metadata": {},
   "source": [
    "## <a id='step-1'>Шаг 1. Загрузка и изучение данных</a>"
   ]
  },
  {
   "cell_type": "markdown",
   "metadata": {},
   "source": [
    "### 1.1. Автоматизация\n",
    "\n",
    "Так как датасетов у нас несколько, напишем **функцию `about_df`**, которая будет:\n",
    "- Принимать на вход имя файла;\n",
    "- Выводить примеры строк, информацию о датасете и числовое описание данных, количество и долю пропусков по каждому столбцу, количество дубликатов и сами дублирующиеся строки;\n",
    "- Возвращать прочитанный из файла датафрейм, чтобы его можно было сохранить в переменную."
   ]
  },
  {
   "cell_type": "code",
   "execution_count": 4,
   "metadata": {},
   "outputs": [],
   "source": [
    "def about_df(df_name):   \n",
    "    data = pd.read_csv('/datasets/{}.csv'.format(df_name))\n",
    "    \n",
    "    print(colored('Примеры строк:', attrs=['bold']))\n",
    "    if len(data)>=5:\n",
    "        display(data.sample(5))\n",
    "    else:\n",
    "        display(data)\n",
    "    \n",
    "    print(colored('\\nИнформация о датасете:', attrs=['bold']))\n",
    "    display(data.info())\n",
    "    \n",
    "    print(colored('\\nЧисловое описание данных:', attrs=['bold']))\n",
    "    display(data.describe())\n",
    "\n",
    "    print(colored('\\nПропуски (количество и доля):', attrs=['bold']))\n",
    "    display(data.isna().agg(['sum', 'mean']))\n",
    "    \n",
    "    # дубликаты\n",
    "    duplicates = data[data.duplicated()]\n",
    "    duplicates_cnt = len(duplicates)\n",
    "    print(colored('\\nКоличество дубликатов:', attrs=['bold']), duplicates_cnt)\n",
    "    if duplicates_cnt > 0:\n",
    "        display(duplicates_cnt)\n",
    "    \n",
    "    return data"
   ]
  },
  {
   "cell_type": "markdown",
   "metadata": {},
   "source": [
    "### 1.2. Календарь маркетинговых событий на 2020 год"
   ]
  },
  {
   "cell_type": "markdown",
   "metadata": {},
   "source": [
    "Воспользуемся написанной нами функцией:"
   ]
  },
  {
   "cell_type": "code",
   "execution_count": 5,
   "metadata": {},
   "outputs": [
    {
     "name": "stdout",
     "output_type": "stream",
     "text": [
      "\u001b[1mПримеры строк:\u001b[0m\n"
     ]
    },
    {
     "data": {
      "text/html": [
       "<div>\n",
       "<style scoped>\n",
       "    .dataframe tbody tr th:only-of-type {\n",
       "        vertical-align: middle;\n",
       "    }\n",
       "\n",
       "    .dataframe tbody tr th {\n",
       "        vertical-align: top;\n",
       "    }\n",
       "\n",
       "    .dataframe thead th {\n",
       "        text-align: right;\n",
       "    }\n",
       "</style>\n",
       "<table border=\"1\" class=\"dataframe\">\n",
       "  <thead>\n",
       "    <tr style=\"text-align: right;\">\n",
       "      <th></th>\n",
       "      <th>name</th>\n",
       "      <th>regions</th>\n",
       "      <th>start_dt</th>\n",
       "      <th>finish_dt</th>\n",
       "    </tr>\n",
       "  </thead>\n",
       "  <tbody>\n",
       "    <tr>\n",
       "      <td>11</td>\n",
       "      <td>Dragon Boat Festival Giveaway</td>\n",
       "      <td>APAC</td>\n",
       "      <td>2020-06-25</td>\n",
       "      <td>2020-07-01</td>\n",
       "    </tr>\n",
       "    <tr>\n",
       "      <td>2</td>\n",
       "      <td>St. Patric's Day Promo</td>\n",
       "      <td>EU, N.America</td>\n",
       "      <td>2020-03-17</td>\n",
       "      <td>2020-03-19</td>\n",
       "    </tr>\n",
       "    <tr>\n",
       "      <td>0</td>\n",
       "      <td>Christmas&amp;New Year Promo</td>\n",
       "      <td>EU, N.America</td>\n",
       "      <td>2020-12-25</td>\n",
       "      <td>2021-01-03</td>\n",
       "    </tr>\n",
       "    <tr>\n",
       "      <td>8</td>\n",
       "      <td>International Women's Day Promo</td>\n",
       "      <td>EU, CIS, APAC</td>\n",
       "      <td>2020-03-08</td>\n",
       "      <td>2020-03-10</td>\n",
       "    </tr>\n",
       "    <tr>\n",
       "      <td>7</td>\n",
       "      <td>Labor day (May 1st) Ads Campaign</td>\n",
       "      <td>EU, CIS, APAC</td>\n",
       "      <td>2020-05-01</td>\n",
       "      <td>2020-05-03</td>\n",
       "    </tr>\n",
       "  </tbody>\n",
       "</table>\n",
       "</div>"
      ],
      "text/plain": [
       "                                name        regions    start_dt   finish_dt\n",
       "11     Dragon Boat Festival Giveaway           APAC  2020-06-25  2020-07-01\n",
       "2             St. Patric's Day Promo  EU, N.America  2020-03-17  2020-03-19\n",
       "0           Christmas&New Year Promo  EU, N.America  2020-12-25  2021-01-03\n",
       "8    International Women's Day Promo  EU, CIS, APAC  2020-03-08  2020-03-10\n",
       "7   Labor day (May 1st) Ads Campaign  EU, CIS, APAC  2020-05-01  2020-05-03"
      ]
     },
     "metadata": {},
     "output_type": "display_data"
    },
    {
     "name": "stdout",
     "output_type": "stream",
     "text": [
      "\u001b[1m\n",
      "Информация о датасете:\u001b[0m\n",
      "<class 'pandas.core.frame.DataFrame'>\n",
      "RangeIndex: 14 entries, 0 to 13\n",
      "Data columns (total 4 columns):\n",
      "name         14 non-null object\n",
      "regions      14 non-null object\n",
      "start_dt     14 non-null object\n",
      "finish_dt    14 non-null object\n",
      "dtypes: object(4)\n",
      "memory usage: 576.0+ bytes\n"
     ]
    },
    {
     "data": {
      "text/plain": [
       "None"
      ]
     },
     "metadata": {},
     "output_type": "display_data"
    },
    {
     "name": "stdout",
     "output_type": "stream",
     "text": [
      "\u001b[1m\n",
      "Числовое описание данных:\u001b[0m\n"
     ]
    },
    {
     "data": {
      "text/html": [
       "<div>\n",
       "<style scoped>\n",
       "    .dataframe tbody tr th:only-of-type {\n",
       "        vertical-align: middle;\n",
       "    }\n",
       "\n",
       "    .dataframe tbody tr th {\n",
       "        vertical-align: top;\n",
       "    }\n",
       "\n",
       "    .dataframe thead th {\n",
       "        text-align: right;\n",
       "    }\n",
       "</style>\n",
       "<table border=\"1\" class=\"dataframe\">\n",
       "  <thead>\n",
       "    <tr style=\"text-align: right;\">\n",
       "      <th></th>\n",
       "      <th>name</th>\n",
       "      <th>regions</th>\n",
       "      <th>start_dt</th>\n",
       "      <th>finish_dt</th>\n",
       "    </tr>\n",
       "  </thead>\n",
       "  <tbody>\n",
       "    <tr>\n",
       "      <td>count</td>\n",
       "      <td>14</td>\n",
       "      <td>14</td>\n",
       "      <td>14</td>\n",
       "      <td>14</td>\n",
       "    </tr>\n",
       "    <tr>\n",
       "      <td>unique</td>\n",
       "      <td>14</td>\n",
       "      <td>6</td>\n",
       "      <td>14</td>\n",
       "      <td>14</td>\n",
       "    </tr>\n",
       "    <tr>\n",
       "      <td>top</td>\n",
       "      <td>Single's Day Gift Promo</td>\n",
       "      <td>APAC</td>\n",
       "      <td>2020-03-08</td>\n",
       "      <td>2020-03-19</td>\n",
       "    </tr>\n",
       "    <tr>\n",
       "      <td>freq</td>\n",
       "      <td>1</td>\n",
       "      <td>4</td>\n",
       "      <td>1</td>\n",
       "      <td>1</td>\n",
       "    </tr>\n",
       "  </tbody>\n",
       "</table>\n",
       "</div>"
      ],
      "text/plain": [
       "                           name regions    start_dt   finish_dt\n",
       "count                        14      14          14          14\n",
       "unique                       14       6          14          14\n",
       "top     Single's Day Gift Promo    APAC  2020-03-08  2020-03-19\n",
       "freq                          1       4           1           1"
      ]
     },
     "metadata": {},
     "output_type": "display_data"
    },
    {
     "name": "stdout",
     "output_type": "stream",
     "text": [
      "\u001b[1m\n",
      "Пропуски (количество и доля):\u001b[0m\n"
     ]
    },
    {
     "data": {
      "text/html": [
       "<div>\n",
       "<style scoped>\n",
       "    .dataframe tbody tr th:only-of-type {\n",
       "        vertical-align: middle;\n",
       "    }\n",
       "\n",
       "    .dataframe tbody tr th {\n",
       "        vertical-align: top;\n",
       "    }\n",
       "\n",
       "    .dataframe thead th {\n",
       "        text-align: right;\n",
       "    }\n",
       "</style>\n",
       "<table border=\"1\" class=\"dataframe\">\n",
       "  <thead>\n",
       "    <tr style=\"text-align: right;\">\n",
       "      <th></th>\n",
       "      <th>name</th>\n",
       "      <th>regions</th>\n",
       "      <th>start_dt</th>\n",
       "      <th>finish_dt</th>\n",
       "    </tr>\n",
       "  </thead>\n",
       "  <tbody>\n",
       "    <tr>\n",
       "      <td>sum</td>\n",
       "      <td>0.0</td>\n",
       "      <td>0.0</td>\n",
       "      <td>0.0</td>\n",
       "      <td>0.0</td>\n",
       "    </tr>\n",
       "    <tr>\n",
       "      <td>mean</td>\n",
       "      <td>0.0</td>\n",
       "      <td>0.0</td>\n",
       "      <td>0.0</td>\n",
       "      <td>0.0</td>\n",
       "    </tr>\n",
       "  </tbody>\n",
       "</table>\n",
       "</div>"
      ],
      "text/plain": [
       "      name  regions  start_dt  finish_dt\n",
       "sum    0.0      0.0       0.0        0.0\n",
       "mean   0.0      0.0       0.0        0.0"
      ]
     },
     "metadata": {},
     "output_type": "display_data"
    },
    {
     "name": "stdout",
     "output_type": "stream",
     "text": [
      "\u001b[1m\n",
      "Количество дубликатов:\u001b[0m 0\n"
     ]
    }
   ],
   "source": [
    "mark_events = about_df('ab_project_marketing_events')"
   ]
  },
  {
   "cell_type": "markdown",
   "metadata": {},
   "source": [
    "Пропусков и дубликатов нет, но потребуется преобразовать значения `start_dt` и `finish_dt` в даты."
   ]
  },
  {
   "cell_type": "markdown",
   "metadata": {},
   "source": [
    "### 1.3. Данные о пользователях, зарегистрировавшихся с 7 по 21 декабря 2020 года"
   ]
  },
  {
   "cell_type": "code",
   "execution_count": 6,
   "metadata": {},
   "outputs": [
    {
     "name": "stdout",
     "output_type": "stream",
     "text": [
      "\u001b[1mПримеры строк:\u001b[0m\n"
     ]
    },
    {
     "data": {
      "text/html": [
       "<div>\n",
       "<style scoped>\n",
       "    .dataframe tbody tr th:only-of-type {\n",
       "        vertical-align: middle;\n",
       "    }\n",
       "\n",
       "    .dataframe tbody tr th {\n",
       "        vertical-align: top;\n",
       "    }\n",
       "\n",
       "    .dataframe thead th {\n",
       "        text-align: right;\n",
       "    }\n",
       "</style>\n",
       "<table border=\"1\" class=\"dataframe\">\n",
       "  <thead>\n",
       "    <tr style=\"text-align: right;\">\n",
       "      <th></th>\n",
       "      <th>user_id</th>\n",
       "      <th>first_date</th>\n",
       "      <th>region</th>\n",
       "      <th>device</th>\n",
       "    </tr>\n",
       "  </thead>\n",
       "  <tbody>\n",
       "    <tr>\n",
       "      <td>53753</td>\n",
       "      <td>F6610DC19E913355</td>\n",
       "      <td>2020-12-13</td>\n",
       "      <td>APAC</td>\n",
       "      <td>iPhone</td>\n",
       "    </tr>\n",
       "    <tr>\n",
       "      <td>38819</td>\n",
       "      <td>3044AD6360167980</td>\n",
       "      <td>2020-12-17</td>\n",
       "      <td>EU</td>\n",
       "      <td>iPhone</td>\n",
       "    </tr>\n",
       "    <tr>\n",
       "      <td>41255</td>\n",
       "      <td>F466E95593D447F8</td>\n",
       "      <td>2020-12-11</td>\n",
       "      <td>EU</td>\n",
       "      <td>Android</td>\n",
       "    </tr>\n",
       "    <tr>\n",
       "      <td>51934</td>\n",
       "      <td>EDC86B77C42EF17C</td>\n",
       "      <td>2020-12-19</td>\n",
       "      <td>EU</td>\n",
       "      <td>iPhone</td>\n",
       "    </tr>\n",
       "    <tr>\n",
       "      <td>59198</td>\n",
       "      <td>A21EFAA06070F630</td>\n",
       "      <td>2020-12-20</td>\n",
       "      <td>APAC</td>\n",
       "      <td>Android</td>\n",
       "    </tr>\n",
       "  </tbody>\n",
       "</table>\n",
       "</div>"
      ],
      "text/plain": [
       "                user_id  first_date region   device\n",
       "53753  F6610DC19E913355  2020-12-13   APAC   iPhone\n",
       "38819  3044AD6360167980  2020-12-17     EU   iPhone\n",
       "41255  F466E95593D447F8  2020-12-11     EU  Android\n",
       "51934  EDC86B77C42EF17C  2020-12-19     EU   iPhone\n",
       "59198  A21EFAA06070F630  2020-12-20   APAC  Android"
      ]
     },
     "metadata": {},
     "output_type": "display_data"
    },
    {
     "name": "stdout",
     "output_type": "stream",
     "text": [
      "\u001b[1m\n",
      "Информация о датасете:\u001b[0m\n",
      "<class 'pandas.core.frame.DataFrame'>\n",
      "RangeIndex: 61733 entries, 0 to 61732\n",
      "Data columns (total 4 columns):\n",
      "user_id       61733 non-null object\n",
      "first_date    61733 non-null object\n",
      "region        61733 non-null object\n",
      "device        61733 non-null object\n",
      "dtypes: object(4)\n",
      "memory usage: 1.9+ MB\n"
     ]
    },
    {
     "data": {
      "text/plain": [
       "None"
      ]
     },
     "metadata": {},
     "output_type": "display_data"
    },
    {
     "name": "stdout",
     "output_type": "stream",
     "text": [
      "\u001b[1m\n",
      "Числовое описание данных:\u001b[0m\n"
     ]
    },
    {
     "data": {
      "text/html": [
       "<div>\n",
       "<style scoped>\n",
       "    .dataframe tbody tr th:only-of-type {\n",
       "        vertical-align: middle;\n",
       "    }\n",
       "\n",
       "    .dataframe tbody tr th {\n",
       "        vertical-align: top;\n",
       "    }\n",
       "\n",
       "    .dataframe thead th {\n",
       "        text-align: right;\n",
       "    }\n",
       "</style>\n",
       "<table border=\"1\" class=\"dataframe\">\n",
       "  <thead>\n",
       "    <tr style=\"text-align: right;\">\n",
       "      <th></th>\n",
       "      <th>user_id</th>\n",
       "      <th>first_date</th>\n",
       "      <th>region</th>\n",
       "      <th>device</th>\n",
       "    </tr>\n",
       "  </thead>\n",
       "  <tbody>\n",
       "    <tr>\n",
       "      <td>count</td>\n",
       "      <td>61733</td>\n",
       "      <td>61733</td>\n",
       "      <td>61733</td>\n",
       "      <td>61733</td>\n",
       "    </tr>\n",
       "    <tr>\n",
       "      <td>unique</td>\n",
       "      <td>61733</td>\n",
       "      <td>17</td>\n",
       "      <td>4</td>\n",
       "      <td>4</td>\n",
       "    </tr>\n",
       "    <tr>\n",
       "      <td>top</td>\n",
       "      <td>B279667F69E9D4E5</td>\n",
       "      <td>2020-12-21</td>\n",
       "      <td>EU</td>\n",
       "      <td>Android</td>\n",
       "    </tr>\n",
       "    <tr>\n",
       "      <td>freq</td>\n",
       "      <td>1</td>\n",
       "      <td>6290</td>\n",
       "      <td>46270</td>\n",
       "      <td>27520</td>\n",
       "    </tr>\n",
       "  </tbody>\n",
       "</table>\n",
       "</div>"
      ],
      "text/plain": [
       "                 user_id  first_date region   device\n",
       "count              61733       61733  61733    61733\n",
       "unique             61733          17      4        4\n",
       "top     B279667F69E9D4E5  2020-12-21     EU  Android\n",
       "freq                   1        6290  46270    27520"
      ]
     },
     "metadata": {},
     "output_type": "display_data"
    },
    {
     "name": "stdout",
     "output_type": "stream",
     "text": [
      "\u001b[1m\n",
      "Пропуски (количество и доля):\u001b[0m\n"
     ]
    },
    {
     "data": {
      "text/html": [
       "<div>\n",
       "<style scoped>\n",
       "    .dataframe tbody tr th:only-of-type {\n",
       "        vertical-align: middle;\n",
       "    }\n",
       "\n",
       "    .dataframe tbody tr th {\n",
       "        vertical-align: top;\n",
       "    }\n",
       "\n",
       "    .dataframe thead th {\n",
       "        text-align: right;\n",
       "    }\n",
       "</style>\n",
       "<table border=\"1\" class=\"dataframe\">\n",
       "  <thead>\n",
       "    <tr style=\"text-align: right;\">\n",
       "      <th></th>\n",
       "      <th>user_id</th>\n",
       "      <th>first_date</th>\n",
       "      <th>region</th>\n",
       "      <th>device</th>\n",
       "    </tr>\n",
       "  </thead>\n",
       "  <tbody>\n",
       "    <tr>\n",
       "      <td>sum</td>\n",
       "      <td>0.0</td>\n",
       "      <td>0.0</td>\n",
       "      <td>0.0</td>\n",
       "      <td>0.0</td>\n",
       "    </tr>\n",
       "    <tr>\n",
       "      <td>mean</td>\n",
       "      <td>0.0</td>\n",
       "      <td>0.0</td>\n",
       "      <td>0.0</td>\n",
       "      <td>0.0</td>\n",
       "    </tr>\n",
       "  </tbody>\n",
       "</table>\n",
       "</div>"
      ],
      "text/plain": [
       "      user_id  first_date  region  device\n",
       "sum       0.0         0.0     0.0     0.0\n",
       "mean      0.0         0.0     0.0     0.0"
      ]
     },
     "metadata": {},
     "output_type": "display_data"
    },
    {
     "name": "stdout",
     "output_type": "stream",
     "text": [
      "\u001b[1m\n",
      "Количество дубликатов:\u001b[0m 0\n"
     ]
    }
   ],
   "source": [
    "users = about_df('final_ab_new_users')"
   ]
  },
  {
   "cell_type": "markdown",
   "metadata": {},
   "source": [
    "Дополнительно посмотрим на регионы:"
   ]
  },
  {
   "cell_type": "code",
   "execution_count": 7,
   "metadata": {},
   "outputs": [
    {
     "data": {
      "text/plain": [
       "EU           46270\n",
       "N.America     9155\n",
       "CIS           3155\n",
       "APAC          3153\n",
       "Name: region, dtype: int64"
      ]
     },
     "execution_count": 7,
     "metadata": {},
     "output_type": "execute_result"
    }
   ],
   "source": [
    "# регионы пользователей\n",
    "users['region'].value_counts()"
   ]
  },
  {
   "cell_type": "markdown",
   "metadata": {},
   "source": [
    "Пропусков и дубликатов нет, но нужно преобразовать значения столбца `first_date` в даты.\n",
    "\n",
    "Так же стоит отметить, что нам понадобятся данные только по пользователям из региона EU."
   ]
  },
  {
   "cell_type": "markdown",
   "metadata": {},
   "source": [
    "### 1.4. Действия новых пользователей в период с 7 декабря 2020 по 4 января 2021 года"
   ]
  },
  {
   "cell_type": "code",
   "execution_count": 8,
   "metadata": {},
   "outputs": [
    {
     "name": "stdout",
     "output_type": "stream",
     "text": [
      "\u001b[1mПримеры строк:\u001b[0m\n"
     ]
    },
    {
     "data": {
      "text/html": [
       "<div>\n",
       "<style scoped>\n",
       "    .dataframe tbody tr th:only-of-type {\n",
       "        vertical-align: middle;\n",
       "    }\n",
       "\n",
       "    .dataframe tbody tr th {\n",
       "        vertical-align: top;\n",
       "    }\n",
       "\n",
       "    .dataframe thead th {\n",
       "        text-align: right;\n",
       "    }\n",
       "</style>\n",
       "<table border=\"1\" class=\"dataframe\">\n",
       "  <thead>\n",
       "    <tr style=\"text-align: right;\">\n",
       "      <th></th>\n",
       "      <th>user_id</th>\n",
       "      <th>event_dt</th>\n",
       "      <th>event_name</th>\n",
       "      <th>details</th>\n",
       "    </tr>\n",
       "  </thead>\n",
       "  <tbody>\n",
       "    <tr>\n",
       "      <td>178387</td>\n",
       "      <td>A43E4DB61B2DD333</td>\n",
       "      <td>2020-12-17 07:08:54</td>\n",
       "      <td>product_page</td>\n",
       "      <td>NaN</td>\n",
       "    </tr>\n",
       "    <tr>\n",
       "      <td>153053</td>\n",
       "      <td>A8840CCBACBF90D8</td>\n",
       "      <td>2020-12-13 04:17:34</td>\n",
       "      <td>product_page</td>\n",
       "      <td>NaN</td>\n",
       "    </tr>\n",
       "    <tr>\n",
       "      <td>360309</td>\n",
       "      <td>7B36B9F6F4C05178</td>\n",
       "      <td>2020-12-20 04:05:17</td>\n",
       "      <td>login</td>\n",
       "      <td>NaN</td>\n",
       "    </tr>\n",
       "    <tr>\n",
       "      <td>203511</td>\n",
       "      <td>4818B54E07673DE8</td>\n",
       "      <td>2020-12-21 11:11:19</td>\n",
       "      <td>product_page</td>\n",
       "      <td>NaN</td>\n",
       "    </tr>\n",
       "    <tr>\n",
       "      <td>114008</td>\n",
       "      <td>259F821656042A11</td>\n",
       "      <td>2020-12-24 20:21:45</td>\n",
       "      <td>product_cart</td>\n",
       "      <td>NaN</td>\n",
       "    </tr>\n",
       "  </tbody>\n",
       "</table>\n",
       "</div>"
      ],
      "text/plain": [
       "                 user_id             event_dt    event_name  details\n",
       "178387  A43E4DB61B2DD333  2020-12-17 07:08:54  product_page      NaN\n",
       "153053  A8840CCBACBF90D8  2020-12-13 04:17:34  product_page      NaN\n",
       "360309  7B36B9F6F4C05178  2020-12-20 04:05:17         login      NaN\n",
       "203511  4818B54E07673DE8  2020-12-21 11:11:19  product_page      NaN\n",
       "114008  259F821656042A11  2020-12-24 20:21:45  product_cart      NaN"
      ]
     },
     "metadata": {},
     "output_type": "display_data"
    },
    {
     "name": "stdout",
     "output_type": "stream",
     "text": [
      "\u001b[1m\n",
      "Информация о датасете:\u001b[0m\n",
      "<class 'pandas.core.frame.DataFrame'>\n",
      "RangeIndex: 440317 entries, 0 to 440316\n",
      "Data columns (total 4 columns):\n",
      "user_id       440317 non-null object\n",
      "event_dt      440317 non-null object\n",
      "event_name    440317 non-null object\n",
      "details       62740 non-null float64\n",
      "dtypes: float64(1), object(3)\n",
      "memory usage: 13.4+ MB\n"
     ]
    },
    {
     "data": {
      "text/plain": [
       "None"
      ]
     },
     "metadata": {},
     "output_type": "display_data"
    },
    {
     "name": "stdout",
     "output_type": "stream",
     "text": [
      "\u001b[1m\n",
      "Числовое описание данных:\u001b[0m\n"
     ]
    },
    {
     "data": {
      "text/html": [
       "<div>\n",
       "<style scoped>\n",
       "    .dataframe tbody tr th:only-of-type {\n",
       "        vertical-align: middle;\n",
       "    }\n",
       "\n",
       "    .dataframe tbody tr th {\n",
       "        vertical-align: top;\n",
       "    }\n",
       "\n",
       "    .dataframe thead th {\n",
       "        text-align: right;\n",
       "    }\n",
       "</style>\n",
       "<table border=\"1\" class=\"dataframe\">\n",
       "  <thead>\n",
       "    <tr style=\"text-align: right;\">\n",
       "      <th></th>\n",
       "      <th>details</th>\n",
       "    </tr>\n",
       "  </thead>\n",
       "  <tbody>\n",
       "    <tr>\n",
       "      <td>count</td>\n",
       "      <td>62740.000000</td>\n",
       "    </tr>\n",
       "    <tr>\n",
       "      <td>mean</td>\n",
       "      <td>23.877631</td>\n",
       "    </tr>\n",
       "    <tr>\n",
       "      <td>std</td>\n",
       "      <td>72.180465</td>\n",
       "    </tr>\n",
       "    <tr>\n",
       "      <td>min</td>\n",
       "      <td>4.990000</td>\n",
       "    </tr>\n",
       "    <tr>\n",
       "      <td>25%</td>\n",
       "      <td>4.990000</td>\n",
       "    </tr>\n",
       "    <tr>\n",
       "      <td>50%</td>\n",
       "      <td>4.990000</td>\n",
       "    </tr>\n",
       "    <tr>\n",
       "      <td>75%</td>\n",
       "      <td>9.990000</td>\n",
       "    </tr>\n",
       "    <tr>\n",
       "      <td>max</td>\n",
       "      <td>499.990000</td>\n",
       "    </tr>\n",
       "  </tbody>\n",
       "</table>\n",
       "</div>"
      ],
      "text/plain": [
       "            details\n",
       "count  62740.000000\n",
       "mean      23.877631\n",
       "std       72.180465\n",
       "min        4.990000\n",
       "25%        4.990000\n",
       "50%        4.990000\n",
       "75%        9.990000\n",
       "max      499.990000"
      ]
     },
     "metadata": {},
     "output_type": "display_data"
    },
    {
     "name": "stdout",
     "output_type": "stream",
     "text": [
      "\u001b[1m\n",
      "Пропуски (количество и доля):\u001b[0m\n"
     ]
    },
    {
     "data": {
      "text/html": [
       "<div>\n",
       "<style scoped>\n",
       "    .dataframe tbody tr th:only-of-type {\n",
       "        vertical-align: middle;\n",
       "    }\n",
       "\n",
       "    .dataframe tbody tr th {\n",
       "        vertical-align: top;\n",
       "    }\n",
       "\n",
       "    .dataframe thead th {\n",
       "        text-align: right;\n",
       "    }\n",
       "</style>\n",
       "<table border=\"1\" class=\"dataframe\">\n",
       "  <thead>\n",
       "    <tr style=\"text-align: right;\">\n",
       "      <th></th>\n",
       "      <th>user_id</th>\n",
       "      <th>event_dt</th>\n",
       "      <th>event_name</th>\n",
       "      <th>details</th>\n",
       "    </tr>\n",
       "  </thead>\n",
       "  <tbody>\n",
       "    <tr>\n",
       "      <td>sum</td>\n",
       "      <td>0.0</td>\n",
       "      <td>0.0</td>\n",
       "      <td>0.0</td>\n",
       "      <td>377577.000000</td>\n",
       "    </tr>\n",
       "    <tr>\n",
       "      <td>mean</td>\n",
       "      <td>0.0</td>\n",
       "      <td>0.0</td>\n",
       "      <td>0.0</td>\n",
       "      <td>0.857512</td>\n",
       "    </tr>\n",
       "  </tbody>\n",
       "</table>\n",
       "</div>"
      ],
      "text/plain": [
       "      user_id  event_dt  event_name        details\n",
       "sum       0.0       0.0         0.0  377577.000000\n",
       "mean      0.0       0.0         0.0       0.857512"
      ]
     },
     "metadata": {},
     "output_type": "display_data"
    },
    {
     "name": "stdout",
     "output_type": "stream",
     "text": [
      "\u001b[1m\n",
      "Количество дубликатов:\u001b[0m 0\n"
     ]
    }
   ],
   "source": [
    "events = about_df('final_ab_events')"
   ]
  },
  {
   "cell_type": "markdown",
   "metadata": {},
   "source": [
    "Посмотрим, по событиям каких типов есть информация в поле `details`:"
   ]
  },
  {
   "cell_type": "code",
   "execution_count": 9,
   "metadata": {},
   "outputs": [
    {
     "data": {
      "text/plain": [
       "purchase    62740\n",
       "Name: event_name, dtype: int64"
      ]
     },
     "execution_count": 9,
     "metadata": {},
     "output_type": "execute_result"
    }
   ],
   "source": [
    "events.loc[~events['details'].isna(), 'event_name'].value_counts()"
   ]
  },
  {
   "cell_type": "markdown",
   "metadata": {},
   "source": [
    "Детали есть только по покупкам. Посмотрим, по всем ли покупкам есть детали:"
   ]
  },
  {
   "cell_type": "code",
   "execution_count": 10,
   "metadata": {},
   "outputs": [
    {
     "data": {
      "text/plain": [
       "0"
      ]
     },
     "execution_count": 10,
     "metadata": {},
     "output_type": "execute_result"
    }
   ],
   "source": [
    "events.loc[events['event_name'] == 'purchase', 'details'].isna().sum()"
   ]
  },
  {
   "cell_type": "markdown",
   "metadata": {},
   "source": [
    "Итого, дубликатов нет, а пропуски в `details` объясняются тем, что детали есть по событиям только одного типа (`purchase`). При этом по каждой покупке есть детали.\n",
    "\n",
    "В этом датасете нужно:\n",
    "- Преобразовать значения столбца `event_dt` в дату и время;\n",
    "- Добавить столбец с датой без времени."
   ]
  },
  {
   "cell_type": "markdown",
   "metadata": {},
   "source": [
    "### 1.5. Таблица участников тестов"
   ]
  },
  {
   "cell_type": "code",
   "execution_count": 11,
   "metadata": {},
   "outputs": [
    {
     "name": "stdout",
     "output_type": "stream",
     "text": [
      "\u001b[1mПримеры строк:\u001b[0m\n"
     ]
    },
    {
     "data": {
      "text/html": [
       "<div>\n",
       "<style scoped>\n",
       "    .dataframe tbody tr th:only-of-type {\n",
       "        vertical-align: middle;\n",
       "    }\n",
       "\n",
       "    .dataframe tbody tr th {\n",
       "        vertical-align: top;\n",
       "    }\n",
       "\n",
       "    .dataframe thead th {\n",
       "        text-align: right;\n",
       "    }\n",
       "</style>\n",
       "<table border=\"1\" class=\"dataframe\">\n",
       "  <thead>\n",
       "    <tr style=\"text-align: right;\">\n",
       "      <th></th>\n",
       "      <th>user_id</th>\n",
       "      <th>group</th>\n",
       "      <th>ab_test</th>\n",
       "    </tr>\n",
       "  </thead>\n",
       "  <tbody>\n",
       "    <tr>\n",
       "      <td>14107</td>\n",
       "      <td>32570DEBD1999D3A</td>\n",
       "      <td>A</td>\n",
       "      <td>interface_eu_test</td>\n",
       "    </tr>\n",
       "    <tr>\n",
       "      <td>5963</td>\n",
       "      <td>70A42D781A4E0CF4</td>\n",
       "      <td>B</td>\n",
       "      <td>recommender_system_test</td>\n",
       "    </tr>\n",
       "    <tr>\n",
       "      <td>16684</td>\n",
       "      <td>ED114A9E9373208C</td>\n",
       "      <td>B</td>\n",
       "      <td>interface_eu_test</td>\n",
       "    </tr>\n",
       "    <tr>\n",
       "      <td>10369</td>\n",
       "      <td>E1F5559721CC6E4D</td>\n",
       "      <td>A</td>\n",
       "      <td>interface_eu_test</td>\n",
       "    </tr>\n",
       "    <tr>\n",
       "      <td>7485</td>\n",
       "      <td>F8151E51EA08F337</td>\n",
       "      <td>A</td>\n",
       "      <td>interface_eu_test</td>\n",
       "    </tr>\n",
       "  </tbody>\n",
       "</table>\n",
       "</div>"
      ],
      "text/plain": [
       "                user_id group                  ab_test\n",
       "14107  32570DEBD1999D3A     A        interface_eu_test\n",
       "5963   70A42D781A4E0CF4     B  recommender_system_test\n",
       "16684  ED114A9E9373208C     B        interface_eu_test\n",
       "10369  E1F5559721CC6E4D     A        interface_eu_test\n",
       "7485   F8151E51EA08F337     A        interface_eu_test"
      ]
     },
     "metadata": {},
     "output_type": "display_data"
    },
    {
     "name": "stdout",
     "output_type": "stream",
     "text": [
      "\u001b[1m\n",
      "Информация о датасете:\u001b[0m\n",
      "<class 'pandas.core.frame.DataFrame'>\n",
      "RangeIndex: 18268 entries, 0 to 18267\n",
      "Data columns (total 3 columns):\n",
      "user_id    18268 non-null object\n",
      "group      18268 non-null object\n",
      "ab_test    18268 non-null object\n",
      "dtypes: object(3)\n",
      "memory usage: 428.3+ KB\n"
     ]
    },
    {
     "data": {
      "text/plain": [
       "None"
      ]
     },
     "metadata": {},
     "output_type": "display_data"
    },
    {
     "name": "stdout",
     "output_type": "stream",
     "text": [
      "\u001b[1m\n",
      "Числовое описание данных:\u001b[0m\n"
     ]
    },
    {
     "data": {
      "text/html": [
       "<div>\n",
       "<style scoped>\n",
       "    .dataframe tbody tr th:only-of-type {\n",
       "        vertical-align: middle;\n",
       "    }\n",
       "\n",
       "    .dataframe tbody tr th {\n",
       "        vertical-align: top;\n",
       "    }\n",
       "\n",
       "    .dataframe thead th {\n",
       "        text-align: right;\n",
       "    }\n",
       "</style>\n",
       "<table border=\"1\" class=\"dataframe\">\n",
       "  <thead>\n",
       "    <tr style=\"text-align: right;\">\n",
       "      <th></th>\n",
       "      <th>user_id</th>\n",
       "      <th>group</th>\n",
       "      <th>ab_test</th>\n",
       "    </tr>\n",
       "  </thead>\n",
       "  <tbody>\n",
       "    <tr>\n",
       "      <td>count</td>\n",
       "      <td>18268</td>\n",
       "      <td>18268</td>\n",
       "      <td>18268</td>\n",
       "    </tr>\n",
       "    <tr>\n",
       "      <td>unique</td>\n",
       "      <td>16666</td>\n",
       "      <td>2</td>\n",
       "      <td>2</td>\n",
       "    </tr>\n",
       "    <tr>\n",
       "      <td>top</td>\n",
       "      <td>E253DCB9EC1C014E</td>\n",
       "      <td>A</td>\n",
       "      <td>interface_eu_test</td>\n",
       "    </tr>\n",
       "    <tr>\n",
       "      <td>freq</td>\n",
       "      <td>2</td>\n",
       "      <td>9655</td>\n",
       "      <td>11567</td>\n",
       "    </tr>\n",
       "  </tbody>\n",
       "</table>\n",
       "</div>"
      ],
      "text/plain": [
       "                 user_id  group            ab_test\n",
       "count              18268  18268              18268\n",
       "unique             16666      2                  2\n",
       "top     E253DCB9EC1C014E      A  interface_eu_test\n",
       "freq                   2   9655              11567"
      ]
     },
     "metadata": {},
     "output_type": "display_data"
    },
    {
     "name": "stdout",
     "output_type": "stream",
     "text": [
      "\u001b[1m\n",
      "Пропуски (количество и доля):\u001b[0m\n"
     ]
    },
    {
     "data": {
      "text/html": [
       "<div>\n",
       "<style scoped>\n",
       "    .dataframe tbody tr th:only-of-type {\n",
       "        vertical-align: middle;\n",
       "    }\n",
       "\n",
       "    .dataframe tbody tr th {\n",
       "        vertical-align: top;\n",
       "    }\n",
       "\n",
       "    .dataframe thead th {\n",
       "        text-align: right;\n",
       "    }\n",
       "</style>\n",
       "<table border=\"1\" class=\"dataframe\">\n",
       "  <thead>\n",
       "    <tr style=\"text-align: right;\">\n",
       "      <th></th>\n",
       "      <th>user_id</th>\n",
       "      <th>group</th>\n",
       "      <th>ab_test</th>\n",
       "    </tr>\n",
       "  </thead>\n",
       "  <tbody>\n",
       "    <tr>\n",
       "      <td>sum</td>\n",
       "      <td>0.0</td>\n",
       "      <td>0.0</td>\n",
       "      <td>0.0</td>\n",
       "    </tr>\n",
       "    <tr>\n",
       "      <td>mean</td>\n",
       "      <td>0.0</td>\n",
       "      <td>0.0</td>\n",
       "      <td>0.0</td>\n",
       "    </tr>\n",
       "  </tbody>\n",
       "</table>\n",
       "</div>"
      ],
      "text/plain": [
       "      user_id  group  ab_test\n",
       "sum       0.0    0.0      0.0\n",
       "mean      0.0    0.0      0.0"
      ]
     },
     "metadata": {},
     "output_type": "display_data"
    },
    {
     "name": "stdout",
     "output_type": "stream",
     "text": [
      "\u001b[1m\n",
      "Количество дубликатов:\u001b[0m 0\n"
     ]
    }
   ],
   "source": [
    "tests = about_df('final_ab_participants')"
   ]
  },
  {
   "cell_type": "markdown",
   "metadata": {},
   "source": [
    "Видим:\n",
    "- Пропусков нет;\n",
    "- Судя по общему количеству и количеству уникальных значений в поле `user_id`, у нас есть пользователи, которые попали либо в несколько тестов, либо в несколько групп в одном тесте, либо и то, и другое. Выясним это на этапе оценки корректности проведения теста."
   ]
  },
  {
   "cell_type": "markdown",
   "metadata": {},
   "source": [
    "### Промежуточные выводы\n",
    "\n",
    "По итогам ознакомления данных обозначили фронт работы по предобработке данных:\n",
    "\n",
    "- Датасет `mark_events`: преобразовать значения `start_dt` и `finish_dt` в даты.\n",
    "\n",
    "\n",
    "- `users` — `first_date` в даты;\n",
    "\n",
    "\n",
    "- `events`:\n",
    "  - `event_dt` в дату и время;\n",
    "  - Добавить столбец с датой без времени."
   ]
  },
  {
   "cell_type": "markdown",
   "metadata": {},
   "source": [
    "<div align='right'><a href='#content'>↑ В начало проекта ↑</a></div>"
   ]
  },
  {
   "cell_type": "markdown",
   "metadata": {},
   "source": [
    "---"
   ]
  },
  {
   "cell_type": "markdown",
   "metadata": {},
   "source": [
    "## <a id='step-2'>Шаг 2. Предобработка данных</a>"
   ]
  },
  {
   "cell_type": "markdown",
   "metadata": {},
   "source": [
    "1. Преобразуем даты в столбцах датасетов:"
   ]
  },
  {
   "cell_type": "code",
   "execution_count": 12,
   "metadata": {},
   "outputs": [
    {
     "name": "stdout",
     "output_type": "stream",
     "text": [
      "Тип данных в столбцe start_dt: datetime64[ns]\n",
      "Тип данных в столбцe finish_dt: datetime64[ns]\n",
      "Тип данных в столбцe first_date: datetime64[ns]\n",
      "Тип данных в столбцe event_dt: datetime64[ns]\n"
     ]
    }
   ],
   "source": [
    "# список датасетов, в которых есть столбцы с датами\n",
    "list_of_dfs = (mark_events, users, events)\n",
    "\n",
    "for df in list_of_dfs:\n",
    "    for col in df.columns:\n",
    "        if 'dt' in col or 'date' in col:\n",
    "            df[col] = pd.to_datetime(df[col], format='%Y-%m-%d')\n",
    "            print(f'Тип данных в столбцe {col}: {df[col].dtypes}')"
   ]
  },
  {
   "cell_type": "markdown",
   "metadata": {},
   "source": [
    "2. В датафрейме `events` выделим только дату события в отдельный столбец:"
   ]
  },
  {
   "cell_type": "code",
   "execution_count": 13,
   "metadata": {},
   "outputs": [
    {
     "data": {
      "text/html": [
       "<div>\n",
       "<style scoped>\n",
       "    .dataframe tbody tr th:only-of-type {\n",
       "        vertical-align: middle;\n",
       "    }\n",
       "\n",
       "    .dataframe tbody tr th {\n",
       "        vertical-align: top;\n",
       "    }\n",
       "\n",
       "    .dataframe thead th {\n",
       "        text-align: right;\n",
       "    }\n",
       "</style>\n",
       "<table border=\"1\" class=\"dataframe\">\n",
       "  <thead>\n",
       "    <tr style=\"text-align: right;\">\n",
       "      <th></th>\n",
       "      <th>user_id</th>\n",
       "      <th>event_dt</th>\n",
       "      <th>event_name</th>\n",
       "      <th>details</th>\n",
       "      <th>event_date</th>\n",
       "    </tr>\n",
       "  </thead>\n",
       "  <tbody>\n",
       "    <tr>\n",
       "      <td>199455</td>\n",
       "      <td>774A367EB8578253</td>\n",
       "      <td>2020-12-20 19:53:08</td>\n",
       "      <td>product_page</td>\n",
       "      <td>NaN</td>\n",
       "      <td>2020-12-20</td>\n",
       "    </tr>\n",
       "    <tr>\n",
       "      <td>230531</td>\n",
       "      <td>950D8D7721EA55D3</td>\n",
       "      <td>2020-12-24 16:22:17</td>\n",
       "      <td>product_page</td>\n",
       "      <td>NaN</td>\n",
       "      <td>2020-12-24</td>\n",
       "    </tr>\n",
       "    <tr>\n",
       "      <td>144539</td>\n",
       "      <td>DD1B5BFEFC7F8285</td>\n",
       "      <td>2020-12-12 17:22:53</td>\n",
       "      <td>product_page</td>\n",
       "      <td>NaN</td>\n",
       "      <td>2020-12-12</td>\n",
       "    </tr>\n",
       "    <tr>\n",
       "      <td>76195</td>\n",
       "      <td>9BC31D71886CC19C</td>\n",
       "      <td>2020-12-13 07:55:14</td>\n",
       "      <td>product_cart</td>\n",
       "      <td>NaN</td>\n",
       "      <td>2020-12-13</td>\n",
       "    </tr>\n",
       "    <tr>\n",
       "      <td>232561</td>\n",
       "      <td>83D1B1A0DBE80B4B</td>\n",
       "      <td>2020-12-25 05:26:04</td>\n",
       "      <td>product_page</td>\n",
       "      <td>NaN</td>\n",
       "      <td>2020-12-25</td>\n",
       "    </tr>\n",
       "  </tbody>\n",
       "</table>\n",
       "</div>"
      ],
      "text/plain": [
       "                 user_id            event_dt    event_name  details event_date\n",
       "199455  774A367EB8578253 2020-12-20 19:53:08  product_page      NaN 2020-12-20\n",
       "230531  950D8D7721EA55D3 2020-12-24 16:22:17  product_page      NaN 2020-12-24\n",
       "144539  DD1B5BFEFC7F8285 2020-12-12 17:22:53  product_page      NaN 2020-12-12\n",
       "76195   9BC31D71886CC19C 2020-12-13 07:55:14  product_cart      NaN 2020-12-13\n",
       "232561  83D1B1A0DBE80B4B 2020-12-25 05:26:04  product_page      NaN 2020-12-25"
      ]
     },
     "execution_count": 13,
     "metadata": {},
     "output_type": "execute_result"
    }
   ],
   "source": [
    "events['event_date'] = pd.to_datetime(events['event_dt'].dt.date)\n",
    "events.sample(5)"
   ]
  },
  {
   "cell_type": "code",
   "execution_count": 14,
   "metadata": {},
   "outputs": [
    {
     "name": "stdout",
     "output_type": "stream",
     "text": [
      "<class 'pandas.core.frame.DataFrame'>\n",
      "RangeIndex: 440317 entries, 0 to 440316\n",
      "Data columns (total 5 columns):\n",
      "user_id       440317 non-null object\n",
      "event_dt      440317 non-null datetime64[ns]\n",
      "event_name    440317 non-null object\n",
      "details       62740 non-null float64\n",
      "event_date    440317 non-null datetime64[ns]\n",
      "dtypes: datetime64[ns](2), float64(1), object(2)\n",
      "memory usage: 16.8+ MB\n"
     ]
    }
   ],
   "source": [
    "events.info()"
   ]
  },
  {
   "cell_type": "markdown",
   "metadata": {},
   "source": [
    "### Промежуточные выводы\n",
    "\n",
    "На этом этапе мы преобразовали типы данных в столбцах с датами и выделили только дату без времени в датафрейме `events`."
   ]
  },
  {
   "cell_type": "markdown",
   "metadata": {},
   "source": [
    "<div align='right'><a href='#content'>↑ В начало проекта ↑</a></div>"
   ]
  },
  {
   "cell_type": "markdown",
   "metadata": {},
   "source": [
    "---"
   ]
  },
  {
   "cell_type": "markdown",
   "metadata": {},
   "source": [
    "## <a id='step-3'>Шаг 3. Оценка корректности проведения A/B-теста</a>"
   ]
  },
  {
   "cell_type": "markdown",
   "metadata": {},
   "source": [
    "1. Зафиксируем в переменных условия теста:"
   ]
  },
  {
   "cell_type": "code",
   "execution_count": 15,
   "metadata": {},
   "outputs": [],
   "source": [
    "# название теста\n",
    "test_name = 'recommender_system_test'\n",
    "\n",
    "# дата запуска теста\n",
    "test_start = datetime(2020,12,7).strftime('%Y-%m-%d')\n",
    "\n",
    "# дата остановки набора новых пользователей\n",
    "new_users_end = datetime(2020,12,21).strftime('%Y-%m-%d')\n",
    "\n",
    "# дата остановки\n",
    "test_end = datetime(2021,1,4).strftime('%Y-%m-%d')\n",
    "\n",
    "# регион (для переиспользования можно задать в виде списка,\n",
    "# если в будущих тестах могут участвовать пользователи из нескольких регионов)\n",
    "region = 'EU'\n",
    "\n",
    "# процент новых пользователей из целевого региона\n",
    "au_pcnt = 15\n",
    "\n",
    "# ожидаемое количество участников теста\n",
    "users_cnt_expected = 6000\n",
    "\n",
    "# конверсионное окно в днях\n",
    "conversion_window = 14\n",
    "\n",
    "# конверсионные метрики\n",
    "conversion_metrics = {'product_page':'просмотр карточек товаров',\n",
    "                      'product_cart':'просмотр корзины',\n",
    "                      'purchase':'покупки'}"
   ]
  },
  {
   "cell_type": "markdown",
   "metadata": {},
   "source": [
    "2. Отберем новых пользователей из региона EU, которые зарегистрировались в период с `test_start` по `new_users_end`:"
   ]
  },
  {
   "cell_type": "code",
   "execution_count": 16,
   "metadata": {},
   "outputs": [
    {
     "name": "stdout",
     "output_type": "stream",
     "text": [
      "Всего за период с 2020-12-07 по 2020-12-21 пришло 42340 новых пользователей из региона EU.\n"
     ]
    }
   ],
   "source": [
    "users_eu = users[(users['region'] == region) \\\n",
    "                 & (users['first_date'] >= test_start) & (users['first_date'] <= new_users_end)]\n",
    "total_users_eu = users_eu.shape[0]\n",
    "print(f'Всего за период с {test_start} по {new_users_end} пришло {total_users_eu} новых пользователей из региона {region}.')"
   ]
  },
  {
   "cell_type": "markdown",
   "metadata": {},
   "source": [
    "3. Присоединим к списку новых пользователей из предыдущего пункта данные по участникам тестов (пересечение по `user_id`):"
   ]
  },
  {
   "cell_type": "code",
   "execution_count": 17,
   "metadata": {},
   "outputs": [
    {
     "name": "stdout",
     "output_type": "stream",
     "text": [
      "Количество новых пользователей из EU, попавших хотя бы в один A/B-тест: 16916\n"
     ]
    }
   ],
   "source": [
    "tests_eu = users_eu.merge(tests, on=['user_id'], how='inner')\n",
    "\n",
    "print(f'Количество новых пользователей из {region}, попавших хотя бы в один A/B-тест: {len(tests_eu)}')"
   ]
  },
  {
   "cell_type": "code",
   "execution_count": 18,
   "metadata": {},
   "outputs": [
    {
     "data": {
      "text/html": [
       "<div>\n",
       "<style scoped>\n",
       "    .dataframe tbody tr th:only-of-type {\n",
       "        vertical-align: middle;\n",
       "    }\n",
       "\n",
       "    .dataframe tbody tr th {\n",
       "        vertical-align: top;\n",
       "    }\n",
       "\n",
       "    .dataframe thead th {\n",
       "        text-align: right;\n",
       "    }\n",
       "</style>\n",
       "<table border=\"1\" class=\"dataframe\">\n",
       "  <thead>\n",
       "    <tr style=\"text-align: right;\">\n",
       "      <th></th>\n",
       "      <th>user_id</th>\n",
       "      <th>first_date</th>\n",
       "      <th>region</th>\n",
       "      <th>device</th>\n",
       "      <th>group</th>\n",
       "      <th>ab_test</th>\n",
       "    </tr>\n",
       "  </thead>\n",
       "  <tbody>\n",
       "    <tr>\n",
       "      <td>3267</td>\n",
       "      <td>CB5F0081A83B7397</td>\n",
       "      <td>2020-12-14</td>\n",
       "      <td>EU</td>\n",
       "      <td>Android</td>\n",
       "      <td>A</td>\n",
       "      <td>recommender_system_test</td>\n",
       "    </tr>\n",
       "    <tr>\n",
       "      <td>12807</td>\n",
       "      <td>1C53DDC5501E6F0E</td>\n",
       "      <td>2020-12-12</td>\n",
       "      <td>EU</td>\n",
       "      <td>Android</td>\n",
       "      <td>B</td>\n",
       "      <td>interface_eu_test</td>\n",
       "    </tr>\n",
       "    <tr>\n",
       "      <td>4656</td>\n",
       "      <td>C72752E18AD12854</td>\n",
       "      <td>2020-12-21</td>\n",
       "      <td>EU</td>\n",
       "      <td>iPhone</td>\n",
       "      <td>A</td>\n",
       "      <td>interface_eu_test</td>\n",
       "    </tr>\n",
       "    <tr>\n",
       "      <td>121</td>\n",
       "      <td>1632E8454F655D06</td>\n",
       "      <td>2020-12-07</td>\n",
       "      <td>EU</td>\n",
       "      <td>Mac</td>\n",
       "      <td>B</td>\n",
       "      <td>recommender_system_test</td>\n",
       "    </tr>\n",
       "    <tr>\n",
       "      <td>10642</td>\n",
       "      <td>392813BD834ECD63</td>\n",
       "      <td>2020-12-11</td>\n",
       "      <td>EU</td>\n",
       "      <td>Android</td>\n",
       "      <td>A</td>\n",
       "      <td>recommender_system_test</td>\n",
       "    </tr>\n",
       "  </tbody>\n",
       "</table>\n",
       "</div>"
      ],
      "text/plain": [
       "                user_id first_date region   device group  \\\n",
       "3267   CB5F0081A83B7397 2020-12-14     EU  Android     A   \n",
       "12807  1C53DDC5501E6F0E 2020-12-12     EU  Android     B   \n",
       "4656   C72752E18AD12854 2020-12-21     EU   iPhone     A   \n",
       "121    1632E8454F655D06 2020-12-07     EU      Mac     B   \n",
       "10642  392813BD834ECD63 2020-12-11     EU  Android     A   \n",
       "\n",
       "                       ab_test  \n",
       "3267   recommender_system_test  \n",
       "12807        interface_eu_test  \n",
       "4656         interface_eu_test  \n",
       "121    recommender_system_test  \n",
       "10642  recommender_system_test  "
      ]
     },
     "execution_count": 18,
     "metadata": {},
     "output_type": "execute_result"
    }
   ],
   "source": [
    "tests_eu.sample(5)"
   ]
  },
  {
   "cell_type": "markdown",
   "metadata": {},
   "source": [
    "4. Проверим, есть ли пользователи, которые попали сразу в обе группы нашего теста:"
   ]
  },
  {
   "cell_type": "code",
   "execution_count": 19,
   "metadata": {},
   "outputs": [
    {
     "name": "stdout",
     "output_type": "stream",
     "text": [
      "Количество пользователей, попавших в обе группы теста recommender_system_test: 0\n"
     ]
    }
   ],
   "source": [
    "users_in_ab = (tests_eu.query('ab_test == @test_name')\n",
    "               .groupby(['user_id', 'ab_test']).agg({'group':'nunique'})\n",
    "               .sort_values(by='group', ascending=False))\n",
    "\n",
    "print('Количество пользователей, попавших в обе группы теста {}: {}'.format(test_name, len(users_in_ab.query('group > 1'))))"
   ]
  },
  {
   "cell_type": "markdown",
   "metadata": {},
   "source": [
    "5. Отберем ID пользователей, которые участвовали в нашем тесте:"
   ]
  },
  {
   "cell_type": "code",
   "execution_count": 20,
   "metadata": {},
   "outputs": [
    {
     "data": {
      "text/plain": [
       "['D72A72121175D8BE',\n",
       " 'E6DE857AFBDC6102',\n",
       " 'DD4352CDCF8C3D57',\n",
       " '831887FE7F2D6CBA',\n",
       " '4CB179C7F847320B']"
      ]
     },
     "metadata": {},
     "output_type": "display_data"
    },
    {
     "name": "stdout",
     "output_type": "stream",
     "text": [
      "Количество пользователей, участвовавших в тесте recommender_system_test: 6351\n"
     ]
    }
   ],
   "source": [
    "test_users_ids = list(tests_eu.query('ab_test == @test_name')['user_id'])\n",
    "display(test_users_ids[:5])\n",
    "print('Количество пользователей, участвовавших в тесте {}: {}'.format(test_name, len(test_users_ids)))"
   ]
  },
  {
   "cell_type": "markdown",
   "metadata": {},
   "source": [
    "6. Проверим, пересекается ли аудитория нашего теста с другими тестами:"
   ]
  },
  {
   "cell_type": "code",
   "execution_count": 21,
   "metadata": {},
   "outputs": [
    {
     "data": {
      "text/html": [
       "<div>\n",
       "<style scoped>\n",
       "    .dataframe tbody tr th:only-of-type {\n",
       "        vertical-align: middle;\n",
       "    }\n",
       "\n",
       "    .dataframe tbody tr th {\n",
       "        vertical-align: top;\n",
       "    }\n",
       "\n",
       "    .dataframe thead th {\n",
       "        text-align: right;\n",
       "    }\n",
       "</style>\n",
       "<table border=\"1\" class=\"dataframe\">\n",
       "  <thead>\n",
       "    <tr style=\"text-align: right;\">\n",
       "      <th></th>\n",
       "      <th>user_id</th>\n",
       "      <th>ab_test</th>\n",
       "    </tr>\n",
       "  </thead>\n",
       "  <tbody>\n",
       "    <tr>\n",
       "      <td>4805</td>\n",
       "      <td>C0DDE3AA2A89024F</td>\n",
       "      <td>2</td>\n",
       "    </tr>\n",
       "    <tr>\n",
       "      <td>4357</td>\n",
       "      <td>AEE24B6142A3C431</td>\n",
       "      <td>2</td>\n",
       "    </tr>\n",
       "    <tr>\n",
       "      <td>1819</td>\n",
       "      <td>4B5225B3DCB853CE</td>\n",
       "      <td>2</td>\n",
       "    </tr>\n",
       "    <tr>\n",
       "      <td>2340</td>\n",
       "      <td>5F8134ACF9295C80</td>\n",
       "      <td>2</td>\n",
       "    </tr>\n",
       "    <tr>\n",
       "      <td>2811</td>\n",
       "      <td>739656E0D7B50B30</td>\n",
       "      <td>2</td>\n",
       "    </tr>\n",
       "  </tbody>\n",
       "</table>\n",
       "</div>"
      ],
      "text/plain": [
       "               user_id  ab_test\n",
       "4805  C0DDE3AA2A89024F        2\n",
       "4357  AEE24B6142A3C431        2\n",
       "1819  4B5225B3DCB853CE        2\n",
       "2340  5F8134ACF9295C80        2\n",
       "2811  739656E0D7B50B30        2"
      ]
     },
     "execution_count": 21,
     "metadata": {},
     "output_type": "execute_result"
    }
   ],
   "source": [
    "users_in_manytests = (tests_eu.query('user_id in @test_users_ids')\n",
    "                      .groupby(['user_id'], as_index=False).agg({'ab_test':'nunique'})\n",
    "                      .query('ab_test > 1'))\n",
    "users_in_manytests.sample(5)"
   ]
  },
  {
   "cell_type": "markdown",
   "metadata": {},
   "source": [
    "Видим, что аудитория нашего теста пересекается с другими тестами. Оценим масштаб бедствия:"
   ]
  },
  {
   "cell_type": "code",
   "execution_count": 22,
   "metadata": {},
   "outputs": [
    {
     "name": "stdout",
     "output_type": "stream",
     "text": [
      "Количество пользователей, попавших в несколько тестов: 1602 (25.2%)\n"
     ]
    }
   ],
   "source": [
    "# записываем id пользователей, попавших в несколько тестов\n",
    "users_in_manytests_ids = list(users_in_manytests['user_id'])\n",
    "\n",
    "users_in_manytests_cnt = len(users_in_manytests_ids)\n",
    "\n",
    "print('Количество пользователей, попавших в несколько тестов: {:.0f} ({:.1%})'\n",
    "      .format(users_in_manytests_cnt, users_in_manytests_cnt/len(test_users_ids)))"
   ]
  },
  {
   "cell_type": "markdown",
   "metadata": {},
   "source": [
    "Видим, что четверть аудитории нашего теста попали и в другой / другие тесты тоже.\n",
    "\n",
    "Кажется, что **было бы правильно не использовать данные по пользователям, попавшим в несколько тестов**. Но с другой стороны, я думаю, что в реальных продуктах одновременно может идти много тестов, и пересечение неизбежно.\n",
    "\n",
    "Думаю, что **можно оставить этих пользователей, если в каждой группе нашего теста примерно одинаковая доля участников из разных групп в других тестах**. Например, если в группе A нашего теста 100 человек из группы B другого теста (и это составляет 5% от общего числа пользователей в группе А нашего теста), то среди участников группы B нашего теста должно быть тоже примерно 5% пользователей, попавших в группу B другого теста.\n",
    "\n",
    "Проверим это:"
   ]
  },
  {
   "cell_type": "code",
   "execution_count": 23,
   "metadata": {},
   "outputs": [
    {
     "data": {
      "text/html": [
       "<div>\n",
       "<style scoped>\n",
       "    .dataframe tbody tr th:only-of-type {\n",
       "        vertical-align: middle;\n",
       "    }\n",
       "\n",
       "    .dataframe tbody tr th {\n",
       "        vertical-align: top;\n",
       "    }\n",
       "\n",
       "    .dataframe thead th {\n",
       "        text-align: right;\n",
       "    }\n",
       "</style>\n",
       "<table border=\"1\" class=\"dataframe\">\n",
       "  <thead>\n",
       "    <tr style=\"text-align: right;\">\n",
       "      <th></th>\n",
       "      <th>group</th>\n",
       "      <th>users_cnt</th>\n",
       "    </tr>\n",
       "  </thead>\n",
       "  <tbody>\n",
       "    <tr>\n",
       "      <td>0</td>\n",
       "      <td>A</td>\n",
       "      <td>3634</td>\n",
       "    </tr>\n",
       "    <tr>\n",
       "      <td>1</td>\n",
       "      <td>B</td>\n",
       "      <td>2717</td>\n",
       "    </tr>\n",
       "  </tbody>\n",
       "</table>\n",
       "</div>"
      ],
      "text/plain": [
       "  group  users_cnt\n",
       "0     A       3634\n",
       "1     B       2717"
      ]
     },
     "metadata": {},
     "output_type": "display_data"
    },
    {
     "name": "stdout",
     "output_type": "stream",
     "text": [
      "6351\n"
     ]
    }
   ],
   "source": [
    "# запишем общее количество участников по группам нашего теста\n",
    "in_other_tests = (tests_eu.query('ab_test == @test_name')\n",
    "                  .groupby(['group'], as_index=False).agg({'user_id':'nunique'})\n",
    "                  .rename(columns={'user_id':'users_cnt'}))\n",
    "display(in_other_tests)\n",
    "\n",
    "# проверим, совпадает ли сумма по группам\n",
    "print(in_other_tests['users_cnt'].sum())"
   ]
  },
  {
   "cell_type": "code",
   "execution_count": 24,
   "metadata": {},
   "outputs": [
    {
     "data": {
      "text/plain": [
       "3634"
      ]
     },
     "execution_count": 24,
     "metadata": {},
     "output_type": "execute_result"
    }
   ],
   "source": [
    "# id пользователей в группе A нашего теста\n",
    "users_a = list(tests_eu.query('ab_test == @test_name & group==\"A\"')['user_id'].unique())\n",
    "len(users_a)"
   ]
  },
  {
   "cell_type": "code",
   "execution_count": 25,
   "metadata": {},
   "outputs": [
    {
     "data": {
      "text/plain": [
       "2717"
      ]
     },
     "execution_count": 25,
     "metadata": {},
     "output_type": "execute_result"
    }
   ],
   "source": [
    "# id пользователей в группе B нашего теста\n",
    "users_b = list(tests_eu.query('ab_test == @test_name & group==\"B\"')['user_id'].unique())\n",
    "len(users_b)"
   ]
  },
  {
   "cell_type": "code",
   "execution_count": 26,
   "metadata": {},
   "outputs": [
    {
     "data": {
      "text/html": [
       "<div>\n",
       "<style scoped>\n",
       "    .dataframe tbody tr th:only-of-type {\n",
       "        vertical-align: middle;\n",
       "    }\n",
       "\n",
       "    .dataframe tbody tr th {\n",
       "        vertical-align: top;\n",
       "    }\n",
       "\n",
       "    .dataframe thead th {\n",
       "        text-align: right;\n",
       "    }\n",
       "</style>\n",
       "<table border=\"1\" class=\"dataframe\">\n",
       "  <thead>\n",
       "    <tr style=\"text-align: right;\">\n",
       "      <th></th>\n",
       "      <th>group</th>\n",
       "      <th>users_cnt</th>\n",
       "      <th>interface_eu_test_A</th>\n",
       "      <th>interface_eu_test_A_pcnt</th>\n",
       "      <th>interface_eu_test_B</th>\n",
       "      <th>interface_eu_test_B_pcnt</th>\n",
       "    </tr>\n",
       "  </thead>\n",
       "  <tbody>\n",
       "    <tr>\n",
       "      <td>0</td>\n",
       "      <td>A</td>\n",
       "      <td>3634</td>\n",
       "      <td>482</td>\n",
       "      <td>13.26</td>\n",
       "      <td>439</td>\n",
       "      <td>12.08</td>\n",
       "    </tr>\n",
       "    <tr>\n",
       "      <td>1</td>\n",
       "      <td>B</td>\n",
       "      <td>2717</td>\n",
       "      <td>337</td>\n",
       "      <td>12.40</td>\n",
       "      <td>344</td>\n",
       "      <td>12.66</td>\n",
       "    </tr>\n",
       "  </tbody>\n",
       "</table>\n",
       "</div>"
      ],
      "text/plain": [
       "  group  users_cnt  interface_eu_test_A  interface_eu_test_A_pcnt  \\\n",
       "0     A       3634                  482                     13.26   \n",
       "1     B       2717                  337                     12.40   \n",
       "\n",
       "   interface_eu_test_B  interface_eu_test_B_pcnt  \n",
       "0                  439                     12.08  \n",
       "1                  344                     12.66  "
      ]
     },
     "execution_count": 26,
     "metadata": {},
     "output_type": "execute_result"
    }
   ],
   "source": [
    "# перебираем все другие тесты (если их будет больше двух)\n",
    "for test in tests_eu['ab_test'].unique():\n",
    "    \n",
    "    # исключаем целевой тест, с которым мы работаем    \n",
    "    if test != test_name:\n",
    "        work_df = tests_eu[tests_eu['ab_test'] == test]\n",
    "        \n",
    "        # перебираем группы другого теста\n",
    "        for group in work_df['group'].unique():\n",
    "            # записываем id пользователей, попавших в каждую группу другого теста\n",
    "            users_in_group = list(work_df.loc[work_df['group'] == group, 'user_id'].unique())\n",
    "        \n",
    "            # считаем количество пересечений по id пользователей в группах нашего теста и группе другого теста\n",
    "            intersection_a_cnt = len(set(users_in_group).intersection(users_a))\n",
    "            intersection_b_cnt = len(set(users_in_group).intersection(users_b))\n",
    "        \n",
    "            # собираем датафрейм\n",
    "            cnt_name = test + '_' + group\n",
    "            intersection_cnt = pd.DataFrame({'group':['A', 'B'], cnt_name:[intersection_a_cnt, intersection_b_cnt]})\n",
    "        \n",
    "            # присоединяем полученный датафрейм к датафрейму с количеством участников по группам нашего теста\n",
    "            in_other_tests = in_other_tests.merge(intersection_cnt, on='group', how='left')\n",
    "        \n",
    "            # имя колонки с процентами\n",
    "            pcnt_name = cnt_name + '_pcnt'\n",
    "            in_other_tests[pcnt_name] = round(in_other_tests[cnt_name] / in_other_tests['users_cnt'] * 100, 2)\n",
    "        \n",
    "in_other_tests"
   ]
  },
  {
   "cell_type": "markdown",
   "metadata": {},
   "source": [
    "Видим, что доли пользователей, которые попали в экспериментальную группу B и контрольную группу А другого теста (`interface_eu_test`), примерно одинаковые в наших группах. Поэтому считаю, что можно оставить этих пользователей (если изменения, тестируемые в другом тесте, повлияли на поведение наших пользователей, то эффект должен быть примерно одинаковым в обеих группах)."
   ]
  },
  {
   "cell_type": "markdown",
   "metadata": {},
   "source": [
    "7. Проверим равномерность распределения пользователей по группам нашего теста:"
   ]
  },
  {
   "cell_type": "code",
   "execution_count": 27,
   "metadata": {},
   "outputs": [
    {
     "data": {
      "text/plain": [
       "25.2"
      ]
     },
     "execution_count": 27,
     "metadata": {},
     "output_type": "execute_result"
    }
   ],
   "source": [
    "round(abs(min(in_other_tests['users_cnt']) / max(in_other_tests['users_cnt']) - 1) * 100, 1)"
   ]
  },
  {
   "cell_type": "markdown",
   "metadata": {},
   "source": [
    "Относительное различие в количестве пользователей в группах очень большое – 25%. Это говорит о том, что траффик распределялся неравномерно."
   ]
  },
  {
   "cell_type": "markdown",
   "metadata": {},
   "source": [
    "8. Проверим, какая доля от всех новых пользователей из EU за период с `test_start` по `new_users_end`, попала в наш тест (по ТЗ должно быть около 15%):"
   ]
  },
  {
   "cell_type": "code",
   "execution_count": 28,
   "metadata": {},
   "outputs": [
    {
     "data": {
      "text/plain": [
       "15.0"
      ]
     },
     "execution_count": 28,
     "metadata": {},
     "output_type": "execute_result"
    }
   ],
   "source": [
    "round(len(test_users_ids) / total_users_eu * 100, 1)"
   ]
  },
  {
   "cell_type": "markdown",
   "metadata": {},
   "source": [
    "Тут идеальное попадание в ТЗ."
   ]
  },
  {
   "cell_type": "markdown",
   "metadata": {},
   "source": [
    "9. И еще посмотрим, проходили ли какие-то маркетинговые активности в регионе EU во время нашего теста:"
   ]
  },
  {
   "cell_type": "code",
   "execution_count": 29,
   "metadata": {},
   "outputs": [
    {
     "data": {
      "text/html": [
       "<div>\n",
       "<style scoped>\n",
       "    .dataframe tbody tr th:only-of-type {\n",
       "        vertical-align: middle;\n",
       "    }\n",
       "\n",
       "    .dataframe tbody tr th {\n",
       "        vertical-align: top;\n",
       "    }\n",
       "\n",
       "    .dataframe thead th {\n",
       "        text-align: right;\n",
       "    }\n",
       "</style>\n",
       "<table border=\"1\" class=\"dataframe\">\n",
       "  <thead>\n",
       "    <tr style=\"text-align: right;\">\n",
       "      <th></th>\n",
       "      <th>name</th>\n",
       "      <th>regions</th>\n",
       "      <th>start_dt</th>\n",
       "      <th>finish_dt</th>\n",
       "    </tr>\n",
       "  </thead>\n",
       "  <tbody>\n",
       "    <tr>\n",
       "      <td>0</td>\n",
       "      <td>Christmas&amp;New Year Promo</td>\n",
       "      <td>EU, N.America</td>\n",
       "      <td>2020-12-25</td>\n",
       "      <td>2021-01-03</td>\n",
       "    </tr>\n",
       "    <tr>\n",
       "      <td>1</td>\n",
       "      <td>St. Valentine's Day Giveaway</td>\n",
       "      <td>EU, CIS, APAC, N.America</td>\n",
       "      <td>2020-02-14</td>\n",
       "      <td>2020-02-16</td>\n",
       "    </tr>\n",
       "    <tr>\n",
       "      <td>2</td>\n",
       "      <td>St. Patric's Day Promo</td>\n",
       "      <td>EU, N.America</td>\n",
       "      <td>2020-03-17</td>\n",
       "      <td>2020-03-19</td>\n",
       "    </tr>\n",
       "    <tr>\n",
       "      <td>3</td>\n",
       "      <td>Easter Promo</td>\n",
       "      <td>EU, CIS, APAC, N.America</td>\n",
       "      <td>2020-04-12</td>\n",
       "      <td>2020-04-19</td>\n",
       "    </tr>\n",
       "    <tr>\n",
       "      <td>4</td>\n",
       "      <td>4th of July Promo</td>\n",
       "      <td>N.America</td>\n",
       "      <td>2020-07-04</td>\n",
       "      <td>2020-07-11</td>\n",
       "    </tr>\n",
       "    <tr>\n",
       "      <td>5</td>\n",
       "      <td>Black Friday Ads Campaign</td>\n",
       "      <td>EU, CIS, APAC, N.America</td>\n",
       "      <td>2020-11-26</td>\n",
       "      <td>2020-12-01</td>\n",
       "    </tr>\n",
       "    <tr>\n",
       "      <td>6</td>\n",
       "      <td>Chinese New Year Promo</td>\n",
       "      <td>APAC</td>\n",
       "      <td>2020-01-25</td>\n",
       "      <td>2020-02-07</td>\n",
       "    </tr>\n",
       "    <tr>\n",
       "      <td>7</td>\n",
       "      <td>Labor day (May 1st) Ads Campaign</td>\n",
       "      <td>EU, CIS, APAC</td>\n",
       "      <td>2020-05-01</td>\n",
       "      <td>2020-05-03</td>\n",
       "    </tr>\n",
       "    <tr>\n",
       "      <td>8</td>\n",
       "      <td>International Women's Day Promo</td>\n",
       "      <td>EU, CIS, APAC</td>\n",
       "      <td>2020-03-08</td>\n",
       "      <td>2020-03-10</td>\n",
       "    </tr>\n",
       "    <tr>\n",
       "      <td>9</td>\n",
       "      <td>Victory Day CIS (May 9th) Event</td>\n",
       "      <td>CIS</td>\n",
       "      <td>2020-05-09</td>\n",
       "      <td>2020-05-11</td>\n",
       "    </tr>\n",
       "    <tr>\n",
       "      <td>10</td>\n",
       "      <td>CIS New Year Gift Lottery</td>\n",
       "      <td>CIS</td>\n",
       "      <td>2020-12-30</td>\n",
       "      <td>2021-01-07</td>\n",
       "    </tr>\n",
       "    <tr>\n",
       "      <td>11</td>\n",
       "      <td>Dragon Boat Festival Giveaway</td>\n",
       "      <td>APAC</td>\n",
       "      <td>2020-06-25</td>\n",
       "      <td>2020-07-01</td>\n",
       "    </tr>\n",
       "    <tr>\n",
       "      <td>12</td>\n",
       "      <td>Single's Day Gift Promo</td>\n",
       "      <td>APAC</td>\n",
       "      <td>2020-11-11</td>\n",
       "      <td>2020-11-12</td>\n",
       "    </tr>\n",
       "    <tr>\n",
       "      <td>13</td>\n",
       "      <td>Chinese Moon Festival</td>\n",
       "      <td>APAC</td>\n",
       "      <td>2020-10-01</td>\n",
       "      <td>2020-10-07</td>\n",
       "    </tr>\n",
       "  </tbody>\n",
       "</table>\n",
       "</div>"
      ],
      "text/plain": [
       "                                name                   regions   start_dt  \\\n",
       "0           Christmas&New Year Promo             EU, N.America 2020-12-25   \n",
       "1       St. Valentine's Day Giveaway  EU, CIS, APAC, N.America 2020-02-14   \n",
       "2             St. Patric's Day Promo             EU, N.America 2020-03-17   \n",
       "3                       Easter Promo  EU, CIS, APAC, N.America 2020-04-12   \n",
       "4                  4th of July Promo                 N.America 2020-07-04   \n",
       "5          Black Friday Ads Campaign  EU, CIS, APAC, N.America 2020-11-26   \n",
       "6             Chinese New Year Promo                      APAC 2020-01-25   \n",
       "7   Labor day (May 1st) Ads Campaign             EU, CIS, APAC 2020-05-01   \n",
       "8    International Women's Day Promo             EU, CIS, APAC 2020-03-08   \n",
       "9    Victory Day CIS (May 9th) Event                       CIS 2020-05-09   \n",
       "10         CIS New Year Gift Lottery                       CIS 2020-12-30   \n",
       "11     Dragon Boat Festival Giveaway                      APAC 2020-06-25   \n",
       "12           Single's Day Gift Promo                      APAC 2020-11-11   \n",
       "13             Chinese Moon Festival                      APAC 2020-10-01   \n",
       "\n",
       "    finish_dt  \n",
       "0  2021-01-03  \n",
       "1  2020-02-16  \n",
       "2  2020-03-19  \n",
       "3  2020-04-19  \n",
       "4  2020-07-11  \n",
       "5  2020-12-01  \n",
       "6  2020-02-07  \n",
       "7  2020-05-03  \n",
       "8  2020-03-10  \n",
       "9  2020-05-11  \n",
       "10 2021-01-07  \n",
       "11 2020-07-01  \n",
       "12 2020-11-12  \n",
       "13 2020-10-07  "
      ]
     },
     "execution_count": 29,
     "metadata": {},
     "output_type": "execute_result"
    }
   ],
   "source": [
    "mark_events"
   ]
  },
  {
   "cell_type": "markdown",
   "metadata": {},
   "source": [
    "Отбираем по региону:"
   ]
  },
  {
   "cell_type": "code",
   "execution_count": 30,
   "metadata": {},
   "outputs": [
    {
     "data": {
      "text/html": [
       "<div>\n",
       "<style scoped>\n",
       "    .dataframe tbody tr th:only-of-type {\n",
       "        vertical-align: middle;\n",
       "    }\n",
       "\n",
       "    .dataframe tbody tr th {\n",
       "        vertical-align: top;\n",
       "    }\n",
       "\n",
       "    .dataframe thead th {\n",
       "        text-align: right;\n",
       "    }\n",
       "</style>\n",
       "<table border=\"1\" class=\"dataframe\">\n",
       "  <thead>\n",
       "    <tr style=\"text-align: right;\">\n",
       "      <th></th>\n",
       "      <th>name</th>\n",
       "      <th>regions</th>\n",
       "      <th>start_dt</th>\n",
       "      <th>finish_dt</th>\n",
       "      <th>in_eu</th>\n",
       "    </tr>\n",
       "  </thead>\n",
       "  <tbody>\n",
       "    <tr>\n",
       "      <td>0</td>\n",
       "      <td>Christmas&amp;New Year Promo</td>\n",
       "      <td>EU, N.America</td>\n",
       "      <td>2020-12-25</td>\n",
       "      <td>2021-01-03</td>\n",
       "      <td>True</td>\n",
       "    </tr>\n",
       "    <tr>\n",
       "      <td>1</td>\n",
       "      <td>St. Valentine's Day Giveaway</td>\n",
       "      <td>EU, CIS, APAC, N.America</td>\n",
       "      <td>2020-02-14</td>\n",
       "      <td>2020-02-16</td>\n",
       "      <td>True</td>\n",
       "    </tr>\n",
       "    <tr>\n",
       "      <td>2</td>\n",
       "      <td>St. Patric's Day Promo</td>\n",
       "      <td>EU, N.America</td>\n",
       "      <td>2020-03-17</td>\n",
       "      <td>2020-03-19</td>\n",
       "      <td>True</td>\n",
       "    </tr>\n",
       "    <tr>\n",
       "      <td>3</td>\n",
       "      <td>Easter Promo</td>\n",
       "      <td>EU, CIS, APAC, N.America</td>\n",
       "      <td>2020-04-12</td>\n",
       "      <td>2020-04-19</td>\n",
       "      <td>True</td>\n",
       "    </tr>\n",
       "    <tr>\n",
       "      <td>5</td>\n",
       "      <td>Black Friday Ads Campaign</td>\n",
       "      <td>EU, CIS, APAC, N.America</td>\n",
       "      <td>2020-11-26</td>\n",
       "      <td>2020-12-01</td>\n",
       "      <td>True</td>\n",
       "    </tr>\n",
       "    <tr>\n",
       "      <td>7</td>\n",
       "      <td>Labor day (May 1st) Ads Campaign</td>\n",
       "      <td>EU, CIS, APAC</td>\n",
       "      <td>2020-05-01</td>\n",
       "      <td>2020-05-03</td>\n",
       "      <td>True</td>\n",
       "    </tr>\n",
       "    <tr>\n",
       "      <td>8</td>\n",
       "      <td>International Women's Day Promo</td>\n",
       "      <td>EU, CIS, APAC</td>\n",
       "      <td>2020-03-08</td>\n",
       "      <td>2020-03-10</td>\n",
       "      <td>True</td>\n",
       "    </tr>\n",
       "  </tbody>\n",
       "</table>\n",
       "</div>"
      ],
      "text/plain": [
       "                               name                   regions   start_dt  \\\n",
       "0          Christmas&New Year Promo             EU, N.America 2020-12-25   \n",
       "1      St. Valentine's Day Giveaway  EU, CIS, APAC, N.America 2020-02-14   \n",
       "2            St. Patric's Day Promo             EU, N.America 2020-03-17   \n",
       "3                      Easter Promo  EU, CIS, APAC, N.America 2020-04-12   \n",
       "5         Black Friday Ads Campaign  EU, CIS, APAC, N.America 2020-11-26   \n",
       "7  Labor day (May 1st) Ads Campaign             EU, CIS, APAC 2020-05-01   \n",
       "8   International Women's Day Promo             EU, CIS, APAC 2020-03-08   \n",
       "\n",
       "   finish_dt  in_eu  \n",
       "0 2021-01-03   True  \n",
       "1 2020-02-16   True  \n",
       "2 2020-03-19   True  \n",
       "3 2020-04-19   True  \n",
       "5 2020-12-01   True  \n",
       "7 2020-05-03   True  \n",
       "8 2020-03-10   True  "
      ]
     },
     "execution_count": 30,
     "metadata": {},
     "output_type": "execute_result"
    }
   ],
   "source": [
    "mark_events['in_eu'] = mark_events['regions'].apply(lambda x: 'EU' in x.split(', '))\n",
    "mark_events_eu = mark_events.query('in_eu == True')\n",
    "mark_events_eu"
   ]
  },
  {
   "cell_type": "markdown",
   "metadata": {},
   "source": [
    "Отбираем по датам:"
   ]
  },
  {
   "cell_type": "code",
   "execution_count": 31,
   "metadata": {},
   "outputs": [
    {
     "name": "stdout",
     "output_type": "stream",
     "text": [
      "2020-12-07\n",
      "2021-01-04\n"
     ]
    }
   ],
   "source": [
    "print(test_start)\n",
    "print(test_end)"
   ]
  },
  {
   "cell_type": "code",
   "execution_count": 32,
   "metadata": {},
   "outputs": [
    {
     "data": {
      "text/html": [
       "<div>\n",
       "<style scoped>\n",
       "    .dataframe tbody tr th:only-of-type {\n",
       "        vertical-align: middle;\n",
       "    }\n",
       "\n",
       "    .dataframe tbody tr th {\n",
       "        vertical-align: top;\n",
       "    }\n",
       "\n",
       "    .dataframe thead th {\n",
       "        text-align: right;\n",
       "    }\n",
       "</style>\n",
       "<table border=\"1\" class=\"dataframe\">\n",
       "  <thead>\n",
       "    <tr style=\"text-align: right;\">\n",
       "      <th></th>\n",
       "      <th>name</th>\n",
       "      <th>regions</th>\n",
       "      <th>start_dt</th>\n",
       "      <th>finish_dt</th>\n",
       "      <th>in_eu</th>\n",
       "    </tr>\n",
       "  </thead>\n",
       "  <tbody>\n",
       "    <tr>\n",
       "      <td>0</td>\n",
       "      <td>Christmas&amp;New Year Promo</td>\n",
       "      <td>EU, N.America</td>\n",
       "      <td>2020-12-25</td>\n",
       "      <td>2021-01-03</td>\n",
       "      <td>True</td>\n",
       "    </tr>\n",
       "  </tbody>\n",
       "</table>\n",
       "</div>"
      ],
      "text/plain": [
       "                       name        regions   start_dt  finish_dt  in_eu\n",
       "0  Christmas&New Year Promo  EU, N.America 2020-12-25 2021-01-03   True"
      ]
     },
     "metadata": {},
     "output_type": "display_data"
    }
   ],
   "source": [
    "mark_events_eu_time = mark_events_eu.query('finish_dt >= @test_start & finish_dt <= @test_end')\n",
    "\n",
    "if len(mark_events_eu_time) == 0:\n",
    "    print('Во время теста нет маркетинговых событий.')\n",
    "else:\n",
    "    display(mark_events_eu_time)"
   ]
  },
  {
   "cell_type": "markdown",
   "metadata": {},
   "source": [
    "### Промежуточные выводы"
   ]
  },
  {
   "cell_type": "markdown",
   "metadata": {},
   "source": [
    "На этом этапе мы проверили корректность проведения теста и отобрали пользователей, данные по которым будем анализировать дальше.\n",
    "\n",
    "- Всего за период с 2020-12-07 по 2020-12-21 пришло 42340 новых пользователей из региона EU;\n",
    "- Из этих пользователей попали хотя бы в один тест 16916 человек;\n",
    "- В интересующем нас тесте `recommender_system_test` участвовали 6351 человек (15% от общего количества новых пользователей из EU = соответствует ТЗ), из них никто не попал в обе группы этого теста;\n",
    "- 1602 пользователя (25.2%) участвовали в двух тестах одновременно, но доли пользователей, которые попали в экспериментальную группу B и контрольную группу А другого теста, примерно одинаковые в группах A и B нашего теста. Поэтому мы решили оставить этих пользователей;\n",
    "- Относительное различие в количестве пользователей в группах очень большое – 25%. Это говорит о том, что траффик распределялся неравномерно;\n",
    "- Во время теста было маркетинговое мероприятие «Christmas&New Year Promo» – это нужно будет учесть при анализе активностей пользователей.\n",
    "\n",
    "\n",
    "Вердикт по корректности проведения теста:\n",
    "- Длительность теста при неравномерном распределении должна быть увеличена для обнаружения статистически значимой разницы (если она есть на самом деле), так как минимальная длительности достигается при делении 50/50;\n",
    "- Проведение новогодней акции могло повлиять на активность пользователей;\n",
    "- Так же сомнительным является факт участие 25% пользователей в двух тестах одновременно (хотя в ТЗ и нет такого ограничения)."
   ]
  },
  {
   "cell_type": "markdown",
   "metadata": {},
   "source": [
    "<div align='right'><a href='#content'>↑ В начало проекта ↑</a></div>"
   ]
  },
  {
   "cell_type": "markdown",
   "metadata": {},
   "source": [
    "---"
   ]
  },
  {
   "cell_type": "markdown",
   "metadata": {},
   "source": [
    "## <a id='step-4'>Шаг 4. Исследовательский анализ данных</a>"
   ]
  },
  {
   "cell_type": "markdown",
   "metadata": {},
   "source": [
    "1. Соберем все нужные данные в один датафрейм: отберем пользователей нашего теста, присоединим данные по группам теста, отберем события.\n",
    "\n",
    "В ТЗ указан ожидаемый эффект: **за 14 дней** с момента регистрации пользователи покажут улучшение каждой метрики не менее, чем на 10%. Поэтому при отборе событий оставим для каждого пользователя только события, совершенные за 14 дней с момента регистрации."
   ]
  },
  {
   "cell_type": "markdown",
   "metadata": {},
   "source": [
    "Отберем данные по участникам теста:"
   ]
  },
  {
   "cell_type": "code",
   "execution_count": 33,
   "metadata": {},
   "outputs": [
    {
     "data": {
      "text/html": [
       "<div>\n",
       "<style scoped>\n",
       "    .dataframe tbody tr th:only-of-type {\n",
       "        vertical-align: middle;\n",
       "    }\n",
       "\n",
       "    .dataframe tbody tr th {\n",
       "        vertical-align: top;\n",
       "    }\n",
       "\n",
       "    .dataframe thead th {\n",
       "        text-align: right;\n",
       "    }\n",
       "</style>\n",
       "<table border=\"1\" class=\"dataframe\">\n",
       "  <thead>\n",
       "    <tr style=\"text-align: right;\">\n",
       "      <th></th>\n",
       "      <th>user_id</th>\n",
       "      <th>first_date</th>\n",
       "      <th>region</th>\n",
       "      <th>device</th>\n",
       "    </tr>\n",
       "  </thead>\n",
       "  <tbody>\n",
       "    <tr>\n",
       "      <td>46578</td>\n",
       "      <td>CA6F4DAED160E5B1</td>\n",
       "      <td>2020-12-12</td>\n",
       "      <td>EU</td>\n",
       "      <td>PC</td>\n",
       "    </tr>\n",
       "    <tr>\n",
       "      <td>40809</td>\n",
       "      <td>668400839D594143</td>\n",
       "      <td>2020-12-11</td>\n",
       "      <td>EU</td>\n",
       "      <td>PC</td>\n",
       "    </tr>\n",
       "    <tr>\n",
       "      <td>10286</td>\n",
       "      <td>C553210E2BA11B54</td>\n",
       "      <td>2020-12-14</td>\n",
       "      <td>EU</td>\n",
       "      <td>iPhone</td>\n",
       "    </tr>\n",
       "    <tr>\n",
       "      <td>56853</td>\n",
       "      <td>076152E8F66E6A82</td>\n",
       "      <td>2020-12-13</td>\n",
       "      <td>EU</td>\n",
       "      <td>Android</td>\n",
       "    </tr>\n",
       "    <tr>\n",
       "      <td>8246</td>\n",
       "      <td>780EA1A691889D78</td>\n",
       "      <td>2020-12-14</td>\n",
       "      <td>EU</td>\n",
       "      <td>Android</td>\n",
       "    </tr>\n",
       "  </tbody>\n",
       "</table>\n",
       "</div>"
      ],
      "text/plain": [
       "                user_id first_date region   device\n",
       "46578  CA6F4DAED160E5B1 2020-12-12     EU       PC\n",
       "40809  668400839D594143 2020-12-11     EU       PC\n",
       "10286  C553210E2BA11B54 2020-12-14     EU   iPhone\n",
       "56853  076152E8F66E6A82 2020-12-13     EU  Android\n",
       "8246   780EA1A691889D78 2020-12-14     EU  Android"
      ]
     },
     "metadata": {},
     "output_type": "display_data"
    },
    {
     "data": {
      "text/plain": [
       "6351"
      ]
     },
     "execution_count": 33,
     "metadata": {},
     "output_type": "execute_result"
    }
   ],
   "source": [
    "users_test = users.query('user_id in @test_users_ids')\n",
    "display(users_test.sample(5))\n",
    "len(users_test)"
   ]
  },
  {
   "cell_type": "markdown",
   "metadata": {},
   "source": [
    "Присоединим данные по группам нашего теста:"
   ]
  },
  {
   "cell_type": "code",
   "execution_count": 34,
   "metadata": {},
   "outputs": [],
   "source": [
    "users_groups = users_test.merge(tests.query('ab_test == @test_name'), on='user_id', how='left')"
   ]
  },
  {
   "cell_type": "code",
   "execution_count": 35,
   "metadata": {},
   "outputs": [
    {
     "data": {
      "text/html": [
       "<div>\n",
       "<style scoped>\n",
       "    .dataframe tbody tr th:only-of-type {\n",
       "        vertical-align: middle;\n",
       "    }\n",
       "\n",
       "    .dataframe tbody tr th {\n",
       "        vertical-align: top;\n",
       "    }\n",
       "\n",
       "    .dataframe thead th {\n",
       "        text-align: right;\n",
       "    }\n",
       "</style>\n",
       "<table border=\"1\" class=\"dataframe\">\n",
       "  <thead>\n",
       "    <tr style=\"text-align: right;\">\n",
       "      <th></th>\n",
       "      <th>user_id</th>\n",
       "      <th>first_date</th>\n",
       "      <th>region</th>\n",
       "      <th>device</th>\n",
       "      <th>group</th>\n",
       "      <th>ab_test</th>\n",
       "    </tr>\n",
       "  </thead>\n",
       "  <tbody>\n",
       "    <tr>\n",
       "      <td>286</td>\n",
       "      <td>894E24B4CAD43DD0</td>\n",
       "      <td>2020-12-07</td>\n",
       "      <td>EU</td>\n",
       "      <td>PC</td>\n",
       "      <td>A</td>\n",
       "      <td>recommender_system_test</td>\n",
       "    </tr>\n",
       "    <tr>\n",
       "      <td>935</td>\n",
       "      <td>3061E6590B96C07B</td>\n",
       "      <td>2020-12-14</td>\n",
       "      <td>EU</td>\n",
       "      <td>Android</td>\n",
       "      <td>B</td>\n",
       "      <td>recommender_system_test</td>\n",
       "    </tr>\n",
       "    <tr>\n",
       "      <td>5060</td>\n",
       "      <td>E6AAFF21D051CC65</td>\n",
       "      <td>2020-12-19</td>\n",
       "      <td>EU</td>\n",
       "      <td>iPhone</td>\n",
       "      <td>B</td>\n",
       "      <td>recommender_system_test</td>\n",
       "    </tr>\n",
       "    <tr>\n",
       "      <td>1194</td>\n",
       "      <td>B06BF284879EED23</td>\n",
       "      <td>2020-12-14</td>\n",
       "      <td>EU</td>\n",
       "      <td>Android</td>\n",
       "      <td>A</td>\n",
       "      <td>recommender_system_test</td>\n",
       "    </tr>\n",
       "    <tr>\n",
       "      <td>6050</td>\n",
       "      <td>8539AA62B6546F8A</td>\n",
       "      <td>2020-12-20</td>\n",
       "      <td>EU</td>\n",
       "      <td>PC</td>\n",
       "      <td>A</td>\n",
       "      <td>recommender_system_test</td>\n",
       "    </tr>\n",
       "  </tbody>\n",
       "</table>\n",
       "</div>"
      ],
      "text/plain": [
       "               user_id first_date region   device group  \\\n",
       "286   894E24B4CAD43DD0 2020-12-07     EU       PC     A   \n",
       "935   3061E6590B96C07B 2020-12-14     EU  Android     B   \n",
       "5060  E6AAFF21D051CC65 2020-12-19     EU   iPhone     B   \n",
       "1194  B06BF284879EED23 2020-12-14     EU  Android     A   \n",
       "6050  8539AA62B6546F8A 2020-12-20     EU       PC     A   \n",
       "\n",
       "                      ab_test  \n",
       "286   recommender_system_test  \n",
       "935   recommender_system_test  \n",
       "5060  recommender_system_test  \n",
       "1194  recommender_system_test  \n",
       "6050  recommender_system_test  "
      ]
     },
     "execution_count": 35,
     "metadata": {},
     "output_type": "execute_result"
    }
   ],
   "source": [
    "users_groups.sample(5)"
   ]
  },
  {
   "cell_type": "code",
   "execution_count": 36,
   "metadata": {},
   "outputs": [
    {
     "data": {
      "text/plain": [
       "6351"
      ]
     },
     "execution_count": 36,
     "metadata": {},
     "output_type": "execute_result"
    }
   ],
   "source": [
    "users_groups['user_id'].nunique()"
   ]
  },
  {
   "cell_type": "code",
   "execution_count": 37,
   "metadata": {},
   "outputs": [
    {
     "data": {
      "text/html": [
       "<div>\n",
       "<style scoped>\n",
       "    .dataframe tbody tr th:only-of-type {\n",
       "        vertical-align: middle;\n",
       "    }\n",
       "\n",
       "    .dataframe tbody tr th {\n",
       "        vertical-align: top;\n",
       "    }\n",
       "\n",
       "    .dataframe thead th {\n",
       "        text-align: right;\n",
       "    }\n",
       "</style>\n",
       "<table border=\"1\" class=\"dataframe\">\n",
       "  <thead>\n",
       "    <tr style=\"text-align: right;\">\n",
       "      <th></th>\n",
       "      <th>group</th>\n",
       "      <th>user_id</th>\n",
       "    </tr>\n",
       "  </thead>\n",
       "  <tbody>\n",
       "    <tr>\n",
       "      <td>0</td>\n",
       "      <td>A</td>\n",
       "      <td>3634</td>\n",
       "    </tr>\n",
       "    <tr>\n",
       "      <td>1</td>\n",
       "      <td>B</td>\n",
       "      <td>2717</td>\n",
       "    </tr>\n",
       "  </tbody>\n",
       "</table>\n",
       "</div>"
      ],
      "text/plain": [
       "  group  user_id\n",
       "0     A     3634\n",
       "1     B     2717"
      ]
     },
     "execution_count": 37,
     "metadata": {},
     "output_type": "execute_result"
    }
   ],
   "source": [
    "groups_cnt = users_groups.groupby(['group'], as_index=False).agg({'user_id':'count'})\n",
    "groups_cnt"
   ]
  },
  {
   "cell_type": "markdown",
   "metadata": {},
   "source": [
    "Присоединим данные по событиям:"
   ]
  },
  {
   "cell_type": "code",
   "execution_count": 38,
   "metadata": {},
   "outputs": [],
   "source": [
    "users_events = users_groups.merge(events, on='user_id')"
   ]
  },
  {
   "cell_type": "code",
   "execution_count": 39,
   "metadata": {},
   "outputs": [
    {
     "data": {
      "text/html": [
       "<div>\n",
       "<style scoped>\n",
       "    .dataframe tbody tr th:only-of-type {\n",
       "        vertical-align: middle;\n",
       "    }\n",
       "\n",
       "    .dataframe tbody tr th {\n",
       "        vertical-align: top;\n",
       "    }\n",
       "\n",
       "    .dataframe thead th {\n",
       "        text-align: right;\n",
       "    }\n",
       "</style>\n",
       "<table border=\"1\" class=\"dataframe\">\n",
       "  <thead>\n",
       "    <tr style=\"text-align: right;\">\n",
       "      <th></th>\n",
       "      <th>user_id</th>\n",
       "      <th>first_date</th>\n",
       "      <th>region</th>\n",
       "      <th>device</th>\n",
       "      <th>group</th>\n",
       "      <th>ab_test</th>\n",
       "      <th>event_dt</th>\n",
       "      <th>event_name</th>\n",
       "      <th>details</th>\n",
       "      <th>event_date</th>\n",
       "    </tr>\n",
       "  </thead>\n",
       "  <tbody>\n",
       "    <tr>\n",
       "      <td>10739</td>\n",
       "      <td>B01BF1A169A42CE7</td>\n",
       "      <td>2020-12-15</td>\n",
       "      <td>EU</td>\n",
       "      <td>PC</td>\n",
       "      <td>A</td>\n",
       "      <td>recommender_system_test</td>\n",
       "      <td>2020-12-22 15:14:58</td>\n",
       "      <td>product_cart</td>\n",
       "      <td>NaN</td>\n",
       "      <td>2020-12-22</td>\n",
       "    </tr>\n",
       "    <tr>\n",
       "      <td>12564</td>\n",
       "      <td>87A8BCBB07EBDACA</td>\n",
       "      <td>2020-12-16</td>\n",
       "      <td>EU</td>\n",
       "      <td>PC</td>\n",
       "      <td>A</td>\n",
       "      <td>recommender_system_test</td>\n",
       "      <td>2020-12-16 17:55:08</td>\n",
       "      <td>login</td>\n",
       "      <td>NaN</td>\n",
       "      <td>2020-12-16</td>\n",
       "    </tr>\n",
       "    <tr>\n",
       "      <td>8655</td>\n",
       "      <td>8EB70A4733EED0BA</td>\n",
       "      <td>2020-12-08</td>\n",
       "      <td>EU</td>\n",
       "      <td>Android</td>\n",
       "      <td>A</td>\n",
       "      <td>recommender_system_test</td>\n",
       "      <td>2020-12-08 11:25:39</td>\n",
       "      <td>purchase</td>\n",
       "      <td>4.99</td>\n",
       "      <td>2020-12-08</td>\n",
       "    </tr>\n",
       "    <tr>\n",
       "      <td>13481</td>\n",
       "      <td>7C8639D382088289</td>\n",
       "      <td>2020-12-16</td>\n",
       "      <td>EU</td>\n",
       "      <td>Android</td>\n",
       "      <td>A</td>\n",
       "      <td>recommender_system_test</td>\n",
       "      <td>2020-12-27 20:25:04</td>\n",
       "      <td>product_page</td>\n",
       "      <td>NaN</td>\n",
       "      <td>2020-12-27</td>\n",
       "    </tr>\n",
       "    <tr>\n",
       "      <td>12234</td>\n",
       "      <td>CA371F6AE893F255</td>\n",
       "      <td>2020-12-09</td>\n",
       "      <td>EU</td>\n",
       "      <td>Android</td>\n",
       "      <td>B</td>\n",
       "      <td>recommender_system_test</td>\n",
       "      <td>2020-12-11 02:32:32</td>\n",
       "      <td>login</td>\n",
       "      <td>NaN</td>\n",
       "      <td>2020-12-11</td>\n",
       "    </tr>\n",
       "  </tbody>\n",
       "</table>\n",
       "</div>"
      ],
      "text/plain": [
       "                user_id first_date region   device group  \\\n",
       "10739  B01BF1A169A42CE7 2020-12-15     EU       PC     A   \n",
       "12564  87A8BCBB07EBDACA 2020-12-16     EU       PC     A   \n",
       "8655   8EB70A4733EED0BA 2020-12-08     EU  Android     A   \n",
       "13481  7C8639D382088289 2020-12-16     EU  Android     A   \n",
       "12234  CA371F6AE893F255 2020-12-09     EU  Android     B   \n",
       "\n",
       "                       ab_test            event_dt    event_name  details  \\\n",
       "10739  recommender_system_test 2020-12-22 15:14:58  product_cart      NaN   \n",
       "12564  recommender_system_test 2020-12-16 17:55:08         login      NaN   \n",
       "8655   recommender_system_test 2020-12-08 11:25:39      purchase     4.99   \n",
       "13481  recommender_system_test 2020-12-27 20:25:04  product_page      NaN   \n",
       "12234  recommender_system_test 2020-12-11 02:32:32         login      NaN   \n",
       "\n",
       "      event_date  \n",
       "10739 2020-12-22  \n",
       "12564 2020-12-16  \n",
       "8655  2020-12-08  \n",
       "13481 2020-12-27  \n",
       "12234 2020-12-11  "
      ]
     },
     "execution_count": 39,
     "metadata": {},
     "output_type": "execute_result"
    }
   ],
   "source": [
    "users_events.sample(5)"
   ]
  },
  {
   "cell_type": "code",
   "execution_count": 40,
   "metadata": {},
   "outputs": [
    {
     "name": "stdout",
     "output_type": "stream",
     "text": [
      "Из 6351 совершили хотя бы одно действие 3481 пользователей (54.8%)\n"
     ]
    }
   ],
   "source": [
    "total_users_in_test = groups_cnt['user_id'].sum()\n",
    "users_with_actions = users_events['user_id'].nunique()\n",
    "users_with_actions_pcnt = users_with_actions / total_users_in_test\n",
    "print('Из {:.0f} совершили хотя бы одно действие {:.0f} пользователей ({:.1%})'.\\\n",
    "      format(total_users_in_test, users_with_actions, users_with_actions_pcnt))"
   ]
  },
  {
   "cell_type": "markdown",
   "metadata": {},
   "source": [
    "Посмотрим среднее количество событий на пользователя до отсечения событий после 14 дней:"
   ]
  },
  {
   "cell_type": "code",
   "execution_count": 41,
   "metadata": {},
   "outputs": [
    {
     "data": {
      "text/plain": [
       "user_id    6.727952\n",
       "dtype: float64"
      ]
     },
     "execution_count": 41,
     "metadata": {},
     "output_type": "execute_result"
    }
   ],
   "source": [
    "users_events.groupby(['user_id']).agg({'user_id':'count'}).mean()"
   ]
  },
  {
   "cell_type": "markdown",
   "metadata": {},
   "source": [
    "Отберем для каждого пользователя события, совершенные только за первые 14 дней после регистрации (параметр нашего теста `conversion_window`):"
   ]
  },
  {
   "cell_type": "code",
   "execution_count": 42,
   "metadata": {},
   "outputs": [
    {
     "data": {
      "text/html": [
       "<div>\n",
       "<style scoped>\n",
       "    .dataframe tbody tr th:only-of-type {\n",
       "        vertical-align: middle;\n",
       "    }\n",
       "\n",
       "    .dataframe tbody tr th {\n",
       "        vertical-align: top;\n",
       "    }\n",
       "\n",
       "    .dataframe thead th {\n",
       "        text-align: right;\n",
       "    }\n",
       "</style>\n",
       "<table border=\"1\" class=\"dataframe\">\n",
       "  <thead>\n",
       "    <tr style=\"text-align: right;\">\n",
       "      <th></th>\n",
       "      <th>user_id</th>\n",
       "      <th>first_date</th>\n",
       "      <th>region</th>\n",
       "      <th>device</th>\n",
       "      <th>group</th>\n",
       "      <th>ab_test</th>\n",
       "      <th>event_dt</th>\n",
       "      <th>event_name</th>\n",
       "      <th>details</th>\n",
       "      <th>event_date</th>\n",
       "      <th>conversion_date</th>\n",
       "    </tr>\n",
       "  </thead>\n",
       "  <tbody>\n",
       "    <tr>\n",
       "      <td>15451</td>\n",
       "      <td>3AA908B2D4A96AC2</td>\n",
       "      <td>2020-12-17</td>\n",
       "      <td>EU</td>\n",
       "      <td>PC</td>\n",
       "      <td>A</td>\n",
       "      <td>recommender_system_test</td>\n",
       "      <td>2020-12-17 03:48:47</td>\n",
       "      <td>product_page</td>\n",
       "      <td>NaN</td>\n",
       "      <td>2020-12-17</td>\n",
       "      <td>2020-12-31</td>\n",
       "    </tr>\n",
       "    <tr>\n",
       "      <td>10792</td>\n",
       "      <td>4408C615880185FB</td>\n",
       "      <td>2020-12-15</td>\n",
       "      <td>EU</td>\n",
       "      <td>iPhone</td>\n",
       "      <td>A</td>\n",
       "      <td>recommender_system_test</td>\n",
       "      <td>2020-12-21 13:46:32</td>\n",
       "      <td>product_page</td>\n",
       "      <td>NaN</td>\n",
       "      <td>2020-12-21</td>\n",
       "      <td>2020-12-29</td>\n",
       "    </tr>\n",
       "    <tr>\n",
       "      <td>18622</td>\n",
       "      <td>6166273FF727F34F</td>\n",
       "      <td>2020-12-18</td>\n",
       "      <td>EU</td>\n",
       "      <td>Mac</td>\n",
       "      <td>A</td>\n",
       "      <td>recommender_system_test</td>\n",
       "      <td>2020-12-23 21:58:26</td>\n",
       "      <td>purchase</td>\n",
       "      <td>4.99</td>\n",
       "      <td>2020-12-23</td>\n",
       "      <td>2021-01-01</td>\n",
       "    </tr>\n",
       "    <tr>\n",
       "      <td>1423</td>\n",
       "      <td>D588F6281B467D9D</td>\n",
       "      <td>2020-12-07</td>\n",
       "      <td>EU</td>\n",
       "      <td>PC</td>\n",
       "      <td>A</td>\n",
       "      <td>recommender_system_test</td>\n",
       "      <td>2020-12-27 09:24:38</td>\n",
       "      <td>product_page</td>\n",
       "      <td>NaN</td>\n",
       "      <td>2020-12-27</td>\n",
       "      <td>2020-12-21</td>\n",
       "    </tr>\n",
       "    <tr>\n",
       "      <td>20191</td>\n",
       "      <td>D6649FC9A4F2CC18</td>\n",
       "      <td>2020-12-19</td>\n",
       "      <td>EU</td>\n",
       "      <td>iPhone</td>\n",
       "      <td>A</td>\n",
       "      <td>recommender_system_test</td>\n",
       "      <td>2020-12-25 06:03:36</td>\n",
       "      <td>product_page</td>\n",
       "      <td>NaN</td>\n",
       "      <td>2020-12-25</td>\n",
       "      <td>2021-01-02</td>\n",
       "    </tr>\n",
       "  </tbody>\n",
       "</table>\n",
       "</div>"
      ],
      "text/plain": [
       "                user_id first_date region  device group  \\\n",
       "15451  3AA908B2D4A96AC2 2020-12-17     EU      PC     A   \n",
       "10792  4408C615880185FB 2020-12-15     EU  iPhone     A   \n",
       "18622  6166273FF727F34F 2020-12-18     EU     Mac     A   \n",
       "1423   D588F6281B467D9D 2020-12-07     EU      PC     A   \n",
       "20191  D6649FC9A4F2CC18 2020-12-19     EU  iPhone     A   \n",
       "\n",
       "                       ab_test            event_dt    event_name  details  \\\n",
       "15451  recommender_system_test 2020-12-17 03:48:47  product_page      NaN   \n",
       "10792  recommender_system_test 2020-12-21 13:46:32  product_page      NaN   \n",
       "18622  recommender_system_test 2020-12-23 21:58:26      purchase     4.99   \n",
       "1423   recommender_system_test 2020-12-27 09:24:38  product_page      NaN   \n",
       "20191  recommender_system_test 2020-12-25 06:03:36  product_page      NaN   \n",
       "\n",
       "      event_date conversion_date  \n",
       "15451 2020-12-17      2020-12-31  \n",
       "10792 2020-12-21      2020-12-29  \n",
       "18622 2020-12-23      2021-01-01  \n",
       "1423  2020-12-27      2020-12-21  \n",
       "20191 2020-12-25      2021-01-02  "
      ]
     },
     "execution_count": 42,
     "metadata": {},
     "output_type": "execute_result"
    }
   ],
   "source": [
    "# добавим столбец conversion_date = first_date + conversion_window\n",
    "users_events['conversion_date'] = users_events['first_date'] + pd.Timedelta(days = conversion_window)\n",
    "users_events.sample(5)"
   ]
  },
  {
   "cell_type": "code",
   "execution_count": 43,
   "metadata": {},
   "outputs": [
    {
     "data": {
      "text/plain": [
       "23420"
      ]
     },
     "execution_count": 43,
     "metadata": {},
     "output_type": "execute_result"
    }
   ],
   "source": [
    "len(users_events)"
   ]
  },
  {
   "cell_type": "code",
   "execution_count": 44,
   "metadata": {},
   "outputs": [
    {
     "data": {
      "text/plain": [
       "A    18309\n",
       "B     5111\n",
       "Name: group, dtype: int64"
      ]
     },
     "execution_count": 44,
     "metadata": {},
     "output_type": "execute_result"
    }
   ],
   "source": [
    "users_events['group'].value_counts()"
   ]
  },
  {
   "cell_type": "code",
   "execution_count": 45,
   "metadata": {},
   "outputs": [
    {
     "data": {
      "text/plain": [
       "22828"
      ]
     },
     "execution_count": 45,
     "metadata": {},
     "output_type": "execute_result"
    }
   ],
   "source": [
    "# отберем данные за 14 дней\n",
    "df = users_events.query('event_date>=first_date & event_date<=conversion_date')\n",
    "len(df)"
   ]
  },
  {
   "cell_type": "code",
   "execution_count": 46,
   "metadata": {},
   "outputs": [
    {
     "data": {
      "text/plain": [
       "3481"
      ]
     },
     "execution_count": 46,
     "metadata": {},
     "output_type": "execute_result"
    }
   ],
   "source": [
    "df['user_id'].nunique()"
   ]
  },
  {
   "cell_type": "code",
   "execution_count": 47,
   "metadata": {
    "scrolled": true
   },
   "outputs": [
    {
     "data": {
      "text/plain": [
       "user_id    6.557886\n",
       "dtype: float64"
      ]
     },
     "execution_count": 47,
     "metadata": {},
     "output_type": "execute_result"
    }
   ],
   "source": [
    "df.groupby(['user_id']).agg({'user_id':'count'}).mean()"
   ]
  },
  {
   "cell_type": "markdown",
   "metadata": {},
   "source": [
    "Среднее количество событий на пользователя снизилось с 6.73 до 6.56."
   ]
  },
  {
   "cell_type": "markdown",
   "metadata": {},
   "source": [
    "2. Посмотрим, как распределено количество событий на пользователя в выборках:"
   ]
  },
  {
   "cell_type": "code",
   "execution_count": 48,
   "metadata": {},
   "outputs": [],
   "source": [
    "df_a = df.query('group == \"A\"')\n",
    "df_b = df.query('group == \"B\"')"
   ]
  },
  {
   "cell_type": "code",
   "execution_count": 49,
   "metadata": {},
   "outputs": [
    {
     "data": {
      "image/png": "[encoded data removed]",
      "text/plain": [
       "<Figure size 720x432 with 1 Axes>"
      ]
     },
     "metadata": {},
     "output_type": "display_data"
    }
   ],
   "source": [
    "ax = df_a.groupby(['user_id']).agg({'event_name':'count'}).plot(kind='hist', alpha=0.6)\n",
    "df_b.groupby(['user_id']).agg({'event_name':'count'}).plot(kind='hist', alpha=0.6, ax=ax)\n",
    "\n",
    "plt.legend(labels=['A','B'])\n",
    "plt.title('Количество событий на одного пользователя по группам')\n",
    "plt.xlabel('Количество событий на одного пользователя')\n",
    "plt.ylabel('Количество пользователей')\n",
    "plt.show()"
   ]
  },
  {
   "cell_type": "code",
   "execution_count": 50,
   "metadata": {},
   "outputs": [
    {
     "data": {
      "text/html": [
       "<div>\n",
       "<style scoped>\n",
       "    .dataframe tbody tr th:only-of-type {\n",
       "        vertical-align: middle;\n",
       "    }\n",
       "\n",
       "    .dataframe tbody tr th {\n",
       "        vertical-align: top;\n",
       "    }\n",
       "\n",
       "    .dataframe thead th {\n",
       "        text-align: right;\n",
       "    }\n",
       "</style>\n",
       "<table border=\"1\" class=\"dataframe\">\n",
       "  <thead>\n",
       "    <tr style=\"text-align: right;\">\n",
       "      <th></th>\n",
       "      <th>min</th>\n",
       "      <th>max</th>\n",
       "      <th>mean</th>\n",
       "    </tr>\n",
       "    <tr>\n",
       "      <th>group</th>\n",
       "      <th></th>\n",
       "      <th></th>\n",
       "      <th></th>\n",
       "    </tr>\n",
       "  </thead>\n",
       "  <tbody>\n",
       "    <tr>\n",
       "      <td>A</td>\n",
       "      <td>1</td>\n",
       "      <td>24</td>\n",
       "      <td>6.903610</td>\n",
       "    </tr>\n",
       "    <tr>\n",
       "      <td>B</td>\n",
       "      <td>1</td>\n",
       "      <td>24</td>\n",
       "      <td>5.531357</td>\n",
       "    </tr>\n",
       "  </tbody>\n",
       "</table>\n",
       "</div>"
      ],
      "text/plain": [
       "       min  max      mean\n",
       "group                    \n",
       "A        1   24  6.903610\n",
       "B        1   24  5.531357"
      ]
     },
     "execution_count": 50,
     "metadata": {},
     "output_type": "execute_result"
    }
   ],
   "source": [
    "(df.groupby(['group', 'user_id'], as_index=False)['event_name'].agg(['count'])\n",
    " .groupby(['group'])['count'].agg(['min','max','mean'])\n",
    ")"
   ]
  },
  {
   "cell_type": "markdown",
   "metadata": {},
   "source": [
    "3. Посмотрим, как распределено количество событий по дням:"
   ]
  },
  {
   "cell_type": "code",
   "execution_count": 51,
   "metadata": {},
   "outputs": [
    {
     "data": {
      "image/png": "[encoded data removed]",
      "text/plain": [
       "<Figure size 720x432 with 1 Axes>"
      ]
     },
     "metadata": {},
     "output_type": "display_data"
    }
   ],
   "source": [
    "ax = df.groupby(['event_date']).agg({'user_id':'count'}).plot()\n",
    "df_a.groupby(['event_date']).agg({'user_id':'count'}).plot(ax=ax)\n",
    "df_b.groupby(['event_date']).agg({'user_id':'count'}).plot(ax=ax)\n",
    "\n",
    "plt.legend(labels=['total','A','B'])\n",
    "plt.grid()\n",
    "plt.title('Количество событий по дням')\n",
    "plt.xlabel('Даты')\n",
    "plt.ylabel('Количество событий')\n",
    "plt.show()"
   ]
  },
  {
   "cell_type": "code",
   "execution_count": 52,
   "metadata": {},
   "outputs": [
    {
     "name": "stdout",
     "output_type": "stream",
     "text": [
      "Максимум событий произошло 2020-12-29 = 2304\n",
      "Минимум событий произошло 2020-12-07 = 332\n"
     ]
    }
   ],
   "source": [
    "events_per_date = df.groupby(['event_date'], as_index=False).agg({'user_id':'count'})\n",
    "events_max = events_per_date.max()\n",
    "events_min = events_per_date.min()\n",
    "\n",
    "print('Максимум событий произошло {} = {}'.format(events_max[0].strftime(format='%Y-%m-%d'), events_max[1]))\n",
    "print('Минимум событий произошло {} = {}'.format(events_min[0].strftime(format='%Y-%m-%d'), events_min[1]))"
   ]
  },
  {
   "cell_type": "markdown",
   "metadata": {},
   "source": [
    "### Промежуточные выводы\n",
    "\n",
    "На этом этапе выяснили:\n",
    "- Из 6351 совершили хотя бы одно действие 3481 пользователей (54.8%);\n",
    "- Характер распределения количества событий на одного пользователя различается: в группе A пик на 8-10, а в группе B – 1-3, но при этом более длинный хвост; среднее в группе А больше – 6.9 против 5.5 в группе B;\n",
    "- Распределение количества событий по дням в группе B более ровное;\n",
    "- Максимум событий произошло 2020-12-29 = 2304;\n",
    "- Минимум событий произошло 2020-12-07 = 332."
   ]
  },
  {
   "cell_type": "markdown",
   "metadata": {},
   "source": [
    " <div align='right'><a href='#content'>↑ В начало проекта ↑</a></div>"
   ]
  },
  {
   "cell_type": "markdown",
   "metadata": {},
   "source": [
    "---"
   ]
  },
  {
   "cell_type": "markdown",
   "metadata": {},
   "source": [
    "## <a id='step-5'>Шаг 5. Оценка результатов A/B-тестирования</a>"
   ]
  },
  {
   "cell_type": "markdown",
   "metadata": {},
   "source": [
    "1. Напишем функцию для проверки гипотез, которая будет:\n",
    "\n",
    "   - Принимать на вход название события и значение критического уровня статистической значимости (alpha, по умолчанию будет равно 0.05);\n",
    "   - Выводить анализируемое событие, нулевую и альтернативные гипотезы;\n",
    "   - Рассчитывать и выводить долю пользователей, совершивших действие, в каждой группе;\n",
    "   - Проводить z-тест и выводить его результаты."
   ]
  },
  {
   "cell_type": "code",
   "execution_count": 53,
   "metadata": {},
   "outputs": [],
   "source": [
    "def check_hyp(event, alpha=0.05):\n",
    "    \n",
    "    # пишем, какое событие анализируем   \n",
    "    print(colored('Событие {} в группах A и B'.format(event), attrs=['bold']))\n",
    "    \n",
    "    # формулируем нулевую и альтернативную гипотезы\n",
    "    print()\n",
    "    print('H0: доли пользователей, совершивших событие {}, в группах A и B не различаются.'.format(event))\n",
    "    print('H1: доли пользователей, совершивших событие {}, в группах A и B различаются.'.format(event))\n",
    "    \n",
    "    # считаем количество пользователей, совершивших событие, в каждой группе\n",
    "    successesA = df_a.loc[df_a['event_name']==event, 'user_id'].nunique()\n",
    "    successesB = df_b.loc[df_b['event_name']==event, 'user_id'].nunique()\n",
    "    \n",
    "    # вытаскиваем общее количество пользователей\n",
    "    totalA = groups_cnt.loc[groups_cnt['group'] == 'A', 'user_id'].values[0]\n",
    "    totalB = groups_cnt.loc[groups_cnt['group'] == 'B', 'user_id'].values[0]\n",
    "    \n",
    "    # находим доли\n",
    "    propA = successesA / totalA\n",
    "    propB = successesB / totalB\n",
    "    \n",
    "    # выводим доли + количество пользователей в группах\n",
    "    print()\n",
    "    print(f'{propA:.0%} от {totalA} пользователей с событием {event} в группе «A»')\n",
    "    print(f'{propB:.0%} от {totalB} пользователей с событием {event} в группе «B»')\n",
    "    \n",
    "    \n",
    "    ########## проверяем гипотезу ##########\n",
    "      \n",
    "    # пропорция успехов в группах\n",
    "    pA = successesA / totalA\n",
    "    pB = successesB / totalB\n",
    "\n",
    "    # пропорция успехов в комбинированной группе\n",
    "    p_combined = (successesA + successesB) / (totalA + totalB)\n",
    "\n",
    "    # разница пропорций в группах\n",
    "    difference = pA - pB\n",
    "    \n",
    "    # выводим, в какой группе конверсия лучше\n",
    "    if difference > 0:\n",
    "        print(colored('Конверсия в группе B хуже.', 'red'))\n",
    "    else:\n",
    "        print(colored('Конверсия в группе B лучше.', 'greed'))\n",
    "\n",
    "    # статистика в стандартных отклонениях стандартного нормального распределения\n",
    "    z_value = difference / mth.sqrt(p_combined * (1 - p_combined) * (1/totalA + 1/totalB))\n",
    "\n",
    "    # задаем стандартное нормальное распределение (среднее = 0, стандартное отклонение = 1)\n",
    "    distr = st.norm(0, 1)\n",
    "    \n",
    "    # посчитаем, как далеко статистика уехала от нуля = какова вероятность получить такое отличие или больше\n",
    "    # так как распределение статистики нормальное, вызовем метод cdf()\n",
    "    # саму z-статистику возьмём по модулю методом abs(), чтобы получить правильный результат независимо от её знака\n",
    "    # это возможно, потому что тест двусторонний. По этой же причине удваиваем результат:\n",
    "    p_value = (1 - distr.cdf(abs(z_value))) * 2\n",
    "    \n",
    "    print()\n",
    "    print(f'p-значение: {p_value:.4%}')\n",
    "\n",
    "    # используем библиотеку termcolor\n",
    "    if (p_value < alpha):\n",
    "        print(colored('Отвергаем нулевую гипотезу: между долями есть значимая разница.', 'green'))\n",
    "    else:\n",
    "        print(colored('Не получилось отвергнуть нулевую гипотезу, нет оснований считать доли разными.', 'red'))\n",
    "    \n",
    "    print()\n",
    "    print()\n",
    "    \n",
    "    return"
   ]
  },
  {
   "cell_type": "markdown",
   "metadata": {},
   "source": [
    "2. Так как мы будем проверять три гипотезы на одном наборе данных, используем поправку уровня статистической значимости методом Бонферрони:"
   ]
  },
  {
   "cell_type": "code",
   "execution_count": 54,
   "metadata": {},
   "outputs": [],
   "source": [
    "alpha = 0.05\n",
    "alpha_corr = alpha / 3"
   ]
  },
  {
   "cell_type": "markdown",
   "metadata": {},
   "source": [
    "3. Проверим статистическую разницу долей по каждому событию:"
   ]
  },
  {
   "cell_type": "code",
   "execution_count": 55,
   "metadata": {},
   "outputs": [
    {
     "name": "stdout",
     "output_type": "stream",
     "text": [
      "\u001b[1mСобытие product_page в группах A и B\u001b[0m\n",
      "\n",
      "H0: доли пользователей, совершивших событие product_page, в группах A и B не различаются.\n",
      "H1: доли пользователей, совершивших событие product_page, в группах A и B различаются.\n",
      "\n",
      "46% от 3634 пользователей с событием product_page в группе «A»\n",
      "18% от 2717 пользователей с событием product_page в группе «B»\n",
      "\u001b[31mКонверсия в группе B хуже.\u001b[0m\n",
      "\n",
      "p-значение: 0.0000%\n",
      "\u001b[32mОтвергаем нулевую гипотезу: между долями есть значимая разница.\u001b[0m\n",
      "\n",
      "\n",
      "\u001b[1mСобытие product_cart в группах A и B\u001b[0m\n",
      "\n",
      "H0: доли пользователей, совершивших событие product_cart, в группах A и B не различаются.\n",
      "H1: доли пользователей, совершивших событие product_cart, в группах A и B различаются.\n",
      "\n",
      "22% от 3634 пользователей с событием product_cart в группе «A»\n",
      "9% от 2717 пользователей с событием product_cart в группе «B»\n",
      "\u001b[31mКонверсия в группе B хуже.\u001b[0m\n",
      "\n",
      "p-значение: 0.0000%\n",
      "\u001b[32mОтвергаем нулевую гипотезу: между долями есть значимая разница.\u001b[0m\n",
      "\n",
      "\n",
      "\u001b[1mСобытие purchase в группах A и B\u001b[0m\n",
      "\n",
      "H0: доли пользователей, совершивших событие purchase, в группах A и B не различаются.\n",
      "H1: доли пользователей, совершивших событие purchase, в группах A и B различаются.\n",
      "\n",
      "23% от 3634 пользователей с событием purchase в группе «A»\n",
      "9% от 2717 пользователей с событием purchase в группе «B»\n",
      "\u001b[31mКонверсия в группе B хуже.\u001b[0m\n",
      "\n",
      "p-значение: 0.0000%\n",
      "\u001b[32mОтвергаем нулевую гипотезу: между долями есть значимая разница.\u001b[0m\n",
      "\n",
      "\n"
     ]
    }
   ],
   "source": [
    "for event in ['product_page', 'product_cart', 'purchase']:\n",
    "    check_hyp(event, alpha=alpha_corr)"
   ]
  },
  {
   "cell_type": "markdown",
   "metadata": {},
   "source": [
    "### Промежуточные выводы\n",
    "\n",
    "По всем параметрам группа `B` хуже — конверсия в ней статистически значимо ниже."
   ]
  },
  {
   "cell_type": "markdown",
   "metadata": {},
   "source": [
    "<div align='right'><a href='#content'>↑ В начало проекта ↑</a></div>"
   ]
  },
  {
   "cell_type": "markdown",
   "metadata": {},
   "source": [
    "---"
   ]
  },
  {
   "cell_type": "markdown",
   "metadata": {},
   "source": [
    "## <a id='result'>Общие выводы</a>"
   ]
  },
  {
   "cell_type": "markdown",
   "metadata": {},
   "source": [
    "Результаты A/B-теста следует признать неудачными: по всем параметрам группа B хуже — конверсия в ней статистически значимо ниже, чем в контрольной группе A.\n",
    "\n",
    "При этом нужно заметить, что при проведении теста были особенности:\n",
    "- 25% пользователей участвовали в двух тестах одновременно;\n",
    "- Пользователи распределялись по группам неравномерно (относительное различие в количестве пользователей в группах = 25.2%);\n",
    "- Во время теста проходила новогодняя акция, поэтому поведение пользователей могло быть нестандартным.\n",
    "\n",
    "В целом, рекомендуем **НЕ внедрять** тестируемое изменение в продукт."
   ]
  },
  {
   "cell_type": "markdown",
   "metadata": {},
   "source": [
    "<div align='right'><a href='#content'>↑ В начало проекта ↑</a></div>"
   ]
  }
 ],
 "metadata": {
  "kernelspec": {
   "display_name": "Python 3",
   "language": "python",
   "name": "python3"
  },
  "language_info": {
   "codemirror_mode": {
    "name": "ipython",
    "version": 3
   },
   "file_extension": ".py",
   "mimetype": "text/x-python",
   "name": "python",
   "nbconvert_exporter": "python",
   "pygments_lexer": "ipython3",
   "version": "3.7.8"
  },
  "toc": {
   "base_numbering": 1,
   "nav_menu": {},
   "number_sections": true,
   "sideBar": true,
   "skip_h1_title": false,
   "title_cell": "Table of Contents",
   "title_sidebar": "Contents",
   "toc_cell": false,
   "toc_position": {},
   "toc_section_display": true,
   "toc_window_display": false
  }
 },
 "nbformat": 4,
 "nbformat_minor": 2
}
