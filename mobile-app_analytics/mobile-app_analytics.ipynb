{
 "cells": [
  {
   "cell_type": "markdown",
   "metadata": {},
   "source": [
    "# Анализ поведения пользователей в мобильном приложении"
   ]
  },
  {
   "cell_type": "markdown",
   "metadata": {},
   "source": [
    "## Ссылки\n",
    "\n",
    "- <a href='https://drive.google.com/file/d/16FCb2Stj9MKA95Bqn-c9-yabNEFc5Aeo/view?usp=sharing'> Презентация проекта (PDF) </a>\n",
    "\n",
    "\n",
    "- <a href='https://public.tableau.com/profile/tatyana.chernyavskaya#!/vizhome/final_mobile-app/mobile_app'> Дашборд в Tableau Public</a>:\n",
    "\n",
    "  - Диаграмма, отображающая количество событий по дням;\n",
    "  - Гистограмма, отображающая количество пользователей, пришедших из разных источников;\n",
    "  - Фильтр дашборда по типу события."
   ]
  },
  {
   "cell_type": "markdown",
   "metadata": {},
   "source": [
    "## Описание проекта\n",
    "\n",
    "### Контекст\n",
    "\n",
    "Мобильное приложение (далее МП) «Ненужные вещи» — в нем пользователи продают свои ненужные вещи, размещая их на доске объявлений.\n",
    "\n",
    "Целевой сценарий использования МП:\n",
    "1. Пользователь ищет объявления, релевантные его запросу (например, купить фотоаппарат или удочку).\n",
    "2. Просматривает подходящие объявления.\n",
    "3. В заинтересовавших его объявлениях **просматривает контакты продавца**.\n",
    "4. Звонит продавцу и заключает сделку.\n",
    "\n",
    "Целевое событие всего сервиса — совершение сделки (покупка/продажа вещи). Но в рамках данного исследования целевым действием является просмотр контактов (логируемое событие `contacts_show` / `show_contacts`). Данное действие необходимо для защиты данных продавцов от парсинга и дальнейшего спама. Но с точки зрения удобства использования и конверсии в совершение сделки, это действие является дополнительной преградой для пользователя.\n",
    "\n",
    "\n",
    "### Цель и ключевая гипотеза\n",
    "\n",
    "Необходимо подготовить данные для принятия решения о судьбе действия «просмотр контактов». По результатам исследования product-менеджер выступит с презентацией на совете директоров, где будет принято решение о том, что делать с этим действием — оставить / убрать / изменить.\n",
    "\n",
    "Ключевая гипотеза — на этапе просмотра контактов «отваливается» большое количество пользователей, то есть происходит существенное снижение конверсии в звонок.\n",
    "\n",
    "\n",
    "### Задачи\n",
    "\n",
    "1. Оценить, какие действия чаще совершают те пользователи, которые просматривают контакты;\n",
    "2. Оценить влияние необходимости просмотра контактов на конверсию в звонок;\n",
    "3. Проверить статистические гипотезы."
   ]
  },
  {
   "cell_type": "markdown",
   "metadata": {},
   "source": [
    "## Описание данных\n",
    "\n",
    "Датасет содержит данные о событиях, совершенных в МП. В датасете содержатся данные пользователей, впервые совершивших действия в приложении после 7 октября 2019 года.\n",
    "\n",
    "Колонки в `mobile_sources.csv`: \n",
    "- `userId` — идентификатор пользователя,\n",
    "- `source` — источник, с которого пользователь установил приложение.\n",
    "\n",
    "Колонки в `mobile_dataset.csv`:\n",
    "- `event.time` — время совершения,\n",
    "- `user.id` — идентификатор пользователя,\n",
    "- `event.name` — действие пользователя.\n",
    "\n",
    "Виды действий:\n",
    "- `advert_open` — открыл карточки объявления,\n",
    "- `photos_show` — просмотрел фотографий в объявлении,\n",
    "- `tips_show` — увидел рекомендованные объявления,\n",
    "- `tips_click` — кликнул по рекомендованному объявлению,\n",
    "- `contacts_show` и `show_contacts` — посмотрел номер телефона,\n",
    "- `contacts_call` — позвонил по номеру из объявления,\n",
    "- `map` — открыл карту объявлений,\n",
    "- `search_1` — `search_7` — разные действия, связанные с поиском по сайту,\n",
    "- `favorites_add` — добавил объявление в избранное."
   ]
  },
  {
   "cell_type": "markdown",
   "metadata": {},
   "source": [
    "## <a id='content'>План проекта</a>\n",
    "\n",
    "1. [Подготовка и настройка](#step-0)\n",
    "2. [Загрузка данных и изучение общей информации о датасетах](#step-1)\n",
    "3. [Предобработка данных](#step-2)\n",
    "4. [Исследовательский анализ данных (EDA)](#step-3)\n",
    "5. [Изучение связи целевого и других событий](#step-4)\n",
    "6. [Проверка статистических гипотез](#step-5)\n",
    "7. [Общие выводы](#results)"
   ]
  },
  {
   "cell_type": "markdown",
   "metadata": {},
   "source": [
    "---"
   ]
  },
  {
   "cell_type": "markdown",
   "metadata": {},
   "source": [
    "## <a id='step-0'>Шаг 0. Подготовка и настройка</a>"
   ]
  },
  {
   "cell_type": "markdown",
   "metadata": {},
   "source": [
    "### Импорт библиотек"
   ]
  },
  {
   "cell_type": "code",
   "execution_count": 1,
   "metadata": {},
   "outputs": [],
   "source": [
    "import pandas as pd\n",
    "import numpy as np\n",
    "import math as mth\n",
    "from datetime import datetime\n",
    "\n",
    "from scipy import stats as st\n",
    "from termcolor import colored # раскраска текста\n",
    "\n",
    "import matplotlib.pyplot as plt\n",
    "import seaborn as sns\n",
    "\n",
    "import calendar # дни недели текстом, а не цифрами"
   ]
  },
  {
   "cell_type": "code",
   "execution_count": 2,
   "metadata": {},
   "outputs": [],
   "source": [
    "# отключение предупреждений\n",
    "import warnings\n",
    "warnings.filterwarnings('ignore')"
   ]
  },
  {
   "cell_type": "markdown",
   "metadata": {},
   "source": [
    "### Настройки для графиков"
   ]
  },
  {
   "cell_type": "code",
   "execution_count": 3,
   "metadata": {},
   "outputs": [],
   "source": [
    "# настройки графиков\n",
    "large = 16; medium = 14; small = 12\n",
    "\n",
    "params = {'axes.titlesize': large,\n",
    "          'axes.labelsize': medium,\n",
    "          'legend.fontsize': medium,\n",
    "          'figure.titlesize': large,\n",
    "          'figure.figsize': (10, 6),\n",
    "          'xtick.labelsize': small,\n",
    "          'ytick.labelsize': small,\n",
    "          'axes.grid': True,\n",
    "          'legend.loc': 'upper left',\n",
    "          'axes.titlepad': 20.0, # отступ названия графика\n",
    "          'axes.labelpad': 8.0, # отступ для подписей осей\n",
    "          'legend.title_fontsize': medium,\n",
    "         }\n",
    "plt.rcParams.update(params)\n",
    "# plt.rcParams.keys() # список параметров и их значения\n",
    "\n",
    "plt.style.use('seaborn-muted') # единый стиль графиков\n",
    "sns.set_style('white')"
   ]
  },
  {
   "cell_type": "markdown",
   "metadata": {},
   "source": [
    "### Собственные функции для автоматизации дальнейших действий"
   ]
  },
  {
   "cell_type": "markdown",
   "metadata": {},
   "source": [
    "Функция для подписи значений на bar-графиках:"
   ]
  },
  {
   "cell_type": "code",
   "execution_count": 4,
   "metadata": {},
   "outputs": [],
   "source": [
    "def make_annotates(chart):\n",
    "    for p in chart.patches:\n",
    "        x = p.get_x() + p.get_width()/2\n",
    "        y = p.get_height()\n",
    "        chart.annotate('{:.0f}'.format(y), (x, y), size=12, ha='center', va='bottom')\n",
    "    return"
   ]
  },
  {
   "cell_type": "markdown",
   "metadata": {},
   "source": [
    "<div align='right'><a href='#content'>↑ В начало проекта ↑</a></div>"
   ]
  },
  {
   "cell_type": "markdown",
   "metadata": {},
   "source": [
    "---"
   ]
  },
  {
   "cell_type": "markdown",
   "metadata": {},
   "source": [
    "## <a id='step-1'>Шаг 1. Загрузка данных и изучение общей информации о датасетах</a>"
   ]
  },
  {
   "cell_type": "markdown",
   "metadata": {},
   "source": [
    "1. Загрузим датасеты в переменные:"
   ]
  },
  {
   "cell_type": "code",
   "execution_count": 5,
   "metadata": {},
   "outputs": [],
   "source": [
    "users = pd.read_csv('/datasets/mobile_soures.csv')\n",
    "events = pd.read_csv('/datasets/mobile_dataset.csv')"
   ]
  },
  {
   "cell_type": "markdown",
   "metadata": {},
   "source": [
    "2. Посмотрим на примеры строк в датасетах:"
   ]
  },
  {
   "cell_type": "code",
   "execution_count": 6,
   "metadata": {},
   "outputs": [
    {
     "data": {
      "text/html": [
       "<div>\n",
       "<style scoped>\n",
       "    .dataframe tbody tr th:only-of-type {\n",
       "        vertical-align: middle;\n",
       "    }\n",
       "\n",
       "    .dataframe tbody tr th {\n",
       "        vertical-align: top;\n",
       "    }\n",
       "\n",
       "    .dataframe thead th {\n",
       "        text-align: right;\n",
       "    }\n",
       "</style>\n",
       "<table border=\"1\" class=\"dataframe\">\n",
       "  <thead>\n",
       "    <tr style=\"text-align: right;\">\n",
       "      <th></th>\n",
       "      <th>userId</th>\n",
       "      <th>source</th>\n",
       "    </tr>\n",
       "  </thead>\n",
       "  <tbody>\n",
       "    <tr>\n",
       "      <td>1253</td>\n",
       "      <td>c48e0935-d425-43bc-8768-67a2ea07dbcd</td>\n",
       "      <td>other</td>\n",
       "    </tr>\n",
       "    <tr>\n",
       "      <td>4153</td>\n",
       "      <td>57a6b317-01f6-4c61-ba7c-afb3e8444148</td>\n",
       "      <td>google</td>\n",
       "    </tr>\n",
       "    <tr>\n",
       "      <td>1984</td>\n",
       "      <td>fbd33488-4b60-48ef-bc82-3ec268b5ae9b</td>\n",
       "      <td>yandex</td>\n",
       "    </tr>\n",
       "    <tr>\n",
       "      <td>661</td>\n",
       "      <td>fa2b7f11-8713-48f1-b8bf-21f2fcb6b278</td>\n",
       "      <td>yandex</td>\n",
       "    </tr>\n",
       "    <tr>\n",
       "      <td>575</td>\n",
       "      <td>8911014a-89b7-4f0c-96de-dfa6b3dd8ab2</td>\n",
       "      <td>google</td>\n",
       "    </tr>\n",
       "  </tbody>\n",
       "</table>\n",
       "</div>"
      ],
      "text/plain": [
       "                                    userId  source\n",
       "1253  c48e0935-d425-43bc-8768-67a2ea07dbcd   other\n",
       "4153  57a6b317-01f6-4c61-ba7c-afb3e8444148  google\n",
       "1984  fbd33488-4b60-48ef-bc82-3ec268b5ae9b  yandex\n",
       "661   fa2b7f11-8713-48f1-b8bf-21f2fcb6b278  yandex\n",
       "575   8911014a-89b7-4f0c-96de-dfa6b3dd8ab2  google"
      ]
     },
     "metadata": {},
     "output_type": "display_data"
    },
    {
     "data": {
      "text/html": [
       "<div>\n",
       "<style scoped>\n",
       "    .dataframe tbody tr th:only-of-type {\n",
       "        vertical-align: middle;\n",
       "    }\n",
       "\n",
       "    .dataframe tbody tr th {\n",
       "        vertical-align: top;\n",
       "    }\n",
       "\n",
       "    .dataframe thead th {\n",
       "        text-align: right;\n",
       "    }\n",
       "</style>\n",
       "<table border=\"1\" class=\"dataframe\">\n",
       "  <thead>\n",
       "    <tr style=\"text-align: right;\">\n",
       "      <th></th>\n",
       "      <th>event.time</th>\n",
       "      <th>event.name</th>\n",
       "      <th>user.id</th>\n",
       "    </tr>\n",
       "  </thead>\n",
       "  <tbody>\n",
       "    <tr>\n",
       "      <td>63264</td>\n",
       "      <td>2019-10-30 19:33:32.839189</td>\n",
       "      <td>tips_show</td>\n",
       "      <td>081bb564-703e-4f1c-9016-ac9460dec5bf</td>\n",
       "    </tr>\n",
       "    <tr>\n",
       "      <td>73756</td>\n",
       "      <td>2019-11-03 21:26:44.500826</td>\n",
       "      <td>search_1</td>\n",
       "      <td>961a89e9-00b8-4168-a1ba-cbb036dd2f4e</td>\n",
       "    </tr>\n",
       "    <tr>\n",
       "      <td>28843</td>\n",
       "      <td>2019-10-18 19:00:19.348829</td>\n",
       "      <td>tips_show</td>\n",
       "      <td>1e49028e-e90e-4b27-9467-c101d8f94156</td>\n",
       "    </tr>\n",
       "    <tr>\n",
       "      <td>46929</td>\n",
       "      <td>2019-10-25 12:34:11.993084</td>\n",
       "      <td>tips_show</td>\n",
       "      <td>2ed1eabe-8bbb-4418-92d8-969d9963e6ea</td>\n",
       "    </tr>\n",
       "    <tr>\n",
       "      <td>8710</td>\n",
       "      <td>2019-10-10 17:28:54.750204</td>\n",
       "      <td>tips_click</td>\n",
       "      <td>9d2c3d71-c6e8-4957-bc3d-e3a00752519d</td>\n",
       "    </tr>\n",
       "  </tbody>\n",
       "</table>\n",
       "</div>"
      ],
      "text/plain": [
       "                       event.time  event.name  \\\n",
       "63264  2019-10-30 19:33:32.839189   tips_show   \n",
       "73756  2019-11-03 21:26:44.500826    search_1   \n",
       "28843  2019-10-18 19:00:19.348829   tips_show   \n",
       "46929  2019-10-25 12:34:11.993084   tips_show   \n",
       "8710   2019-10-10 17:28:54.750204  tips_click   \n",
       "\n",
       "                                    user.id  \n",
       "63264  081bb564-703e-4f1c-9016-ac9460dec5bf  \n",
       "73756  961a89e9-00b8-4168-a1ba-cbb036dd2f4e  \n",
       "28843  1e49028e-e90e-4b27-9467-c101d8f94156  \n",
       "46929  2ed1eabe-8bbb-4418-92d8-969d9963e6ea  \n",
       "8710   9d2c3d71-c6e8-4957-bc3d-e3a00752519d  "
      ]
     },
     "metadata": {},
     "output_type": "display_data"
    }
   ],
   "source": [
    "for data in [users, events]:\n",
    "    display(data.sample(5))"
   ]
  },
  {
   "cell_type": "markdown",
   "metadata": {},
   "source": [
    "3. Изучим общую информацию о датасетах:"
   ]
  },
  {
   "cell_type": "code",
   "execution_count": 7,
   "metadata": {},
   "outputs": [
    {
     "name": "stdout",
     "output_type": "stream",
     "text": [
      "<class 'pandas.core.frame.DataFrame'>\n",
      "RangeIndex: 4293 entries, 0 to 4292\n",
      "Data columns (total 2 columns):\n",
      "userId    4293 non-null object\n",
      "source    4293 non-null object\n",
      "dtypes: object(2)\n",
      "memory usage: 67.2+ KB\n"
     ]
    },
    {
     "data": {
      "text/plain": [
       "None"
      ]
     },
     "metadata": {},
     "output_type": "display_data"
    },
    {
     "data": {
      "text/html": [
       "<div>\n",
       "<style scoped>\n",
       "    .dataframe tbody tr th:only-of-type {\n",
       "        vertical-align: middle;\n",
       "    }\n",
       "\n",
       "    .dataframe tbody tr th {\n",
       "        vertical-align: top;\n",
       "    }\n",
       "\n",
       "    .dataframe thead th {\n",
       "        text-align: right;\n",
       "    }\n",
       "</style>\n",
       "<table border=\"1\" class=\"dataframe\">\n",
       "  <thead>\n",
       "    <tr style=\"text-align: right;\">\n",
       "      <th></th>\n",
       "      <th>userId</th>\n",
       "      <th>source</th>\n",
       "    </tr>\n",
       "  </thead>\n",
       "  <tbody>\n",
       "    <tr>\n",
       "      <td>count</td>\n",
       "      <td>4293</td>\n",
       "      <td>4293</td>\n",
       "    </tr>\n",
       "    <tr>\n",
       "      <td>unique</td>\n",
       "      <td>4293</td>\n",
       "      <td>3</td>\n",
       "    </tr>\n",
       "    <tr>\n",
       "      <td>top</td>\n",
       "      <td>dcf534b4-da9f-42c2-b1dc-e8c8dc42dd13</td>\n",
       "      <td>yandex</td>\n",
       "    </tr>\n",
       "    <tr>\n",
       "      <td>freq</td>\n",
       "      <td>1</td>\n",
       "      <td>1934</td>\n",
       "    </tr>\n",
       "  </tbody>\n",
       "</table>\n",
       "</div>"
      ],
      "text/plain": [
       "                                      userId  source\n",
       "count                                   4293    4293\n",
       "unique                                  4293       3\n",
       "top     dcf534b4-da9f-42c2-b1dc-e8c8dc42dd13  yandex\n",
       "freq                                       1    1934"
      ]
     },
     "metadata": {},
     "output_type": "display_data"
    },
    {
     "name": "stdout",
     "output_type": "stream",
     "text": [
      "\n",
      "Дубликатов нет.\n",
      "\n",
      "----------\n",
      "\n",
      "<class 'pandas.core.frame.DataFrame'>\n",
      "RangeIndex: 74197 entries, 0 to 74196\n",
      "Data columns (total 3 columns):\n",
      "event.time    74197 non-null object\n",
      "event.name    74197 non-null object\n",
      "user.id       74197 non-null object\n",
      "dtypes: object(3)\n",
      "memory usage: 1.7+ MB\n"
     ]
    },
    {
     "data": {
      "text/plain": [
       "None"
      ]
     },
     "metadata": {},
     "output_type": "display_data"
    },
    {
     "data": {
      "text/html": [
       "<div>\n",
       "<style scoped>\n",
       "    .dataframe tbody tr th:only-of-type {\n",
       "        vertical-align: middle;\n",
       "    }\n",
       "\n",
       "    .dataframe tbody tr th {\n",
       "        vertical-align: top;\n",
       "    }\n",
       "\n",
       "    .dataframe thead th {\n",
       "        text-align: right;\n",
       "    }\n",
       "</style>\n",
       "<table border=\"1\" class=\"dataframe\">\n",
       "  <thead>\n",
       "    <tr style=\"text-align: right;\">\n",
       "      <th></th>\n",
       "      <th>event.time</th>\n",
       "      <th>event.name</th>\n",
       "      <th>user.id</th>\n",
       "    </tr>\n",
       "  </thead>\n",
       "  <tbody>\n",
       "    <tr>\n",
       "      <td>count</td>\n",
       "      <td>74197</td>\n",
       "      <td>74197</td>\n",
       "      <td>74197</td>\n",
       "    </tr>\n",
       "    <tr>\n",
       "      <td>unique</td>\n",
       "      <td>74197</td>\n",
       "      <td>16</td>\n",
       "      <td>4293</td>\n",
       "    </tr>\n",
       "    <tr>\n",
       "      <td>top</td>\n",
       "      <td>2019-10-12 22:45:01.197976</td>\n",
       "      <td>tips_show</td>\n",
       "      <td>cb36854f-570a-41f4-baa8-36680b396370</td>\n",
       "    </tr>\n",
       "    <tr>\n",
       "      <td>freq</td>\n",
       "      <td>1</td>\n",
       "      <td>40055</td>\n",
       "      <td>478</td>\n",
       "    </tr>\n",
       "  </tbody>\n",
       "</table>\n",
       "</div>"
      ],
      "text/plain": [
       "                        event.time event.name  \\\n",
       "count                        74197      74197   \n",
       "unique                       74197         16   \n",
       "top     2019-10-12 22:45:01.197976  tips_show   \n",
       "freq                             1      40055   \n",
       "\n",
       "                                     user.id  \n",
       "count                                  74197  \n",
       "unique                                  4293  \n",
       "top     cb36854f-570a-41f4-baa8-36680b396370  \n",
       "freq                                     478  "
      ]
     },
     "metadata": {},
     "output_type": "display_data"
    },
    {
     "name": "stdout",
     "output_type": "stream",
     "text": [
      "\n",
      "Дубликатов нет.\n",
      "\n",
      "----------\n",
      "\n"
     ]
    }
   ],
   "source": [
    "for data in [users, events]:\n",
    "    display(data.info())\n",
    "    display(data.describe())\n",
    "\n",
    "    duplicated_cnt = data.duplicated().sum()\n",
    "\n",
    "    print()\n",
    "    if duplicated_cnt > 0:\n",
    "        print('Количество пропусков:', duplicated_cnt)\n",
    "        display(data[data.duplicated()])\n",
    "    else:\n",
    "        print('Дубликатов нет.')\n",
    "\n",
    "    print()\n",
    "    print('----------')\n",
    "    print()"
   ]
  },
  {
   "cell_type": "markdown",
   "metadata": {},
   "source": [
    "4. Посмотрим, есть ли у нас пользователи с несколькими источниками:"
   ]
  },
  {
   "cell_type": "code",
   "execution_count": 8,
   "metadata": {},
   "outputs": [
    {
     "name": "stdout",
     "output_type": "stream",
     "text": [
      "Для каждого пользователя зафиксирован только один источник.\n"
     ]
    }
   ],
   "source": [
    "if len(users) < users['userId'].nunique():\n",
    "    users_sources = users.groupby(['userId']).agg({'source':'count'}).query('source > 1')\n",
    "    print('Пользователей с несколькими источниками:', len(users_sources))\n",
    "else:\n",
    "    print('Для каждого пользователя зафиксирован только один источник.')"
   ]
  },
  {
   "cell_type": "markdown",
   "metadata": {},
   "source": [
    "5. Посмотрим на типы событий:"
   ]
  },
  {
   "cell_type": "code",
   "execution_count": 9,
   "metadata": {
    "scrolled": true
   },
   "outputs": [
    {
     "data": {
      "text/plain": [
       "tips_show        40055\n",
       "photos_show      10012\n",
       "advert_open       6164\n",
       "contacts_show     4450\n",
       "map               3881\n",
       "search_1          3506\n",
       "favorites_add     1417\n",
       "search_5          1049\n",
       "tips_click         814\n",
       "search_4           701\n",
       "contacts_call      541\n",
       "search_3           522\n",
       "search_6           460\n",
       "search_2           324\n",
       "search_7           222\n",
       "show_contacts       79\n",
       "Name: event.name, dtype: int64"
      ]
     },
     "execution_count": 9,
     "metadata": {},
     "output_type": "execute_result"
    }
   ],
   "source": [
    "events['event.name'].value_counts()"
   ]
  },
  {
   "cell_type": "markdown",
   "metadata": {},
   "source": [
    "### Промежуточные выводы\n",
    "\n",
    "Датасет `users` (источники прихода пользователей):\n",
    "- Пропусков и дубликатов нет;\n",
    "- В спсике 4293 пользователя;\n",
    "- Для каждого пользователя указан только один источник;\n",
    "- Нужно переименовать столбец `userId` в `user_id` для единообразия в стиле именований.\n",
    "\n",
    "Датасет `events` (лог событий):\n",
    "- Пропусков и дубликатов нет;\n",
    "- В логе 74197 событий;\n",
    "- Стоит переименовать столбцы (вместо точки использовать нижнее подчеркивание);\n",
    "- Нужно привести тип данных в столбце `event.time` к дате и времени;\n",
    "- Добавить столбец с датой событий;\n",
    "- Объединить под общим названием события с типами `contacts_show` и `show_contacts`, так как они обозначают одно и то же действие — просмотр контактов."
   ]
  },
  {
   "cell_type": "markdown",
   "metadata": {},
   "source": [
    "<div align='right'><a href='#content'>↑ В начало проекта ↑</a></div>"
   ]
  },
  {
   "cell_type": "markdown",
   "metadata": {},
   "source": [
    "---"
   ]
  },
  {
   "cell_type": "markdown",
   "metadata": {},
   "source": [
    "## <a id='step-2'>Шаг 2. Предобработка данных</a>"
   ]
  },
  {
   "cell_type": "markdown",
   "metadata": {},
   "source": [
    "1. Переименуем столбцы:"
   ]
  },
  {
   "cell_type": "code",
   "execution_count": 10,
   "metadata": {},
   "outputs": [
    {
     "data": {
      "text/html": [
       "<div>\n",
       "<style scoped>\n",
       "    .dataframe tbody tr th:only-of-type {\n",
       "        vertical-align: middle;\n",
       "    }\n",
       "\n",
       "    .dataframe tbody tr th {\n",
       "        vertical-align: top;\n",
       "    }\n",
       "\n",
       "    .dataframe thead th {\n",
       "        text-align: right;\n",
       "    }\n",
       "</style>\n",
       "<table border=\"1\" class=\"dataframe\">\n",
       "  <thead>\n",
       "    <tr style=\"text-align: right;\">\n",
       "      <th></th>\n",
       "      <th>user_id</th>\n",
       "      <th>source</th>\n",
       "    </tr>\n",
       "  </thead>\n",
       "  <tbody>\n",
       "    <tr>\n",
       "      <td>3919</td>\n",
       "      <td>057739fd-4b33-47b3-8140-b10fa48ae90e</td>\n",
       "      <td>google</td>\n",
       "    </tr>\n",
       "  </tbody>\n",
       "</table>\n",
       "</div>"
      ],
      "text/plain": [
       "                                   user_id  source\n",
       "3919  057739fd-4b33-47b3-8140-b10fa48ae90e  google"
      ]
     },
     "execution_count": 10,
     "metadata": {},
     "output_type": "execute_result"
    }
   ],
   "source": [
    "users = users.rename(columns = {'userId':'user_id'})\n",
    "users.sample()"
   ]
  },
  {
   "cell_type": "code",
   "execution_count": 11,
   "metadata": {},
   "outputs": [
    {
     "data": {
      "text/html": [
       "<div>\n",
       "<style scoped>\n",
       "    .dataframe tbody tr th:only-of-type {\n",
       "        vertical-align: middle;\n",
       "    }\n",
       "\n",
       "    .dataframe tbody tr th {\n",
       "        vertical-align: top;\n",
       "    }\n",
       "\n",
       "    .dataframe thead th {\n",
       "        text-align: right;\n",
       "    }\n",
       "</style>\n",
       "<table border=\"1\" class=\"dataframe\">\n",
       "  <thead>\n",
       "    <tr style=\"text-align: right;\">\n",
       "      <th></th>\n",
       "      <th>event_time</th>\n",
       "      <th>event_name</th>\n",
       "      <th>user_id</th>\n",
       "    </tr>\n",
       "  </thead>\n",
       "  <tbody>\n",
       "    <tr>\n",
       "      <td>66335</td>\n",
       "      <td>2019-10-31 20:34:58.406182</td>\n",
       "      <td>photos_show</td>\n",
       "      <td>dea738ff-1103-40c0-bacb-1aa4bc9dcf71</td>\n",
       "    </tr>\n",
       "  </tbody>\n",
       "</table>\n",
       "</div>"
      ],
      "text/plain": [
       "                       event_time   event_name  \\\n",
       "66335  2019-10-31 20:34:58.406182  photos_show   \n",
       "\n",
       "                                    user_id  \n",
       "66335  dea738ff-1103-40c0-bacb-1aa4bc9dcf71  "
      ]
     },
     "execution_count": 11,
     "metadata": {},
     "output_type": "execute_result"
    }
   ],
   "source": [
    "events = events.rename(columns = {'event.time':'event_time', 'event.name':'event_name', 'user.id':'user_id'})\n",
    "events.sample()"
   ]
  },
  {
   "cell_type": "markdown",
   "metadata": {},
   "source": [
    "2. Приведем столбец `event_time` датасета `events` к дате и времени, и создадим отдельный столбец только с датой:"
   ]
  },
  {
   "cell_type": "code",
   "execution_count": 12,
   "metadata": {},
   "outputs": [],
   "source": [
    "events['event_time'] = pd.to_datetime(events['event_time'], format='%Y-%m-%d')\n",
    "events['event_date'] = pd.to_datetime(events['event_time'].dt.date)"
   ]
  },
  {
   "cell_type": "code",
   "execution_count": 13,
   "metadata": {},
   "outputs": [
    {
     "name": "stdout",
     "output_type": "stream",
     "text": [
      "<class 'pandas.core.frame.DataFrame'>\n",
      "RangeIndex: 74197 entries, 0 to 74196\n",
      "Data columns (total 4 columns):\n",
      "event_time    74197 non-null datetime64[ns]\n",
      "event_name    74197 non-null object\n",
      "user_id       74197 non-null object\n",
      "event_date    74197 non-null datetime64[ns]\n",
      "dtypes: datetime64[ns](2), object(2)\n",
      "memory usage: 2.3+ MB\n"
     ]
    }
   ],
   "source": [
    "events.info()"
   ]
  },
  {
   "cell_type": "code",
   "execution_count": 14,
   "metadata": {},
   "outputs": [
    {
     "data": {
      "text/html": [
       "<div>\n",
       "<style scoped>\n",
       "    .dataframe tbody tr th:only-of-type {\n",
       "        vertical-align: middle;\n",
       "    }\n",
       "\n",
       "    .dataframe tbody tr th {\n",
       "        vertical-align: top;\n",
       "    }\n",
       "\n",
       "    .dataframe thead th {\n",
       "        text-align: right;\n",
       "    }\n",
       "</style>\n",
       "<table border=\"1\" class=\"dataframe\">\n",
       "  <thead>\n",
       "    <tr style=\"text-align: right;\">\n",
       "      <th></th>\n",
       "      <th>event_time</th>\n",
       "      <th>event_name</th>\n",
       "      <th>user_id</th>\n",
       "      <th>event_date</th>\n",
       "    </tr>\n",
       "  </thead>\n",
       "  <tbody>\n",
       "    <tr>\n",
       "      <td>41690</td>\n",
       "      <td>2019-10-23 16:39:37.723518</td>\n",
       "      <td>search_6</td>\n",
       "      <td>e4f99a9d-3c13-4972-ae47-690dad667749</td>\n",
       "      <td>2019-10-23</td>\n",
       "    </tr>\n",
       "  </tbody>\n",
       "</table>\n",
       "</div>"
      ],
      "text/plain": [
       "                      event_time event_name  \\\n",
       "41690 2019-10-23 16:39:37.723518   search_6   \n",
       "\n",
       "                                    user_id event_date  \n",
       "41690  e4f99a9d-3c13-4972-ae47-690dad667749 2019-10-23  "
      ]
     },
     "execution_count": 14,
     "metadata": {},
     "output_type": "execute_result"
    }
   ],
   "source": [
    "events.sample()"
   ]
  },
  {
   "cell_type": "markdown",
   "metadata": {},
   "source": [
    "3. Заменим значение `show_contacts` на `contacts_show` в столбце `event_name` датасета `events`:"
   ]
  },
  {
   "cell_type": "code",
   "execution_count": 15,
   "metadata": {},
   "outputs": [
    {
     "data": {
      "text/plain": [
       "tips_show        40055\n",
       "photos_show      10012\n",
       "advert_open       6164\n",
       "contacts_show     4529\n",
       "map               3881\n",
       "search_1          3506\n",
       "favorites_add     1417\n",
       "search_5          1049\n",
       "tips_click         814\n",
       "search_4           701\n",
       "contacts_call      541\n",
       "search_3           522\n",
       "search_6           460\n",
       "search_2           324\n",
       "search_7           222\n",
       "Name: event_name, dtype: int64"
      ]
     },
     "execution_count": 15,
     "metadata": {},
     "output_type": "execute_result"
    }
   ],
   "source": [
    "events['event_name'] = events['event_name'].apply(lambda x: 'contacts_show' if x == 'show_contacts' else x)\n",
    "events['event_name'].value_counts()"
   ]
  },
  {
   "cell_type": "markdown",
   "metadata": {},
   "source": [
    "### Промежуточные результаты\n",
    "\n",
    "Для удобства дальнейшей работы мы переименовали столбцы, привели столбец с датой и временем к нужному формату и выделили в отдельный только дату события."
   ]
  },
  {
   "cell_type": "markdown",
   "metadata": {},
   "source": [
    "<div align='right'><a href='#content'>↑ В начало проекта ↑</a></div>"
   ]
  },
  {
   "cell_type": "markdown",
   "metadata": {},
   "source": [
    "---"
   ]
  },
  {
   "cell_type": "markdown",
   "metadata": {},
   "source": [
    "## <a id='step-3'>Шаг 3. Исследовательский анализ данных (EDA)</a>"
   ]
  },
  {
   "cell_type": "markdown",
   "metadata": {},
   "source": [
    "1. Посмотрим, сколько у нас пользователей и из каких источников они пришли:"
   ]
  },
  {
   "cell_type": "code",
   "execution_count": 16,
   "metadata": {},
   "outputs": [
    {
     "name": "stdout",
     "output_type": "stream",
     "text": [
      "Пользователей всего: 4293\n"
     ]
    }
   ],
   "source": [
    "print('Пользователей всего:', users['user_id'].nunique())"
   ]
  },
  {
   "cell_type": "code",
   "execution_count": 17,
   "metadata": {},
   "outputs": [
    {
     "name": "stdout",
     "output_type": "stream",
     "text": [
      "Пользователей, совершивших хотя бы одно действие: 4293\n"
     ]
    }
   ],
   "source": [
    "print('Пользователей, совершивших хотя бы одно действие:', events['user_id'].nunique())"
   ]
  },
  {
   "cell_type": "code",
   "execution_count": 18,
   "metadata": {},
   "outputs": [
    {
     "data": {
      "text/html": [
       "<div>\n",
       "<style scoped>\n",
       "    .dataframe tbody tr th:only-of-type {\n",
       "        vertical-align: middle;\n",
       "    }\n",
       "\n",
       "    .dataframe tbody tr th {\n",
       "        vertical-align: top;\n",
       "    }\n",
       "\n",
       "    .dataframe thead th {\n",
       "        text-align: right;\n",
       "    }\n",
       "</style>\n",
       "<table border=\"1\" class=\"dataframe\">\n",
       "  <thead>\n",
       "    <tr style=\"text-align: right;\">\n",
       "      <th></th>\n",
       "      <th>source</th>\n",
       "      <th>users_cnt</th>\n",
       "      <th>pcnt</th>\n",
       "    </tr>\n",
       "  </thead>\n",
       "  <tbody>\n",
       "    <tr>\n",
       "      <td>2</td>\n",
       "      <td>yandex</td>\n",
       "      <td>1934</td>\n",
       "      <td>0.450501</td>\n",
       "    </tr>\n",
       "    <tr>\n",
       "      <td>1</td>\n",
       "      <td>other</td>\n",
       "      <td>1230</td>\n",
       "      <td>0.286513</td>\n",
       "    </tr>\n",
       "    <tr>\n",
       "      <td>0</td>\n",
       "      <td>google</td>\n",
       "      <td>1129</td>\n",
       "      <td>0.262986</td>\n",
       "    </tr>\n",
       "  </tbody>\n",
       "</table>\n",
       "</div>"
      ],
      "text/plain": [
       "   source  users_cnt      pcnt\n",
       "2  yandex       1934  0.450501\n",
       "1   other       1230  0.286513\n",
       "0  google       1129  0.262986"
      ]
     },
     "execution_count": 18,
     "metadata": {},
     "output_type": "execute_result"
    }
   ],
   "source": [
    "sources = (users\n",
    "           .groupby(['source'], as_index=False)\n",
    "           .agg({'user_id':'nunique'})\n",
    "           .sort_values(by='user_id', ascending=False))\n",
    "\n",
    "sources = sources.rename(columns = {'user_id':'users_cnt'})\n",
    "sources['pcnt'] = sources['users_cnt'].apply(lambda x: x / sources['users_cnt'].sum())\n",
    "sources"
   ]
  },
  {
   "cell_type": "code",
   "execution_count": 19,
   "metadata": {},
   "outputs": [
    {
     "data": {
      "image/png": "[encoded data removed]",
      "text/plain": [
       "<Figure size 720x432 with 1 Axes>"
      ]
     },
     "metadata": {},
     "output_type": "display_data"
    }
   ],
   "source": [
    "ax = sources.plot.bar(x='source', y='users_cnt', legend=False)\n",
    "plt.title('Количество пользователей из разных источников')\n",
    "plt.xlabel('Источники')\n",
    "ax.axes.get_yaxis().set_visible(False)\n",
    "plt.xticks(rotation=0)\n",
    "make_annotates(ax)\n",
    "sns.despine(top=True, right=True, left=True, bottom=False)\n",
    "plt.show()"
   ]
  },
  {
   "cell_type": "markdown",
   "metadata": {},
   "source": [
    "2. Посмотрим поближе на события в логе:"
   ]
  },
  {
   "cell_type": "code",
   "execution_count": 20,
   "metadata": {},
   "outputs": [
    {
     "name": "stdout",
     "output_type": "stream",
     "text": [
      "Событий всего: 74197\n"
     ]
    }
   ],
   "source": [
    "print('Событий всего:', len(events))"
   ]
  },
  {
   "cell_type": "code",
   "execution_count": 21,
   "metadata": {},
   "outputs": [
    {
     "name": "stdout",
     "output_type": "stream",
     "text": [
      "В логе представлены события за период с 2019-10-07 по 2019-11-03\n"
     ]
    }
   ],
   "source": [
    "print(f'В логе представлены события за период с {events[\"event_date\"].min().date()} по {events[\"event_date\"].max().date()}')"
   ]
  },
  {
   "cell_type": "code",
   "execution_count": 22,
   "metadata": {},
   "outputs": [
    {
     "data": {
      "image/png": "[encoded data removed]",
      "text/plain": [
       "<Figure size 720x432 with 1 Axes>"
      ]
     },
     "metadata": {},
     "output_type": "display_data"
    }
   ],
   "source": [
    "events.groupby(['event_date']).agg({'event_time':'count'}).plot(grid=True, legend=False)\n",
    "plt.title('Распределение общего количества событий во времени')\n",
    "plt.xlabel('Даты')\n",
    "plt.ylabel('Количество событий')\n",
    "plt.ylim(bottom=0)\n",
    "plt.show()"
   ]
  },
  {
   "cell_type": "markdown",
   "metadata": {},
   "source": [
    "Посмотрим, по каким дням недели больше / меньше событий в целом:"
   ]
  },
  {
   "cell_type": "code",
   "execution_count": 23,
   "metadata": {},
   "outputs": [
    {
     "data": {
      "text/html": [
       "<div>\n",
       "<style scoped>\n",
       "    .dataframe tbody tr th:only-of-type {\n",
       "        vertical-align: middle;\n",
       "    }\n",
       "\n",
       "    .dataframe tbody tr th {\n",
       "        vertical-align: top;\n",
       "    }\n",
       "\n",
       "    .dataframe thead th {\n",
       "        text-align: right;\n",
       "    }\n",
       "</style>\n",
       "<table border=\"1\" class=\"dataframe\">\n",
       "  <thead>\n",
       "    <tr style=\"text-align: right;\">\n",
       "      <th></th>\n",
       "      <th>event_time</th>\n",
       "      <th>event_name</th>\n",
       "      <th>user_id</th>\n",
       "      <th>event_date</th>\n",
       "      <th>week_day</th>\n",
       "    </tr>\n",
       "  </thead>\n",
       "  <tbody>\n",
       "    <tr>\n",
       "      <td>39337</td>\n",
       "      <td>2019-10-22 21:01:21.712401</td>\n",
       "      <td>tips_show</td>\n",
       "      <td>e549f8ef-653b-4c5c-a6bd-8970e6bd860b</td>\n",
       "      <td>2019-10-22</td>\n",
       "      <td>Tuesday</td>\n",
       "    </tr>\n",
       "    <tr>\n",
       "      <td>65767</td>\n",
       "      <td>2019-10-31 16:58:06.961951</td>\n",
       "      <td>tips_show</td>\n",
       "      <td>1d3647a2-329f-4b79-adc4-594df8054a29</td>\n",
       "      <td>2019-10-31</td>\n",
       "      <td>Thursday</td>\n",
       "    </tr>\n",
       "    <tr>\n",
       "      <td>35241</td>\n",
       "      <td>2019-10-21 14:14:23.578477</td>\n",
       "      <td>tips_show</td>\n",
       "      <td>bd5fb634-bc26-4669-9c4e-4f57c23fd204</td>\n",
       "      <td>2019-10-21</td>\n",
       "      <td>Monday</td>\n",
       "    </tr>\n",
       "    <tr>\n",
       "      <td>42308</td>\n",
       "      <td>2019-10-23 19:05:51.054465</td>\n",
       "      <td>photos_show</td>\n",
       "      <td>714059e0-8240-4539-95e1-a4ec22df0d0f</td>\n",
       "      <td>2019-10-23</td>\n",
       "      <td>Wednesday</td>\n",
       "    </tr>\n",
       "    <tr>\n",
       "      <td>47485</td>\n",
       "      <td>2019-10-25 15:34:24.939149</td>\n",
       "      <td>tips_show</td>\n",
       "      <td>92cf0b4c-1e0f-400a-b451-89031b28c245</td>\n",
       "      <td>2019-10-25</td>\n",
       "      <td>Friday</td>\n",
       "    </tr>\n",
       "  </tbody>\n",
       "</table>\n",
       "</div>"
      ],
      "text/plain": [
       "                      event_time   event_name  \\\n",
       "39337 2019-10-22 21:01:21.712401    tips_show   \n",
       "65767 2019-10-31 16:58:06.961951    tips_show   \n",
       "35241 2019-10-21 14:14:23.578477    tips_show   \n",
       "42308 2019-10-23 19:05:51.054465  photos_show   \n",
       "47485 2019-10-25 15:34:24.939149    tips_show   \n",
       "\n",
       "                                    user_id event_date   week_day  \n",
       "39337  e549f8ef-653b-4c5c-a6bd-8970e6bd860b 2019-10-22    Tuesday  \n",
       "65767  1d3647a2-329f-4b79-adc4-594df8054a29 2019-10-31   Thursday  \n",
       "35241  bd5fb634-bc26-4669-9c4e-4f57c23fd204 2019-10-21     Monday  \n",
       "42308  714059e0-8240-4539-95e1-a4ec22df0d0f 2019-10-23  Wednesday  \n",
       "47485  92cf0b4c-1e0f-400a-b451-89031b28c245 2019-10-25     Friday  "
      ]
     },
     "execution_count": 23,
     "metadata": {},
     "output_type": "execute_result"
    }
   ],
   "source": [
    "events['week_day'] = events['event_date'].apply(lambda x: calendar.day_name[x.weekday()])\n",
    "events.sample(5)"
   ]
  },
  {
   "cell_type": "code",
   "execution_count": 24,
   "metadata": {},
   "outputs": [
    {
     "data": {
      "text/html": [
       "<div>\n",
       "<style scoped>\n",
       "    .dataframe tbody tr th:only-of-type {\n",
       "        vertical-align: middle;\n",
       "    }\n",
       "\n",
       "    .dataframe tbody tr th {\n",
       "        vertical-align: top;\n",
       "    }\n",
       "\n",
       "    .dataframe thead th {\n",
       "        text-align: right;\n",
       "    }\n",
       "</style>\n",
       "<table border=\"1\" class=\"dataframe\">\n",
       "  <thead>\n",
       "    <tr style=\"text-align: right;\">\n",
       "      <th></th>\n",
       "      <th>event_time</th>\n",
       "    </tr>\n",
       "    <tr>\n",
       "      <th>week_day</th>\n",
       "      <th></th>\n",
       "    </tr>\n",
       "  </thead>\n",
       "  <tbody>\n",
       "    <tr>\n",
       "      <td>Monday</td>\n",
       "      <td>11671</td>\n",
       "    </tr>\n",
       "    <tr>\n",
       "      <td>Tuesday</td>\n",
       "      <td>11145</td>\n",
       "    </tr>\n",
       "    <tr>\n",
       "      <td>Wednesday</td>\n",
       "      <td>10995</td>\n",
       "    </tr>\n",
       "    <tr>\n",
       "      <td>Thursday</td>\n",
       "      <td>10762</td>\n",
       "    </tr>\n",
       "    <tr>\n",
       "      <td>Sunday</td>\n",
       "      <td>10501</td>\n",
       "    </tr>\n",
       "    <tr>\n",
       "      <td>Friday</td>\n",
       "      <td>9969</td>\n",
       "    </tr>\n",
       "    <tr>\n",
       "      <td>Saturday</td>\n",
       "      <td>9154</td>\n",
       "    </tr>\n",
       "  </tbody>\n",
       "</table>\n",
       "</div>"
      ],
      "text/plain": [
       "           event_time\n",
       "week_day             \n",
       "Monday          11671\n",
       "Tuesday         11145\n",
       "Wednesday       10995\n",
       "Thursday        10762\n",
       "Sunday          10501\n",
       "Friday           9969\n",
       "Saturday         9154"
      ]
     },
     "execution_count": 24,
     "metadata": {},
     "output_type": "execute_result"
    }
   ],
   "source": [
    "events.groupby(['week_day']).agg({'event_time':'count'}).sort_values(by='event_time', ascending=False)"
   ]
  },
  {
   "cell_type": "markdown",
   "metadata": {},
   "source": [
    "Количество событий на каждого пользователя:"
   ]
  },
  {
   "cell_type": "code",
   "execution_count": 25,
   "metadata": {},
   "outputs": [
    {
     "data": {
      "text/html": [
       "<div>\n",
       "<style scoped>\n",
       "    .dataframe tbody tr th:only-of-type {\n",
       "        vertical-align: middle;\n",
       "    }\n",
       "\n",
       "    .dataframe tbody tr th {\n",
       "        vertical-align: top;\n",
       "    }\n",
       "\n",
       "    .dataframe thead th {\n",
       "        text-align: right;\n",
       "    }\n",
       "</style>\n",
       "<table border=\"1\" class=\"dataframe\">\n",
       "  <thead>\n",
       "    <tr style=\"text-align: right;\">\n",
       "      <th></th>\n",
       "      <th>user_id</th>\n",
       "      <th>event_cnt</th>\n",
       "    </tr>\n",
       "  </thead>\n",
       "  <tbody>\n",
       "    <tr>\n",
       "      <td>0</td>\n",
       "      <td>0001b1d5-b74a-4cbf-aeb0-7df5947bf349</td>\n",
       "      <td>35</td>\n",
       "    </tr>\n",
       "    <tr>\n",
       "      <td>1</td>\n",
       "      <td>00157779-810c-4498-9e05-a1e9e3cedf93</td>\n",
       "      <td>71</td>\n",
       "    </tr>\n",
       "    <tr>\n",
       "      <td>2</td>\n",
       "      <td>00463033-5717-4bf1-91b4-09183923b9df</td>\n",
       "      <td>10</td>\n",
       "    </tr>\n",
       "    <tr>\n",
       "      <td>3</td>\n",
       "      <td>004690c3-5a84-4bb7-a8af-e0c8f8fca64e</td>\n",
       "      <td>32</td>\n",
       "    </tr>\n",
       "    <tr>\n",
       "      <td>4</td>\n",
       "      <td>00551e79-152e-4441-9cf7-565d7eb04090</td>\n",
       "      <td>8</td>\n",
       "    </tr>\n",
       "    <tr>\n",
       "      <td>...</td>\n",
       "      <td>...</td>\n",
       "      <td>...</td>\n",
       "    </tr>\n",
       "    <tr>\n",
       "      <td>4288</td>\n",
       "      <td>ffab8d8a-30bb-424a-a3ab-0b63ebbf7b07</td>\n",
       "      <td>17</td>\n",
       "    </tr>\n",
       "    <tr>\n",
       "      <td>4289</td>\n",
       "      <td>ffc01466-fdb1-4460-ae94-e800f52eb136</td>\n",
       "      <td>7</td>\n",
       "    </tr>\n",
       "    <tr>\n",
       "      <td>4290</td>\n",
       "      <td>ffcf50d9-293c-4254-8243-4890b030b238</td>\n",
       "      <td>2</td>\n",
       "    </tr>\n",
       "    <tr>\n",
       "      <td>4291</td>\n",
       "      <td>ffe68f10-e48e-470e-be9b-eeb93128ff1a</td>\n",
       "      <td>13</td>\n",
       "    </tr>\n",
       "    <tr>\n",
       "      <td>4292</td>\n",
       "      <td>fffb9e79-b927-4dbb-9b48-7fd09b23a62b</td>\n",
       "      <td>303</td>\n",
       "    </tr>\n",
       "  </tbody>\n",
       "</table>\n",
       "<p>4293 rows × 2 columns</p>\n",
       "</div>"
      ],
      "text/plain": [
       "                                   user_id  event_cnt\n",
       "0     0001b1d5-b74a-4cbf-aeb0-7df5947bf349         35\n",
       "1     00157779-810c-4498-9e05-a1e9e3cedf93         71\n",
       "2     00463033-5717-4bf1-91b4-09183923b9df         10\n",
       "3     004690c3-5a84-4bb7-a8af-e0c8f8fca64e         32\n",
       "4     00551e79-152e-4441-9cf7-565d7eb04090          8\n",
       "...                                    ...        ...\n",
       "4288  ffab8d8a-30bb-424a-a3ab-0b63ebbf7b07         17\n",
       "4289  ffc01466-fdb1-4460-ae94-e800f52eb136          7\n",
       "4290  ffcf50d9-293c-4254-8243-4890b030b238          2\n",
       "4291  ffe68f10-e48e-470e-be9b-eeb93128ff1a         13\n",
       "4292  fffb9e79-b927-4dbb-9b48-7fd09b23a62b        303\n",
       "\n",
       "[4293 rows x 2 columns]"
      ]
     },
     "execution_count": 25,
     "metadata": {},
     "output_type": "execute_result"
    }
   ],
   "source": [
    "events_per_user = (events\n",
    "                   .groupby(['user_id'], as_index=False)\n",
    "                   .agg({'event_time':'count'})\n",
    "                   .rename(columns={'event_time':'event_cnt'}))\n",
    "events_per_user"
   ]
  },
  {
   "cell_type": "code",
   "execution_count": 26,
   "metadata": {},
   "outputs": [
    {
     "name": "stdout",
     "output_type": "stream",
     "text": [
      "Меньше всего событий на одного пользователя: 1\n",
      "Максимум событий на одного пользователя: 478\n"
     ]
    }
   ],
   "source": [
    "print('Меньше всего событий на одного пользователя:', events_per_user['event_cnt'].min())\n",
    "print('Максимум событий на одного пользователя:', events_per_user['event_cnt'].max())"
   ]
  },
  {
   "cell_type": "markdown",
   "metadata": {},
   "source": [
    "Распределение количества событий на одного пользователя:"
   ]
  },
  {
   "cell_type": "code",
   "execution_count": 27,
   "metadata": {},
   "outputs": [
    {
     "data": {
      "image/png": "[encoded data removed]",
      "text/plain": [
       "<Figure size 1152x720 with 2 Axes>"
      ]
     },
     "metadata": {},
     "output_type": "display_data"
    }
   ],
   "source": [
    "fig = plt.figure(figsize=(16, 10))\n",
    "grid = plt.GridSpec(4, 4, hspace=0.8)\n",
    "\n",
    "# создаем оси\n",
    "ax_main = fig.add_subplot(grid[:-1, :-1])\n",
    "plt.grid(True)\n",
    "\n",
    "ax_bottom = fig.add_subplot(grid[-1, 0:-1], xticklabels=[])\n",
    "plt.grid(True)\n",
    "\n",
    "# на главных осях - гистограмма\n",
    "ax_main.hist(events_per_user['event_cnt'], bins=50)\n",
    "\n",
    "# снизу - боксплот\n",
    "sns.boxplot(events_per_user['event_cnt'], ax=ax_bottom, orient='h')\n",
    "ax_bottom.set(xlabel='')\n",
    "\n",
    "ax_main.set(title='Распределение количества событий на одного пользователя', \\\n",
    "            xlabel='Количество событий на одного пользователя', \\\n",
    "            ylabel='Количество пользователей')\n",
    "\n",
    "plt.show()"
   ]
  },
  {
   "cell_type": "markdown",
   "metadata": {},
   "source": [
    "Посмотрим, где заканчиваются усы боксплота:"
   ]
  },
  {
   "cell_type": "code",
   "execution_count": 28,
   "metadata": {},
   "outputs": [
    {
     "data": {
      "image/png": "[encoded data removed]",
      "text/plain": [
       "<Figure size 720x432 with 1 Axes>"
      ]
     },
     "metadata": {},
     "output_type": "display_data"
    }
   ],
   "source": [
    "sns.boxplot(events_per_user['event_cnt'], showfliers=False)\n",
    "plt.title('Распределение количества событий на одного пользователя (боксплот)')\n",
    "plt.xlabel('Количество событий на одного пользователя')\n",
    "plt.ylabel('')\n",
    "plt.show()"
   ]
  },
  {
   "cell_type": "markdown",
   "metadata": {},
   "source": [
    "Видим, что есть выбросы. Но все-таки посмотрим среднее и медиану по всем данным:"
   ]
  },
  {
   "cell_type": "code",
   "execution_count": 29,
   "metadata": {},
   "outputs": [
    {
     "name": "stdout",
     "output_type": "stream",
     "text": [
      "Количество событий на одного пользователя:\n",
      "\n",
      "Среднее: 17.3\n",
      "Медиана: 9.0\n"
     ]
    }
   ],
   "source": [
    "print('Количество событий на одного пользователя:\\n')\n",
    "print('Среднее: {:.1f}'.format(events_per_user['event_cnt'].mean()))\n",
    "print('Медиана: {:.1f}'.format(events_per_user['event_cnt'].median()))"
   ]
  },
  {
   "cell_type": "markdown",
   "metadata": {},
   "source": [
    "Отбросим выбросы и посчитаем среднее и медиану по очищенным данным:"
   ]
  },
  {
   "cell_type": "code",
   "execution_count": 30,
   "metadata": {},
   "outputs": [
    {
     "data": {
      "image/png": "[encoded data removed]",
      "text/plain": [
       "<Figure size 720x432 with 1 Axes>"
      ]
     },
     "metadata": {},
     "output_type": "display_data"
    }
   ],
   "source": [
    "# запишем правый перцентиль\n",
    "right_cut = events_per_user.event_cnt.quantile(0.95)\n",
    "events_per_user_filtered = events_per_user.query('event_cnt <= @right_cut')\n",
    "\n",
    "events_per_user_filtered['event_cnt'].hist(bins=50)\n",
    "plt.title('Распределение количества событий на одного пользователя (очищенные данные)')\n",
    "plt.xlabel('Количество событий на одного пользователя')\n",
    "plt.ylabel('Количество пользователей')\n",
    "plt.show()"
   ]
  },
  {
   "cell_type": "code",
   "execution_count": 31,
   "metadata": {},
   "outputs": [
    {
     "name": "stdout",
     "output_type": "stream",
     "text": [
      "Количество событий на одного пользователя (очищенные данные):\n",
      "\n",
      "Среднее: 12.4\n",
      "Медиана: 8.0\n"
     ]
    }
   ],
   "source": [
    "print('Количество событий на одного пользователя (очищенные данные):\\n')\n",
    "print('Среднее: {:.1f}'.format(events_per_user_filtered['event_cnt'].mean()))\n",
    "print('Медиана: {:.1f}'.format(events_per_user_filtered['event_cnt'].median()))"
   ]
  },
  {
   "cell_type": "markdown",
   "metadata": {},
   "source": [
    "Соединяем данные по пользователям и лог событий:"
   ]
  },
  {
   "cell_type": "code",
   "execution_count": 32,
   "metadata": {},
   "outputs": [
    {
     "data": {
      "text/html": [
       "<div>\n",
       "<style scoped>\n",
       "    .dataframe tbody tr th:only-of-type {\n",
       "        vertical-align: middle;\n",
       "    }\n",
       "\n",
       "    .dataframe tbody tr th {\n",
       "        vertical-align: top;\n",
       "    }\n",
       "\n",
       "    .dataframe thead th {\n",
       "        text-align: right;\n",
       "    }\n",
       "</style>\n",
       "<table border=\"1\" class=\"dataframe\">\n",
       "  <thead>\n",
       "    <tr style=\"text-align: right;\">\n",
       "      <th></th>\n",
       "      <th>user_id</th>\n",
       "      <th>source</th>\n",
       "      <th>event_time</th>\n",
       "      <th>event_name</th>\n",
       "      <th>event_date</th>\n",
       "      <th>week_day</th>\n",
       "    </tr>\n",
       "  </thead>\n",
       "  <tbody>\n",
       "    <tr>\n",
       "      <td>70894</td>\n",
       "      <td>3ea0e646-5c5a-4b16-b364-fc992ea4eb5e</td>\n",
       "      <td>yandex</td>\n",
       "      <td>2019-11-01 14:54:26.927965</td>\n",
       "      <td>tips_show</td>\n",
       "      <td>2019-11-01</td>\n",
       "      <td>Friday</td>\n",
       "    </tr>\n",
       "    <tr>\n",
       "      <td>24925</td>\n",
       "      <td>0c498b2b-60c2-430f-a98f-100aaf6476a5</td>\n",
       "      <td>yandex</td>\n",
       "      <td>2019-10-14 01:03:36.228465</td>\n",
       "      <td>tips_show</td>\n",
       "      <td>2019-10-14</td>\n",
       "      <td>Monday</td>\n",
       "    </tr>\n",
       "    <tr>\n",
       "      <td>35132</td>\n",
       "      <td>71b9ae11-cba2-4a7c-8ce6-9d422f62af8c</td>\n",
       "      <td>other</td>\n",
       "      <td>2019-10-17 08:02:46.141049</td>\n",
       "      <td>search_5</td>\n",
       "      <td>2019-10-17</td>\n",
       "      <td>Thursday</td>\n",
       "    </tr>\n",
       "    <tr>\n",
       "      <td>17893</td>\n",
       "      <td>2d9366fa-7c0a-4e57-a559-e730f2341b45</td>\n",
       "      <td>yandex</td>\n",
       "      <td>2019-10-11 18:25:11.848741</td>\n",
       "      <td>contacts_show</td>\n",
       "      <td>2019-10-11</td>\n",
       "      <td>Friday</td>\n",
       "    </tr>\n",
       "    <tr>\n",
       "      <td>29748</td>\n",
       "      <td>02012123-f8ee-40f4-8ccd-c5859f3fbc41</td>\n",
       "      <td>google</td>\n",
       "      <td>2019-10-15 14:17:50.851617</td>\n",
       "      <td>advert_open</td>\n",
       "      <td>2019-10-15</td>\n",
       "      <td>Tuesday</td>\n",
       "    </tr>\n",
       "  </tbody>\n",
       "</table>\n",
       "</div>"
      ],
      "text/plain": [
       "                                    user_id  source  \\\n",
       "70894  3ea0e646-5c5a-4b16-b364-fc992ea4eb5e  yandex   \n",
       "24925  0c498b2b-60c2-430f-a98f-100aaf6476a5  yandex   \n",
       "35132  71b9ae11-cba2-4a7c-8ce6-9d422f62af8c   other   \n",
       "17893  2d9366fa-7c0a-4e57-a559-e730f2341b45  yandex   \n",
       "29748  02012123-f8ee-40f4-8ccd-c5859f3fbc41  google   \n",
       "\n",
       "                      event_time     event_name event_date  week_day  \n",
       "70894 2019-11-01 14:54:26.927965      tips_show 2019-11-01    Friday  \n",
       "24925 2019-10-14 01:03:36.228465      tips_show 2019-10-14    Monday  \n",
       "35132 2019-10-17 08:02:46.141049       search_5 2019-10-17  Thursday  \n",
       "17893 2019-10-11 18:25:11.848741  contacts_show 2019-10-11    Friday  \n",
       "29748 2019-10-15 14:17:50.851617    advert_open 2019-10-15   Tuesday  "
      ]
     },
     "execution_count": 32,
     "metadata": {},
     "output_type": "execute_result"
    }
   ],
   "source": [
    "df = users.merge(events, on='user_id')\n",
    "df.sample(5)"
   ]
  },
  {
   "cell_type": "code",
   "execution_count": 33,
   "metadata": {},
   "outputs": [
    {
     "data": {
      "image/png": "[encoded data removed]",
      "text/plain": [
       "<Figure size 720x432 with 1 Axes>"
      ]
     },
     "metadata": {},
     "output_type": "display_data"
    }
   ],
   "source": [
    "df.pivot_table(index='event_date', columns='source', values='event_time', aggfunc='count').plot(grid=True)\n",
    "plt.title('Распределение общего количества событий во времени в разрезе источников')\n",
    "plt.xlabel('Даты')\n",
    "plt.ylabel('Количество событий')\n",
    "\n",
    "# смещаем легенду за пределы графика\n",
    "leg = plt.legend(title='Источники', bbox_to_anchor=(1.05, 1))\n",
    "# выравнивание заголовка легенды слева\n",
    "leg._legend_box.align = 'left'\n",
    "\n",
    "plt.show()"
   ]
  },
  {
   "cell_type": "markdown",
   "metadata": {},
   "source": [
    "Посмотрим количество событий на одного пользователя в разрезе источников:"
   ]
  },
  {
   "cell_type": "code",
   "execution_count": 34,
   "metadata": {},
   "outputs": [
    {
     "data": {
      "text/plain": [
       "4083"
      ]
     },
     "execution_count": 34,
     "metadata": {},
     "output_type": "execute_result"
    }
   ],
   "source": [
    "# запишем id пользователей из очищенных от выбросов данных\n",
    "users_ids_filteres = list(events_per_user_filtered['user_id'])\n",
    "len(users_ids_filteres)"
   ]
  },
  {
   "cell_type": "code",
   "execution_count": 35,
   "metadata": {},
   "outputs": [
    {
     "data": {
      "text/html": [
       "<div>\n",
       "<style scoped>\n",
       "    .dataframe tbody tr th:only-of-type {\n",
       "        vertical-align: middle;\n",
       "    }\n",
       "\n",
       "    .dataframe tbody tr th {\n",
       "        vertical-align: top;\n",
       "    }\n",
       "\n",
       "    .dataframe thead th {\n",
       "        text-align: right;\n",
       "    }\n",
       "</style>\n",
       "<table border=\"1\" class=\"dataframe\">\n",
       "  <thead>\n",
       "    <tr style=\"text-align: right;\">\n",
       "      <th></th>\n",
       "      <th>event_time</th>\n",
       "    </tr>\n",
       "    <tr>\n",
       "      <th>source</th>\n",
       "      <th></th>\n",
       "    </tr>\n",
       "  </thead>\n",
       "  <tbody>\n",
       "    <tr>\n",
       "      <td>google</td>\n",
       "      <td>12.870577</td>\n",
       "    </tr>\n",
       "    <tr>\n",
       "      <td>other</td>\n",
       "      <td>11.943878</td>\n",
       "    </tr>\n",
       "    <tr>\n",
       "      <td>yandex</td>\n",
       "      <td>12.376978</td>\n",
       "    </tr>\n",
       "  </tbody>\n",
       "</table>\n",
       "</div>"
      ],
      "text/plain": [
       "        event_time\n",
       "source            \n",
       "google   12.870577\n",
       "other    11.943878\n",
       "yandex   12.376978"
      ]
     },
     "execution_count": 35,
     "metadata": {},
     "output_type": "execute_result"
    }
   ],
   "source": [
    "(df\n",
    " .query('user_id in @users_ids_filteres')\n",
    " .groupby(['source', 'user_id']).agg({'event_time':'count'})\n",
    " .groupby(['source']).agg({'event_time':'mean'}))"
   ]
  },
  {
   "cell_type": "markdown",
   "metadata": {},
   "source": [
    "### Промежуточные выводы\n",
    "\n",
    "В ходе исследовательского анализа данных выяснили следующие моменты:\n",
    "\n",
    "- Всего у нас 4293 пользователя, при чем каждый из них совершил хотя бы одно действие. Максимум событий на одного пользователя = 478;\n",
    "- Больше всего пользователей пришло из Яндекса (1934 = 45%);\n",
    "- В логе представлены 74197 событий за период с 7 октября по 3 ноября;\n",
    "- Распределение общего количества событий во времени неравномерное: есть всплески и провалы. Больше событий суммарно пользователи совершают в начале недели (понедельник – среда), меньше всего — по субботам;\n",
    "- В среднем, на одного пользователя приходится 12.4 событий (медиана = 9);\n",
    "- По источникам каких-то закономерностей выявить не удалось ни в среднем количестве событий на пользователя, ни в распределении количества событий во времени."
   ]
  },
  {
   "cell_type": "markdown",
   "metadata": {},
   "source": [
    "<div align='right'><a href='#content'>↑ В начало проекта ↑</a></div>"
   ]
  },
  {
   "cell_type": "markdown",
   "metadata": {},
   "source": [
    "---"
   ]
  },
  {
   "cell_type": "markdown",
   "metadata": {},
   "source": [
    "## <a id='step-4'>Шаг 4. Изучение связи целевого и других событий</a>"
   ]
  },
  {
   "cell_type": "markdown",
   "metadata": {},
   "source": [
    "### Анализ воронки событий"
   ]
  },
  {
   "cell_type": "markdown",
   "metadata": {},
   "source": [
    "1. Посмотрим по событиям, сколько и какая доля пользователей совершили их хотя бы один раз:"
   ]
  },
  {
   "cell_type": "code",
   "execution_count": 36,
   "metadata": {},
   "outputs": [
    {
     "data": {
      "text/plain": [
       "4293"
      ]
     },
     "execution_count": 36,
     "metadata": {},
     "output_type": "execute_result"
    }
   ],
   "source": [
    "# количество уникальных пользователей\n",
    "users_total = df['user_id'].nunique()\n",
    "users_total"
   ]
  },
  {
   "cell_type": "code",
   "execution_count": 37,
   "metadata": {},
   "outputs": [
    {
     "data": {
      "text/html": [
       "<div>\n",
       "<style scoped>\n",
       "    .dataframe tbody tr th:only-of-type {\n",
       "        vertical-align: middle;\n",
       "    }\n",
       "\n",
       "    .dataframe tbody tr th {\n",
       "        vertical-align: top;\n",
       "    }\n",
       "\n",
       "    .dataframe thead th {\n",
       "        text-align: right;\n",
       "    }\n",
       "</style>\n",
       "<table border=\"1\" class=\"dataframe\">\n",
       "  <thead>\n",
       "    <tr style=\"text-align: right;\">\n",
       "      <th></th>\n",
       "      <th>event_name</th>\n",
       "      <th>users_cnt</th>\n",
       "      <th>users_pcnt</th>\n",
       "    </tr>\n",
       "  </thead>\n",
       "  <tbody>\n",
       "    <tr>\n",
       "      <td>0</td>\n",
       "      <td>tips_show</td>\n",
       "      <td>2801</td>\n",
       "      <td>65.2</td>\n",
       "    </tr>\n",
       "    <tr>\n",
       "      <td>1</td>\n",
       "      <td>map</td>\n",
       "      <td>1456</td>\n",
       "      <td>33.9</td>\n",
       "    </tr>\n",
       "    <tr>\n",
       "      <td>2</td>\n",
       "      <td>photos_show</td>\n",
       "      <td>1095</td>\n",
       "      <td>25.5</td>\n",
       "    </tr>\n",
       "    <tr>\n",
       "      <td>3</td>\n",
       "      <td>contacts_show</td>\n",
       "      <td>981</td>\n",
       "      <td>22.9</td>\n",
       "    </tr>\n",
       "    <tr>\n",
       "      <td>4</td>\n",
       "      <td>search_1</td>\n",
       "      <td>787</td>\n",
       "      <td>18.3</td>\n",
       "    </tr>\n",
       "    <tr>\n",
       "      <td>5</td>\n",
       "      <td>advert_open</td>\n",
       "      <td>751</td>\n",
       "      <td>17.5</td>\n",
       "    </tr>\n",
       "    <tr>\n",
       "      <td>6</td>\n",
       "      <td>search_5</td>\n",
       "      <td>663</td>\n",
       "      <td>15.4</td>\n",
       "    </tr>\n",
       "    <tr>\n",
       "      <td>7</td>\n",
       "      <td>search_4</td>\n",
       "      <td>474</td>\n",
       "      <td>11.0</td>\n",
       "    </tr>\n",
       "    <tr>\n",
       "      <td>8</td>\n",
       "      <td>favorites_add</td>\n",
       "      <td>351</td>\n",
       "      <td>8.2</td>\n",
       "    </tr>\n",
       "    <tr>\n",
       "      <td>9</td>\n",
       "      <td>search_6</td>\n",
       "      <td>330</td>\n",
       "      <td>7.7</td>\n",
       "    </tr>\n",
       "    <tr>\n",
       "      <td>10</td>\n",
       "      <td>tips_click</td>\n",
       "      <td>322</td>\n",
       "      <td>7.5</td>\n",
       "    </tr>\n",
       "    <tr>\n",
       "      <td>11</td>\n",
       "      <td>search_2</td>\n",
       "      <td>242</td>\n",
       "      <td>5.6</td>\n",
       "    </tr>\n",
       "    <tr>\n",
       "      <td>12</td>\n",
       "      <td>contacts_call</td>\n",
       "      <td>213</td>\n",
       "      <td>5.0</td>\n",
       "    </tr>\n",
       "    <tr>\n",
       "      <td>13</td>\n",
       "      <td>search_3</td>\n",
       "      <td>208</td>\n",
       "      <td>4.8</td>\n",
       "    </tr>\n",
       "    <tr>\n",
       "      <td>14</td>\n",
       "      <td>search_7</td>\n",
       "      <td>157</td>\n",
       "      <td>3.7</td>\n",
       "    </tr>\n",
       "  </tbody>\n",
       "</table>\n",
       "</div>"
      ],
      "text/plain": [
       "       event_name  users_cnt  users_pcnt\n",
       "0       tips_show       2801        65.2\n",
       "1             map       1456        33.9\n",
       "2     photos_show       1095        25.5\n",
       "3   contacts_show        981        22.9\n",
       "4        search_1        787        18.3\n",
       "5     advert_open        751        17.5\n",
       "6        search_5        663        15.4\n",
       "7        search_4        474        11.0\n",
       "8   favorites_add        351         8.2\n",
       "9        search_6        330         7.7\n",
       "10     tips_click        322         7.5\n",
       "11       search_2        242         5.6\n",
       "12  contacts_call        213         5.0\n",
       "13       search_3        208         4.8\n",
       "14       search_7        157         3.7"
      ]
     },
     "execution_count": 37,
     "metadata": {},
     "output_type": "execute_result"
    }
   ],
   "source": [
    "events_per_users = (df\n",
    "                    .groupby(['event_name'])\n",
    "                    .agg({'user_id':'nunique'})\n",
    "                    .rename(columns = {'user_id':'users_cnt'})\n",
    "                    .sort_values(by=['users_cnt'], ascending=False)\n",
    "                    .assign(users_pcnt = lambda x: round((x.users_cnt / users_total * 100),1))\n",
    "                    .reset_index()\n",
    "                   )\n",
    "events_per_users"
   ]
  },
  {
   "cell_type": "code",
   "execution_count": 38,
   "metadata": {},
   "outputs": [
    {
     "data": {
      "image/png": "[encoded data removed]",
      "text/plain": [
       "<Figure size 720x432 with 1 Axes>"
      ]
     },
     "metadata": {},
     "output_type": "display_data"
    }
   ],
   "source": [
    "ax = events_per_users[['event_name','users_cnt']].plot(kind='bar', legend=False)\n",
    "\n",
    "ax.set_title('Количество пользователей, совершивших событие хотя бы раз')\n",
    "ax.set_xlabel('Индексы событий')\n",
    "ax.axes.get_yaxis().set_visible(False)\n",
    "plt.xticks(rotation=0)\n",
    "make_annotates(ax)\n",
    "\n",
    "ax.annotate('События:', xy=(1.05, 0.95), xycoords=ax.get_window_extent, size=14)\n",
    "\n",
    "# расшифровка индексов событий\n",
    "for i in range(0, len(events_per_users)):    \n",
    "    ax.annotate('{} — {}'.format(i, events_per_users['event_name'][i]),\n",
    "                xy=(1.05, 0.85 - i*0.06), xycoords=ax.get_window_extent, size=12)\n",
    "\n",
    "sns.despine(top=True, right=True, left=True, bottom=False)\n",
    "plt.show()"
   ]
  },
  {
   "cell_type": "markdown",
   "metadata": {},
   "source": [
    "Видим, что событий довольно много. Основываясь на здравом смысле, будем считать, что упрощенная воронка выглядит примерно так:\n",
    "\n",
    "1. Вход в сервис (общее количество пользователей),\n",
    "2. Просмотр контактов (`contacts_show`),\n",
    "3. Звонок по номеру из объявления (`contacts_call`).\n",
    "\n",
    "Остальные действия (даже открытие карточки объявления) кажутся необязательными для совершения целевого действия, поэтому не будем их учитывать в воронке."
   ]
  },
  {
   "cell_type": "code",
   "execution_count": 39,
   "metadata": {},
   "outputs": [
    {
     "data": {
      "text/html": [
       "<div>\n",
       "<style scoped>\n",
       "    .dataframe tbody tr th:only-of-type {\n",
       "        vertical-align: middle;\n",
       "    }\n",
       "\n",
       "    .dataframe tbody tr th {\n",
       "        vertical-align: top;\n",
       "    }\n",
       "\n",
       "    .dataframe thead th {\n",
       "        text-align: right;\n",
       "    }\n",
       "</style>\n",
       "<table border=\"1\" class=\"dataframe\">\n",
       "  <thead>\n",
       "    <tr style=\"text-align: right;\">\n",
       "      <th></th>\n",
       "      <th>event_name</th>\n",
       "      <th>users_cnt</th>\n",
       "      <th>users_pcnt</th>\n",
       "    </tr>\n",
       "  </thead>\n",
       "  <tbody>\n",
       "    <tr>\n",
       "      <td>3</td>\n",
       "      <td>contacts_show</td>\n",
       "      <td>981</td>\n",
       "      <td>22.9</td>\n",
       "    </tr>\n",
       "    <tr>\n",
       "      <td>12</td>\n",
       "      <td>contacts_call</td>\n",
       "      <td>213</td>\n",
       "      <td>5.0</td>\n",
       "    </tr>\n",
       "  </tbody>\n",
       "</table>\n",
       "</div>"
      ],
      "text/plain": [
       "       event_name  users_cnt  users_pcnt\n",
       "3   contacts_show        981        22.9\n",
       "12  contacts_call        213         5.0"
      ]
     },
     "execution_count": 39,
     "metadata": {},
     "output_type": "execute_result"
    }
   ],
   "source": [
    "funnel_events_list = ['contacts_show', 'contacts_call']\n",
    "\n",
    "funnel_events = events_per_users.query('event_name in @funnel_events_list')\n",
    "funnel_events"
   ]
  },
  {
   "cell_type": "markdown",
   "metadata": {},
   "source": [
    "Добавим первый шаг — вход в приложение:"
   ]
  },
  {
   "cell_type": "code",
   "execution_count": 40,
   "metadata": {},
   "outputs": [
    {
     "data": {
      "text/html": [
       "<div>\n",
       "<style scoped>\n",
       "    .dataframe tbody tr th:only-of-type {\n",
       "        vertical-align: middle;\n",
       "    }\n",
       "\n",
       "    .dataframe tbody tr th {\n",
       "        vertical-align: top;\n",
       "    }\n",
       "\n",
       "    .dataframe thead th {\n",
       "        text-align: right;\n",
       "    }\n",
       "</style>\n",
       "<table border=\"1\" class=\"dataframe\">\n",
       "  <thead>\n",
       "    <tr style=\"text-align: right;\">\n",
       "      <th></th>\n",
       "      <th>event_name</th>\n",
       "      <th>users_cnt</th>\n",
       "      <th>users_pcnt</th>\n",
       "    </tr>\n",
       "  </thead>\n",
       "  <tbody>\n",
       "    <tr>\n",
       "      <td>2</td>\n",
       "      <td>start</td>\n",
       "      <td>4293</td>\n",
       "      <td>100.0</td>\n",
       "    </tr>\n",
       "    <tr>\n",
       "      <td>0</td>\n",
       "      <td>contacts_show</td>\n",
       "      <td>981</td>\n",
       "      <td>22.9</td>\n",
       "    </tr>\n",
       "    <tr>\n",
       "      <td>1</td>\n",
       "      <td>contacts_call</td>\n",
       "      <td>213</td>\n",
       "      <td>5.0</td>\n",
       "    </tr>\n",
       "  </tbody>\n",
       "</table>\n",
       "</div>"
      ],
      "text/plain": [
       "      event_name  users_cnt  users_pcnt\n",
       "2          start       4293       100.0\n",
       "0  contacts_show        981        22.9\n",
       "1  contacts_call        213         5.0"
      ]
     },
     "execution_count": 40,
     "metadata": {},
     "output_type": "execute_result"
    }
   ],
   "source": [
    "funnel_events = funnel_events.append({'event_name':'start', 'users_cnt':users_total, \n",
    "                                      'users_pcnt':users_total/users_total * 100},\n",
    "                                     ignore_index=True)\n",
    "funnel_events = funnel_events.sort_values(by='users_cnt', ascending=False)\n",
    "funnel_events"
   ]
  },
  {
   "cell_type": "markdown",
   "metadata": {},
   "source": [
    "Доля пользователей, переходящих на каждый следующий шаг воронки от числа пользователей на предыдущем:"
   ]
  },
  {
   "cell_type": "code",
   "execution_count": 41,
   "metadata": {},
   "outputs": [
    {
     "data": {
      "text/html": [
       "<div>\n",
       "<style scoped>\n",
       "    .dataframe tbody tr th:only-of-type {\n",
       "        vertical-align: middle;\n",
       "    }\n",
       "\n",
       "    .dataframe tbody tr th {\n",
       "        vertical-align: top;\n",
       "    }\n",
       "\n",
       "    .dataframe thead th {\n",
       "        text-align: right;\n",
       "    }\n",
       "</style>\n",
       "<table border=\"1\" class=\"dataframe\">\n",
       "  <thead>\n",
       "    <tr style=\"text-align: right;\">\n",
       "      <th></th>\n",
       "      <th>event_name</th>\n",
       "      <th>users_cnt</th>\n",
       "      <th>users_pcnt</th>\n",
       "      <th>prev</th>\n",
       "    </tr>\n",
       "  </thead>\n",
       "  <tbody>\n",
       "    <tr>\n",
       "      <td>2</td>\n",
       "      <td>start</td>\n",
       "      <td>4293</td>\n",
       "      <td>100.0</td>\n",
       "      <td>4293</td>\n",
       "    </tr>\n",
       "    <tr>\n",
       "      <td>0</td>\n",
       "      <td>contacts_show</td>\n",
       "      <td>981</td>\n",
       "      <td>22.9</td>\n",
       "      <td>4293</td>\n",
       "    </tr>\n",
       "    <tr>\n",
       "      <td>1</td>\n",
       "      <td>contacts_call</td>\n",
       "      <td>213</td>\n",
       "      <td>5.0</td>\n",
       "      <td>981</td>\n",
       "    </tr>\n",
       "  </tbody>\n",
       "</table>\n",
       "</div>"
      ],
      "text/plain": [
       "      event_name  users_cnt  users_pcnt  prev\n",
       "2          start       4293       100.0  4293\n",
       "0  contacts_show        981        22.9  4293\n",
       "1  contacts_call        213         5.0   981"
      ]
     },
     "execution_count": 41,
     "metadata": {},
     "output_type": "execute_result"
    }
   ],
   "source": [
    "# для каждого столбца запишем в отдельный столбец количество пользователей, совершивших предыдущий шаг\n",
    "funnel_events['prev'] = (funnel_events['users_cnt']\n",
    "                         .shift(1)\n",
    "                         .fillna(funnel_events['users_cnt'].max())\n",
    "                         .astype('int'))\n",
    "funnel_events"
   ]
  },
  {
   "cell_type": "code",
   "execution_count": 42,
   "metadata": {},
   "outputs": [
    {
     "data": {
      "text/html": [
       "<div>\n",
       "<style scoped>\n",
       "    .dataframe tbody tr th:only-of-type {\n",
       "        vertical-align: middle;\n",
       "    }\n",
       "\n",
       "    .dataframe tbody tr th {\n",
       "        vertical-align: top;\n",
       "    }\n",
       "\n",
       "    .dataframe thead th {\n",
       "        text-align: right;\n",
       "    }\n",
       "</style>\n",
       "<table border=\"1\" class=\"dataframe\">\n",
       "  <thead>\n",
       "    <tr style=\"text-align: right;\">\n",
       "      <th></th>\n",
       "      <th>event_name</th>\n",
       "      <th>users_cnt</th>\n",
       "      <th>users_pcnt</th>\n",
       "      <th>prev</th>\n",
       "      <th>prev_pcnt</th>\n",
       "    </tr>\n",
       "  </thead>\n",
       "  <tbody>\n",
       "    <tr>\n",
       "      <td>2</td>\n",
       "      <td>start</td>\n",
       "      <td>4293</td>\n",
       "      <td>100.0</td>\n",
       "      <td>4293</td>\n",
       "      <td>100.0</td>\n",
       "    </tr>\n",
       "    <tr>\n",
       "      <td>0</td>\n",
       "      <td>contacts_show</td>\n",
       "      <td>981</td>\n",
       "      <td>22.9</td>\n",
       "      <td>4293</td>\n",
       "      <td>22.9</td>\n",
       "    </tr>\n",
       "    <tr>\n",
       "      <td>1</td>\n",
       "      <td>contacts_call</td>\n",
       "      <td>213</td>\n",
       "      <td>5.0</td>\n",
       "      <td>981</td>\n",
       "      <td>21.7</td>\n",
       "    </tr>\n",
       "  </tbody>\n",
       "</table>\n",
       "</div>"
      ],
      "text/plain": [
       "      event_name  users_cnt  users_pcnt  prev  prev_pcnt\n",
       "2          start       4293       100.0  4293      100.0\n",
       "0  contacts_show        981        22.9  4293       22.9\n",
       "1  contacts_call        213         5.0   981       21.7"
      ]
     },
     "execution_count": 42,
     "metadata": {},
     "output_type": "execute_result"
    }
   ],
   "source": [
    "# посчитаем долю пользователей, переходящих на следующий шаг воронки от числа пользователей на предыдущем:\n",
    "funnel_events['prev_pcnt'] = round(funnel_events['users_cnt'] / funnel_events['prev'] * 100, 1)\n",
    "funnel_events"
   ]
  },
  {
   "cell_type": "code",
   "execution_count": 43,
   "metadata": {},
   "outputs": [
    {
     "data": {
      "image/png": "[encoded data removed]",
      "text/plain": [
       "<Figure size 720x432 with 1 Axes>"
      ]
     },
     "metadata": {},
     "output_type": "display_data"
    }
   ],
   "source": [
    "ax = funnel_events.plot.bar(x='event_name', y='users_cnt')\n",
    "plt.xticks(rotation=0)\n",
    "plt.title('Упрощенная воронка событий')\n",
    "plt.xlabel('События')\n",
    "plt.legend(labels=['количествово пользователей,\\nсовершивших событие\\nхотя бы один раз'], bbox_to_anchor=(1.05, 1))\n",
    "make_annotates(ax)\n",
    "ax.axes.get_yaxis().set_visible(False)\n",
    "sns.despine(top=True, right=True, left=True, bottom=False)\n",
    "plt.show()"
   ]
  },
  {
   "cell_type": "markdown",
   "metadata": {},
   "source": [
    "### Анализ корреляций"
   ]
  },
  {
   "cell_type": "markdown",
   "metadata": {},
   "source": [
    "Посчитаем для каждого пользователя количество событий каждого типа:"
   ]
  },
  {
   "cell_type": "code",
   "execution_count": 44,
   "metadata": {},
   "outputs": [
    {
     "data": {
      "text/html": [
       "<div>\n",
       "<style scoped>\n",
       "    .dataframe tbody tr th:only-of-type {\n",
       "        vertical-align: middle;\n",
       "    }\n",
       "\n",
       "    .dataframe tbody tr th {\n",
       "        vertical-align: top;\n",
       "    }\n",
       "\n",
       "    .dataframe thead th {\n",
       "        text-align: right;\n",
       "    }\n",
       "</style>\n",
       "<table border=\"1\" class=\"dataframe\">\n",
       "  <thead>\n",
       "    <tr style=\"text-align: right;\">\n",
       "      <th>event_name</th>\n",
       "      <th>user_id</th>\n",
       "      <th>advert_open</th>\n",
       "      <th>contacts_call</th>\n",
       "      <th>contacts_show</th>\n",
       "      <th>favorites_add</th>\n",
       "      <th>map</th>\n",
       "      <th>photos_show</th>\n",
       "      <th>search_1</th>\n",
       "      <th>search_2</th>\n",
       "      <th>search_3</th>\n",
       "      <th>search_4</th>\n",
       "      <th>search_5</th>\n",
       "      <th>search_6</th>\n",
       "      <th>search_7</th>\n",
       "      <th>tips_click</th>\n",
       "      <th>tips_show</th>\n",
       "    </tr>\n",
       "  </thead>\n",
       "  <tbody>\n",
       "    <tr>\n",
       "      <td>1169</td>\n",
       "      <td>44623482-f318-4ef2-90a8-65729688cb00</td>\n",
       "      <td>0.0</td>\n",
       "      <td>0.0</td>\n",
       "      <td>1.0</td>\n",
       "      <td>0.0</td>\n",
       "      <td>0.0</td>\n",
       "      <td>0.0</td>\n",
       "      <td>0.0</td>\n",
       "      <td>0.0</td>\n",
       "      <td>0.0</td>\n",
       "      <td>0.0</td>\n",
       "      <td>0.0</td>\n",
       "      <td>0.0</td>\n",
       "      <td>0.0</td>\n",
       "      <td>0.0</td>\n",
       "      <td>4.0</td>\n",
       "    </tr>\n",
       "    <tr>\n",
       "      <td>3414</td>\n",
       "      <td>cbd32396-2984-4a55-a92d-d720a5b52a53</td>\n",
       "      <td>0.0</td>\n",
       "      <td>0.0</td>\n",
       "      <td>2.0</td>\n",
       "      <td>0.0</td>\n",
       "      <td>5.0</td>\n",
       "      <td>0.0</td>\n",
       "      <td>0.0</td>\n",
       "      <td>0.0</td>\n",
       "      <td>2.0</td>\n",
       "      <td>0.0</td>\n",
       "      <td>0.0</td>\n",
       "      <td>0.0</td>\n",
       "      <td>0.0</td>\n",
       "      <td>0.0</td>\n",
       "      <td>1.0</td>\n",
       "    </tr>\n",
       "    <tr>\n",
       "      <td>310</td>\n",
       "      <td>110640ac-8560-4315-8d4d-0490632e927d</td>\n",
       "      <td>0.0</td>\n",
       "      <td>0.0</td>\n",
       "      <td>0.0</td>\n",
       "      <td>0.0</td>\n",
       "      <td>1.0</td>\n",
       "      <td>0.0</td>\n",
       "      <td>0.0</td>\n",
       "      <td>0.0</td>\n",
       "      <td>0.0</td>\n",
       "      <td>0.0</td>\n",
       "      <td>0.0</td>\n",
       "      <td>0.0</td>\n",
       "      <td>0.0</td>\n",
       "      <td>0.0</td>\n",
       "      <td>3.0</td>\n",
       "    </tr>\n",
       "    <tr>\n",
       "      <td>321</td>\n",
       "      <td>116085d7-377c-4773-b5a4-d854bf3a8a2d</td>\n",
       "      <td>0.0</td>\n",
       "      <td>0.0</td>\n",
       "      <td>0.0</td>\n",
       "      <td>0.0</td>\n",
       "      <td>0.0</td>\n",
       "      <td>0.0</td>\n",
       "      <td>0.0</td>\n",
       "      <td>0.0</td>\n",
       "      <td>0.0</td>\n",
       "      <td>0.0</td>\n",
       "      <td>3.0</td>\n",
       "      <td>3.0</td>\n",
       "      <td>0.0</td>\n",
       "      <td>0.0</td>\n",
       "      <td>9.0</td>\n",
       "    </tr>\n",
       "    <tr>\n",
       "      <td>3253</td>\n",
       "      <td>c30289d2-693b-44c5-b097-9b75b106ede7</td>\n",
       "      <td>0.0</td>\n",
       "      <td>0.0</td>\n",
       "      <td>0.0</td>\n",
       "      <td>0.0</td>\n",
       "      <td>0.0</td>\n",
       "      <td>6.0</td>\n",
       "      <td>0.0</td>\n",
       "      <td>0.0</td>\n",
       "      <td>0.0</td>\n",
       "      <td>0.0</td>\n",
       "      <td>0.0</td>\n",
       "      <td>0.0</td>\n",
       "      <td>0.0</td>\n",
       "      <td>0.0</td>\n",
       "      <td>0.0</td>\n",
       "    </tr>\n",
       "  </tbody>\n",
       "</table>\n",
       "</div>"
      ],
      "text/plain": [
       "event_name                               user_id  advert_open  contacts_call  \\\n",
       "1169        44623482-f318-4ef2-90a8-65729688cb00          0.0            0.0   \n",
       "3414        cbd32396-2984-4a55-a92d-d720a5b52a53          0.0            0.0   \n",
       "310         110640ac-8560-4315-8d4d-0490632e927d          0.0            0.0   \n",
       "321         116085d7-377c-4773-b5a4-d854bf3a8a2d          0.0            0.0   \n",
       "3253        c30289d2-693b-44c5-b097-9b75b106ede7          0.0            0.0   \n",
       "\n",
       "event_name  contacts_show  favorites_add  map  photos_show  search_1  \\\n",
       "1169                  1.0            0.0  0.0          0.0       0.0   \n",
       "3414                  2.0            0.0  5.0          0.0       0.0   \n",
       "310                   0.0            0.0  1.0          0.0       0.0   \n",
       "321                   0.0            0.0  0.0          0.0       0.0   \n",
       "3253                  0.0            0.0  0.0          6.0       0.0   \n",
       "\n",
       "event_name  search_2  search_3  search_4  search_5  search_6  search_7  \\\n",
       "1169             0.0       0.0       0.0       0.0       0.0       0.0   \n",
       "3414             0.0       2.0       0.0       0.0       0.0       0.0   \n",
       "310              0.0       0.0       0.0       0.0       0.0       0.0   \n",
       "321              0.0       0.0       0.0       3.0       3.0       0.0   \n",
       "3253             0.0       0.0       0.0       0.0       0.0       0.0   \n",
       "\n",
       "event_name  tips_click  tips_show  \n",
       "1169               0.0        4.0  \n",
       "3414               0.0        1.0  \n",
       "310                0.0        3.0  \n",
       "321                0.0        9.0  \n",
       "3253               0.0        0.0  "
      ]
     },
     "execution_count": 44,
     "metadata": {},
     "output_type": "execute_result"
    }
   ],
   "source": [
    "events_per_users = (df\n",
    "                    .pivot_table(index='user_id', columns='event_name', values='event_time', aggfunc='count')\n",
    "                    .reset_index()\n",
    "                    .fillna(0))\n",
    "events_per_users.sample(5)"
   ]
  },
  {
   "cell_type": "markdown",
   "metadata": {},
   "source": [
    "Построим и визуализируем матрицу корреляций, убрав из анализа поле `user_id`:"
   ]
  },
  {
   "cell_type": "code",
   "execution_count": 45,
   "metadata": {},
   "outputs": [
    {
     "data": {
      "image/png": "[encoded data removed]",
      "text/plain": [
       "<Figure size 1080x1080 with 2 Axes>"
      ]
     },
     "metadata": {},
     "output_type": "display_data"
    }
   ],
   "source": [
    "plt.figure(figsize = (15,15))\n",
    "sns.heatmap(events_per_users.drop(['user_id'], axis=1).corr(), square = True, annot = True)\n",
    "plt.show()"
   ]
  },
  {
   "cell_type": "markdown",
   "metadata": {},
   "source": [
    "Видим, что целевое событие `contacts_show` положительно коррелирует с событием `tips_show` (0.42)."
   ]
  },
  {
   "cell_type": "markdown",
   "metadata": {},
   "source": [
    "Посмотрим на распределение количества событий `contacts_show` и `tips_show` во времени:"
   ]
  },
  {
   "cell_type": "code",
   "execution_count": 46,
   "metadata": {},
   "outputs": [
    {
     "data": {
      "image/png": "[encoded data removed]",
      "text/plain": [
       "<Figure size 720x432 with 1 Axes>"
      ]
     },
     "metadata": {},
     "output_type": "display_data"
    }
   ],
   "source": [
    "ax = df[df['event_name'] == 'contacts_show'].groupby(['event_date']).agg({'event_time':'count'}).plot()\n",
    "df[df['event_name'] == 'tips_show'].groupby(['event_date']).agg({'event_time':'count'}).plot(ax=ax, grid=True)\n",
    "plt.legend(labels=('contacts_show','tips_show'), bbox_to_anchor=(1.05, 1))\n",
    "plt.title('Распределение кол-ва событий contacts_show и tips_show по дням')\n",
    "plt.xlabel('Даты')\n",
    "plt.ylabel('Количество событий')\n",
    "plt.show()"
   ]
  },
  {
   "cell_type": "markdown",
   "metadata": {},
   "source": [
    "Каких-то явных зависимостей в распределении событий по времени не видно. Скорее всего, связь более сложная (проверим это на этапе работы со статистическими гипотезами)."
   ]
  },
  {
   "cell_type": "markdown",
   "metadata": {},
   "source": [
    "### Анализ групп пользователей (совершили или нет целевое действие)"
   ]
  },
  {
   "cell_type": "markdown",
   "metadata": {},
   "source": [
    "Выделим группы пользователей:\n",
    "- Те, кто совершил целевое событие `contacts_show` хотя бы один раз;\n",
    "- Те, кто не совершал целевое событие ни разу."
   ]
  },
  {
   "cell_type": "code",
   "execution_count": 47,
   "metadata": {},
   "outputs": [
    {
     "name": "stdout",
     "output_type": "stream",
     "text": [
      "Кол-во пользователей, совершивших целевое событие хотя бы один раз: 981 (22.9%)\n"
     ]
    }
   ],
   "source": [
    "# id пользователей, совершивших целевое событие хотя бы один раз\n",
    "goal_users = list(df.loc[df['event_name'] == 'contacts_show', 'user_id'].unique())\n",
    "\n",
    "goal_users_cnt = len(goal_users)\n",
    "goal_users_pcnt = goal_users_cnt / users['user_id'].nunique()\n",
    "print('Кол-во пользователей, совершивших целевое событие хотя бы один раз: {:.0f} ({:.1%})'\\\n",
    "      .format(goal_users_cnt, goal_users_pcnt))"
   ]
  },
  {
   "cell_type": "markdown",
   "metadata": {},
   "source": [
    "Посмотрим, какая доля пользователи в каждой группе совершали другие события:"
   ]
  },
  {
   "cell_type": "code",
   "execution_count": 48,
   "metadata": {},
   "outputs": [],
   "source": [
    "def make_funnel(df):\n",
    "    users_cnt = df['user_id'].nunique()\n",
    "    events_per_users = (df\n",
    "                        .groupby(['event_name'])\n",
    "                        .agg({'user_id':'nunique'})\n",
    "                        .rename(columns = {'user_id':'users_cnt'})\n",
    "                        .sort_values(by=['users_cnt'], ascending=False)\n",
    "                        .assign(users_pcnt = lambda x: round((x.users_cnt / users_cnt * 100),1))\n",
    "                        .reset_index()\n",
    "                       )\n",
    "    return events_per_users"
   ]
  },
  {
   "cell_type": "code",
   "execution_count": 49,
   "metadata": {},
   "outputs": [],
   "source": [
    "goal_users_df = df.query('user_id in @goal_users')\n",
    "not_goal_users_df = df.query('user_id not in @goal_users')"
   ]
  },
  {
   "cell_type": "code",
   "execution_count": 50,
   "metadata": {},
   "outputs": [],
   "source": [
    "goal_users_funnel = make_funnel(goal_users_df).rename(columns = {'users_cnt':'goal_cnt',\n",
    "                                                                 'users_pcnt':'goal_pcnt'})\n",
    "\n",
    "not_goal_users_funnel = make_funnel(not_goal_users_df).rename(columns = {'users_cnt':'not_goal_cnt',\n",
    "                                                                         'users_pcnt':'not_goal_pcnt'})"
   ]
  },
  {
   "cell_type": "code",
   "execution_count": 51,
   "metadata": {},
   "outputs": [
    {
     "data": {
      "text/html": [
       "<div>\n",
       "<style scoped>\n",
       "    .dataframe tbody tr th:only-of-type {\n",
       "        vertical-align: middle;\n",
       "    }\n",
       "\n",
       "    .dataframe tbody tr th {\n",
       "        vertical-align: top;\n",
       "    }\n",
       "\n",
       "    .dataframe thead th {\n",
       "        text-align: right;\n",
       "    }\n",
       "</style>\n",
       "<table border=\"1\" class=\"dataframe\">\n",
       "  <thead>\n",
       "    <tr style=\"text-align: right;\">\n",
       "      <th></th>\n",
       "      <th>event_name</th>\n",
       "      <th>goal_cnt</th>\n",
       "      <th>goal_pcnt</th>\n",
       "      <th>not_goal_cnt</th>\n",
       "      <th>not_goal_pcnt</th>\n",
       "    </tr>\n",
       "  </thead>\n",
       "  <tbody>\n",
       "    <tr>\n",
       "      <td>0</td>\n",
       "      <td>tips_show</td>\n",
       "      <td>516</td>\n",
       "      <td>52.6</td>\n",
       "      <td>2285</td>\n",
       "      <td>69.0</td>\n",
       "    </tr>\n",
       "    <tr>\n",
       "      <td>1</td>\n",
       "      <td>photos_show</td>\n",
       "      <td>339</td>\n",
       "      <td>34.6</td>\n",
       "      <td>756</td>\n",
       "      <td>22.8</td>\n",
       "    </tr>\n",
       "    <tr>\n",
       "      <td>2</td>\n",
       "      <td>map</td>\n",
       "      <td>289</td>\n",
       "      <td>29.5</td>\n",
       "      <td>1167</td>\n",
       "      <td>35.2</td>\n",
       "    </tr>\n",
       "    <tr>\n",
       "      <td>3</td>\n",
       "      <td>search_1</td>\n",
       "      <td>237</td>\n",
       "      <td>24.2</td>\n",
       "      <td>550</td>\n",
       "      <td>16.6</td>\n",
       "    </tr>\n",
       "    <tr>\n",
       "      <td>4</td>\n",
       "      <td>advert_open</td>\n",
       "      <td>138</td>\n",
       "      <td>14.1</td>\n",
       "      <td>613</td>\n",
       "      <td>18.5</td>\n",
       "    </tr>\n",
       "    <tr>\n",
       "      <td>5</td>\n",
       "      <td>favorites_add</td>\n",
       "      <td>136</td>\n",
       "      <td>13.9</td>\n",
       "      <td>215</td>\n",
       "      <td>6.5</td>\n",
       "    </tr>\n",
       "    <tr>\n",
       "      <td>6</td>\n",
       "      <td>search_5</td>\n",
       "      <td>114</td>\n",
       "      <td>11.6</td>\n",
       "      <td>549</td>\n",
       "      <td>16.6</td>\n",
       "    </tr>\n",
       "    <tr>\n",
       "      <td>7</td>\n",
       "      <td>tips_click</td>\n",
       "      <td>100</td>\n",
       "      <td>10.2</td>\n",
       "      <td>222</td>\n",
       "      <td>6.7</td>\n",
       "    </tr>\n",
       "    <tr>\n",
       "      <td>8</td>\n",
       "      <td>search_4</td>\n",
       "      <td>88</td>\n",
       "      <td>9.0</td>\n",
       "      <td>386</td>\n",
       "      <td>11.7</td>\n",
       "    </tr>\n",
       "    <tr>\n",
       "      <td>9</td>\n",
       "      <td>search_2</td>\n",
       "      <td>55</td>\n",
       "      <td>5.6</td>\n",
       "      <td>187</td>\n",
       "      <td>5.6</td>\n",
       "    </tr>\n",
       "    <tr>\n",
       "      <td>10</td>\n",
       "      <td>search_6</td>\n",
       "      <td>52</td>\n",
       "      <td>5.3</td>\n",
       "      <td>278</td>\n",
       "      <td>8.4</td>\n",
       "    </tr>\n",
       "    <tr>\n",
       "      <td>11</td>\n",
       "      <td>search_3</td>\n",
       "      <td>38</td>\n",
       "      <td>3.9</td>\n",
       "      <td>170</td>\n",
       "      <td>5.1</td>\n",
       "    </tr>\n",
       "    <tr>\n",
       "      <td>12</td>\n",
       "      <td>search_7</td>\n",
       "      <td>25</td>\n",
       "      <td>2.5</td>\n",
       "      <td>132</td>\n",
       "      <td>4.0</td>\n",
       "    </tr>\n",
       "  </tbody>\n",
       "</table>\n",
       "</div>"
      ],
      "text/plain": [
       "       event_name  goal_cnt  goal_pcnt  not_goal_cnt  not_goal_pcnt\n",
       "0       tips_show       516       52.6          2285           69.0\n",
       "1     photos_show       339       34.6           756           22.8\n",
       "2             map       289       29.5          1167           35.2\n",
       "3        search_1       237       24.2           550           16.6\n",
       "4     advert_open       138       14.1           613           18.5\n",
       "5   favorites_add       136       13.9           215            6.5\n",
       "6        search_5       114       11.6           549           16.6\n",
       "7      tips_click       100       10.2           222            6.7\n",
       "8        search_4        88        9.0           386           11.7\n",
       "9        search_2        55        5.6           187            5.6\n",
       "10       search_6        52        5.3           278            8.4\n",
       "11       search_3        38        3.9           170            5.1\n",
       "12       search_7        25        2.5           132            4.0"
      ]
     },
     "execution_count": 51,
     "metadata": {},
     "output_type": "execute_result"
    }
   ],
   "source": [
    "groups_funnel = goal_users_funnel.merge(not_goal_users_funnel, on='event_name')\n",
    "groups_funnel"
   ]
  },
  {
   "cell_type": "code",
   "execution_count": 52,
   "metadata": {},
   "outputs": [
    {
     "data": {
      "image/png": "[encoded data removed]",
      "text/plain": [
       "<Figure size 1080x432 with 1 Axes>"
      ]
     },
     "metadata": {},
     "output_type": "display_data"
    }
   ],
   "source": [
    "ax = groups_funnel.plot.bar(x='event_name', y=['goal_pcnt','not_goal_pcnt'], figsize=(15, 6))\n",
    "\n",
    "plt.title('Доля пользователей, совершивших события')\n",
    "plt.xlabel('События')\n",
    "\n",
    "leg = plt.legend(title='Группы пользователей',\n",
    "                 labels=['Совершили целевое событие\\nхотя бы один раз', 'Не совершали целевое\\nсобытие ни разу'],\n",
    "                 bbox_to_anchor=(1, 1))\n",
    "leg._legend_box.align = 'left'\n",
    "\n",
    "make_annotates(ax)\n",
    "ax.axes.get_yaxis().set_visible(False)\n",
    "sns.despine(top=True, right=True, left=True, bottom=False)\n",
    "plt.show()"
   ]
  },
  {
   "cell_type": "markdown",
   "metadata": {},
   "source": [
    "Среди тех, кто совершил целевое событие `contacts_show`, выше доля пользователей, совершивших события `photos_show` и `search_1`."
   ]
  },
  {
   "cell_type": "markdown",
   "metadata": {},
   "source": [
    "### Сравнение пользователей из разных источников"
   ]
  },
  {
   "cell_type": "markdown",
   "metadata": {},
   "source": [
    "Еще посмотрим, отличается ли доля пользователей, совершивших целевое событие `contacts_show`, в группах пользователей из разных источников."
   ]
  },
  {
   "cell_type": "code",
   "execution_count": 53,
   "metadata": {},
   "outputs": [
    {
     "data": {
      "text/html": [
       "<div>\n",
       "<style scoped>\n",
       "    .dataframe tbody tr th:only-of-type {\n",
       "        vertical-align: middle;\n",
       "    }\n",
       "\n",
       "    .dataframe tbody tr th {\n",
       "        vertical-align: top;\n",
       "    }\n",
       "\n",
       "    .dataframe thead th {\n",
       "        text-align: right;\n",
       "    }\n",
       "</style>\n",
       "<table border=\"1\" class=\"dataframe\">\n",
       "  <thead>\n",
       "    <tr style=\"text-align: right;\">\n",
       "      <th></th>\n",
       "      <th>source</th>\n",
       "      <th>users_cnt</th>\n",
       "    </tr>\n",
       "  </thead>\n",
       "  <tbody>\n",
       "    <tr>\n",
       "      <td>0</td>\n",
       "      <td>google</td>\n",
       "      <td>1129</td>\n",
       "    </tr>\n",
       "    <tr>\n",
       "      <td>1</td>\n",
       "      <td>other</td>\n",
       "      <td>1230</td>\n",
       "    </tr>\n",
       "    <tr>\n",
       "      <td>2</td>\n",
       "      <td>yandex</td>\n",
       "      <td>1934</td>\n",
       "    </tr>\n",
       "  </tbody>\n",
       "</table>\n",
       "</div>"
      ],
      "text/plain": [
       "   source  users_cnt\n",
       "0  google       1129\n",
       "1   other       1230\n",
       "2  yandex       1934"
      ]
     },
     "execution_count": 53,
     "metadata": {},
     "output_type": "execute_result"
    }
   ],
   "source": [
    "# считаем количество пользователей по источникам\n",
    "users_per_sources = (df.groupby(['source'], as_index=False).agg({'user_id':'nunique'})\n",
    "                     .rename(columns={'user_id':'users_cnt'}))\n",
    "users_per_sources"
   ]
  },
  {
   "cell_type": "code",
   "execution_count": 54,
   "metadata": {},
   "outputs": [
    {
     "data": {
      "text/html": [
       "<div>\n",
       "<style scoped>\n",
       "    .dataframe tbody tr th:only-of-type {\n",
       "        vertical-align: middle;\n",
       "    }\n",
       "\n",
       "    .dataframe tbody tr th {\n",
       "        vertical-align: top;\n",
       "    }\n",
       "\n",
       "    .dataframe thead th {\n",
       "        text-align: right;\n",
       "    }\n",
       "</style>\n",
       "<table border=\"1\" class=\"dataframe\">\n",
       "  <thead>\n",
       "    <tr style=\"text-align: right;\">\n",
       "      <th></th>\n",
       "      <th>source</th>\n",
       "      <th>users_goal</th>\n",
       "    </tr>\n",
       "  </thead>\n",
       "  <tbody>\n",
       "    <tr>\n",
       "      <td>0</td>\n",
       "      <td>google</td>\n",
       "      <td>275</td>\n",
       "    </tr>\n",
       "    <tr>\n",
       "      <td>1</td>\n",
       "      <td>other</td>\n",
       "      <td>228</td>\n",
       "    </tr>\n",
       "    <tr>\n",
       "      <td>2</td>\n",
       "      <td>yandex</td>\n",
       "      <td>478</td>\n",
       "    </tr>\n",
       "  </tbody>\n",
       "</table>\n",
       "</div>"
      ],
      "text/plain": [
       "   source  users_goal\n",
       "0  google         275\n",
       "1   other         228\n",
       "2  yandex         478"
      ]
     },
     "execution_count": 54,
     "metadata": {},
     "output_type": "execute_result"
    }
   ],
   "source": [
    "# считаем по источникам количество пользователей, совершивших целевое действие\n",
    "users_per_sources_goal = (df.query('event_name == \"contacts_show\"')\n",
    "                          .groupby(['source'], as_index=False).agg({'user_id':'nunique'})\n",
    "                          .rename(columns={'user_id':'users_goal'}))\n",
    "users_per_sources_goal"
   ]
  },
  {
   "cell_type": "code",
   "execution_count": 55,
   "metadata": {},
   "outputs": [
    {
     "data": {
      "text/html": [
       "<div>\n",
       "<style scoped>\n",
       "    .dataframe tbody tr th:only-of-type {\n",
       "        vertical-align: middle;\n",
       "    }\n",
       "\n",
       "    .dataframe tbody tr th {\n",
       "        vertical-align: top;\n",
       "    }\n",
       "\n",
       "    .dataframe thead th {\n",
       "        text-align: right;\n",
       "    }\n",
       "</style>\n",
       "<table border=\"1\" class=\"dataframe\">\n",
       "  <thead>\n",
       "    <tr style=\"text-align: right;\">\n",
       "      <th></th>\n",
       "      <th>source</th>\n",
       "      <th>users_cnt</th>\n",
       "      <th>users_goal</th>\n",
       "    </tr>\n",
       "  </thead>\n",
       "  <tbody>\n",
       "    <tr>\n",
       "      <td>0</td>\n",
       "      <td>google</td>\n",
       "      <td>1129</td>\n",
       "      <td>275</td>\n",
       "    </tr>\n",
       "    <tr>\n",
       "      <td>1</td>\n",
       "      <td>other</td>\n",
       "      <td>1230</td>\n",
       "      <td>228</td>\n",
       "    </tr>\n",
       "    <tr>\n",
       "      <td>2</td>\n",
       "      <td>yandex</td>\n",
       "      <td>1934</td>\n",
       "      <td>478</td>\n",
       "    </tr>\n",
       "  </tbody>\n",
       "</table>\n",
       "</div>"
      ],
      "text/plain": [
       "   source  users_cnt  users_goal\n",
       "0  google       1129         275\n",
       "1   other       1230         228\n",
       "2  yandex       1934         478"
      ]
     },
     "execution_count": 55,
     "metadata": {},
     "output_type": "execute_result"
    }
   ],
   "source": [
    "# соединяем\n",
    "users_per_sources_pcnt = users_per_sources.merge(users_per_sources_goal, on='source')\n",
    "users_per_sources_pcnt"
   ]
  },
  {
   "cell_type": "code",
   "execution_count": 56,
   "metadata": {},
   "outputs": [
    {
     "data": {
      "text/html": [
       "<div>\n",
       "<style scoped>\n",
       "    .dataframe tbody tr th:only-of-type {\n",
       "        vertical-align: middle;\n",
       "    }\n",
       "\n",
       "    .dataframe tbody tr th {\n",
       "        vertical-align: top;\n",
       "    }\n",
       "\n",
       "    .dataframe thead th {\n",
       "        text-align: right;\n",
       "    }\n",
       "</style>\n",
       "<table border=\"1\" class=\"dataframe\">\n",
       "  <thead>\n",
       "    <tr style=\"text-align: right;\">\n",
       "      <th></th>\n",
       "      <th>source</th>\n",
       "      <th>users_cnt</th>\n",
       "      <th>users_goal</th>\n",
       "      <th>pcnt</th>\n",
       "    </tr>\n",
       "  </thead>\n",
       "  <tbody>\n",
       "    <tr>\n",
       "      <td>2</td>\n",
       "      <td>yandex</td>\n",
       "      <td>1934</td>\n",
       "      <td>478</td>\n",
       "      <td>24.715615</td>\n",
       "    </tr>\n",
       "    <tr>\n",
       "      <td>0</td>\n",
       "      <td>google</td>\n",
       "      <td>1129</td>\n",
       "      <td>275</td>\n",
       "      <td>24.357839</td>\n",
       "    </tr>\n",
       "    <tr>\n",
       "      <td>1</td>\n",
       "      <td>other</td>\n",
       "      <td>1230</td>\n",
       "      <td>228</td>\n",
       "      <td>18.536585</td>\n",
       "    </tr>\n",
       "  </tbody>\n",
       "</table>\n",
       "</div>"
      ],
      "text/plain": [
       "   source  users_cnt  users_goal       pcnt\n",
       "2  yandex       1934         478  24.715615\n",
       "0  google       1129         275  24.357839\n",
       "1   other       1230         228  18.536585"
      ]
     },
     "execution_count": 56,
     "metadata": {},
     "output_type": "execute_result"
    }
   ],
   "source": [
    "# считаем долю\n",
    "users_per_sources_pcnt['pcnt'] = users_per_sources_pcnt['users_goal'] / users_per_sources_pcnt['users_cnt'] * 100\n",
    "users_per_sources_pcnt = users_per_sources_pcnt.sort_values(by='pcnt', ascending=False)\n",
    "users_per_sources_pcnt"
   ]
  },
  {
   "cell_type": "code",
   "execution_count": 57,
   "metadata": {},
   "outputs": [
    {
     "data": {
      "image/png": "[encoded data removed]",
      "text/plain": [
       "<Figure size 720x432 with 1 Axes>"
      ]
     },
     "metadata": {},
     "output_type": "display_data"
    }
   ],
   "source": [
    "ax = users_per_sources_pcnt.plot.bar(x='source', y='pcnt', legend=False)\n",
    "plt.xticks(rotation=0)\n",
    "plt.title('Доли пользователей, совершивших целевое событие, по источникам')\n",
    "plt.xlabel('Источники') \n",
    "make_annotates(ax)\n",
    "ax.axes.get_yaxis().set_visible(False)\n",
    "sns.despine(top=True, right=True, left=True, bottom=False)\n",
    "plt.show()"
   ]
  },
  {
   "cell_type": "markdown",
   "metadata": {},
   "source": [
    "### Промежуточные выводы\n",
    "\n",
    "В данном разделе мы построили упрощенную воронку событий, изучили матрицу корреляций и посмотрели на различия в поведении пользователей, совершавших целевое событие `contacts_show` хотя бы один раз и не совершавших его ни разу:\n",
    "\n",
    "- Целевое действие совершали только 22.9% от общего числа пользователей в логе;\n",
    "- Их тех, кто посмотрел контакты, только 21.7% позвонили по номеру в контактах;\n",
    "- Только 5% всех пользователей доходит до целевого действия всего приложения (звонок);\n",
    "- Целевое событие `contacts_show` несильно положительно коррелирует с событием `tips_show` (коэффициент корреляции 0.42);\n",
    "- Среди тех, кто совершил целевое событие `contacts_show`, выше доля пользователей, совершивших события `photos_show` и `search_1`;\n",
    "- Доля пользователей, совершивших целевое событие `contacts_show` хотя бы раз, ниже среди пользователей, приходящих из источника `other`."
   ]
  },
  {
   "cell_type": "markdown",
   "metadata": {},
   "source": [
    "<div align='right'><a href='#content'>↑ В начало проекта ↑</a></div>"
   ]
  },
  {
   "cell_type": "markdown",
   "metadata": {},
   "source": [
    "---"
   ]
  },
  {
   "cell_type": "markdown",
   "metadata": {},
   "source": [
    "## <a id='step-5'>Шаг 5. Проверка статистических гипотез</a>"
   ]
  },
  {
   "cell_type": "markdown",
   "metadata": {},
   "source": [
    "### Функция для проверки статистических гипотез"
   ]
  },
  {
   "cell_type": "markdown",
   "metadata": {},
   "source": [
    "Так как в обеих гипотезах сравниваются конверсии, будем использовать `z-тест`.\n",
    "\n",
    "Функция будет:\n",
    "- Принимать на вход название целевого события, сравниваемые выборки из лога и значение критического уровня статистической значимости (alpha, по умолчанию будет равно 0.05);\n",
    "- Рассчитывать и выводить долю пользователей, совершивших целевое действие, в каждой группе;\n",
    "- Проводить z-тест и выводить его результаты."
   ]
  },
  {
   "cell_type": "code",
   "execution_count": 58,
   "metadata": {},
   "outputs": [],
   "source": [
    "def check_hyp(event, group_a, group_b, alpha=0.05):\n",
    "    \n",
    "    # считаем количество пользователей, совершивших целевое событие, в каждой группе\n",
    "    successesA = group_a.loc[df_a['event_name']==event, 'user_id'].nunique()\n",
    "    successesB = group_b.loc[df_b['event_name']==event, 'user_id'].nunique()\n",
    "    \n",
    "    # вытаскиваем общее количество пользователей\n",
    "    totalA = group_a['user_id'].nunique()\n",
    "    totalB = group_b['user_id'].nunique()\n",
    "    \n",
    "    # находим доли\n",
    "    propA = successesA / totalA\n",
    "    propB = successesB / totalB\n",
    "    \n",
    "    # выводим доли + количество пользователей в группах\n",
    "    print()\n",
    "    print(f'{propA:.0%} от {totalA} пользователей с событием {event} в группе «A»')\n",
    "    print(f'{propB:.0%} от {totalB} пользователей с событием {event} в группе «B»')\n",
    "    \n",
    "    \n",
    "    ########## проверяем гипотезу ##########\n",
    "      \n",
    "    # пропорция успехов в группах\n",
    "    pA = successesA / totalA\n",
    "    pB = successesB / totalB\n",
    "\n",
    "    # пропорция успехов в комбинированной группе\n",
    "    p_combined = (successesA + successesB) / (totalA + totalB)\n",
    "\n",
    "    # разница пропорций в группах\n",
    "    difference = pA - pB\n",
    "    \n",
    "    # выводим, в какой группе конверсия лучше\n",
    "    if difference > 0:\n",
    "        print(colored('Конверсия в группе B хуже.', 'red'))\n",
    "    else:\n",
    "        print(colored('Конверсия в группе B лучше.', 'green'))\n",
    "\n",
    "    # статистика в стандартных отклонениях стандартного нормального распределения\n",
    "    z_value = difference / mth.sqrt(p_combined * (1 - p_combined) * (1/totalA + 1/totalB))\n",
    "\n",
    "    # задаем стандартное нормальное распределение (среднее = 0, стандартное отклонение = 1)\n",
    "    distr = st.norm(0, 1)\n",
    "    \n",
    "    # посчитаем, как далеко статистика уехала от нуля = какова вероятность получить такое отличие или больше\n",
    "    # так как распределение статистики нормальное, вызовем метод cdf()\n",
    "    # саму z-статистику возьмём по модулю методом abs(), чтобы получить правильный результат независимо от её знака\n",
    "    # это возможно, потому что тест двусторонний. По этой же причине удваиваем результат:\n",
    "    p_value = (1 - distr.cdf(abs(z_value))) * 2\n",
    "    \n",
    "    print()\n",
    "    print(f'p-значение: {p_value:.4%}')\n",
    "\n",
    "    # используем библиотеку termcolor\n",
    "    if (p_value < alpha):\n",
    "        print(colored('Отвергаем нулевую гипотезу: между долями есть значимая разница.', 'green'))\n",
    "    else:\n",
    "        print(colored('Не получилось отвергнуть нулевую гипотезу, нет оснований считать доли разными.', 'red'))\n",
    "    \n",
    "    return"
   ]
  },
  {
   "cell_type": "markdown",
   "metadata": {},
   "source": [
    "### Статистическая гипотеза №1"
   ]
  },
  {
   "cell_type": "markdown",
   "metadata": {},
   "source": [
    "Конверсия в просмотры контактов различается у групп пользователей: одни совершают действия `tips_show` (увидел рекомендованные объявления) и `tips_click` (кликнул по рекомендованному объявлению), другие — только `tips_show`.\n",
    "\n",
    "Формулируем нулевую и альтернативную гипотезы:\n",
    "\n",
    "- H0: доли пользователей, совершивших целевое событие `contacts_show`, НЕ различаются у групп пользователей: группа A — совершали только `tips_show`, группа B — совершали `tips_show` и `tips_click`;\n",
    "- H1: доли пользователей, совершивших целевое событие `contacts_show`, различаются у групп A и B пользователей."
   ]
  },
  {
   "cell_type": "code",
   "execution_count": 59,
   "metadata": {},
   "outputs": [
    {
     "data": {
      "text/html": [
       "<div>\n",
       "<style scoped>\n",
       "    .dataframe tbody tr th:only-of-type {\n",
       "        vertical-align: middle;\n",
       "    }\n",
       "\n",
       "    .dataframe tbody tr th {\n",
       "        vertical-align: top;\n",
       "    }\n",
       "\n",
       "    .dataframe thead th {\n",
       "        text-align: right;\n",
       "    }\n",
       "</style>\n",
       "<table border=\"1\" class=\"dataframe\">\n",
       "  <thead>\n",
       "    <tr style=\"text-align: right;\">\n",
       "      <th></th>\n",
       "      <th>user_id</th>\n",
       "      <th>event_types</th>\n",
       "    </tr>\n",
       "  </thead>\n",
       "  <tbody>\n",
       "    <tr>\n",
       "      <td>1765</td>\n",
       "      <td>a2311cac-437a-4e11-96d5-a492f5147771</td>\n",
       "      <td>1</td>\n",
       "    </tr>\n",
       "    <tr>\n",
       "      <td>596</td>\n",
       "      <td>3680f409-926a-4f40-8ef4-4f01c20459af</td>\n",
       "      <td>1</td>\n",
       "    </tr>\n",
       "    <tr>\n",
       "      <td>1564</td>\n",
       "      <td>8e60d403-f2b5-4966-8b85-819618698653</td>\n",
       "      <td>1</td>\n",
       "    </tr>\n",
       "    <tr>\n",
       "      <td>680</td>\n",
       "      <td>3e2ce582-a7bd-4bdb-856d-50e52abe0866</td>\n",
       "      <td>1</td>\n",
       "    </tr>\n",
       "    <tr>\n",
       "      <td>2094</td>\n",
       "      <td>c09257bb-5189-4887-93b4-90fe6c85f6ac</td>\n",
       "      <td>1</td>\n",
       "    </tr>\n",
       "  </tbody>\n",
       "</table>\n",
       "</div>"
      ],
      "text/plain": [
       "                                   user_id  event_types\n",
       "1765  a2311cac-437a-4e11-96d5-a492f5147771            1\n",
       "596   3680f409-926a-4f40-8ef4-4f01c20459af            1\n",
       "1564  8e60d403-f2b5-4966-8b85-819618698653            1\n",
       "680   3e2ce582-a7bd-4bdb-856d-50e52abe0866            1\n",
       "2094  c09257bb-5189-4887-93b4-90fe6c85f6ac            1"
      ]
     },
     "execution_count": 59,
     "metadata": {},
     "output_type": "execute_result"
    }
   ],
   "source": [
    "# отберем события tips_show и tips_click\n",
    "# потом посчитаем для каждого пользователя, сколько событий каждого типа он совершил\n",
    "# потом определим для каждого пользователя, события скольки типов (одного или двух) он совершил\n",
    "events_ab = (df.query('event_name == \"tips_show\" | event_name == \"tips_click\"')\n",
    "             .groupby(['user_id','event_name'], as_index=False).agg({'event_time':'count'})\n",
    "             .groupby(['user_id'], as_index=False).agg({'event_time':'nunique'})\n",
    "             .rename(columns={'event_time':'event_types'})\n",
    "            )\n",
    "events_ab.sample(5)"
   ]
  },
  {
   "cell_type": "code",
   "execution_count": 60,
   "metadata": {},
   "outputs": [
    {
     "data": {
      "text/plain": [
       "2533"
      ]
     },
     "execution_count": 60,
     "metadata": {},
     "output_type": "execute_result"
    }
   ],
   "source": [
    "# соберем в разные датафреймы события пользователей, совершивших только tips_show (группа A)\n",
    "# и пользователей, совершивших tips_show и tips_click (группа B)\n",
    "\n",
    "da_ids = list(events_ab.query('event_types == 1')['user_id'])\n",
    "len(da_ids)"
   ]
  },
  {
   "cell_type": "code",
   "execution_count": 61,
   "metadata": {},
   "outputs": [
    {
     "data": {
      "text/plain": [
       "293"
      ]
     },
     "execution_count": 61,
     "metadata": {},
     "output_type": "execute_result"
    }
   ],
   "source": [
    "db_ids = list(events_ab.query('event_types == 2')['user_id'])\n",
    "len(db_ids)"
   ]
  },
  {
   "cell_type": "code",
   "execution_count": 62,
   "metadata": {},
   "outputs": [],
   "source": [
    "df_a = df.query('user_id in @da_ids')\n",
    "df_b = df.query('user_id in @db_ids')"
   ]
  },
  {
   "cell_type": "markdown",
   "metadata": {},
   "source": [
    "Так как на одном наборе данных мы проверяем две гипотезы, то нужно скорректировать уровень статистической значимости – используем поправку Бонферрони:"
   ]
  },
  {
   "cell_type": "code",
   "execution_count": 63,
   "metadata": {},
   "outputs": [],
   "source": [
    "alpha = 0.05\n",
    "alpha_adj = alpha / 2"
   ]
  },
  {
   "cell_type": "markdown",
   "metadata": {},
   "source": [
    "Проверим гипотезу:"
   ]
  },
  {
   "cell_type": "code",
   "execution_count": 64,
   "metadata": {
    "scrolled": false
   },
   "outputs": [
    {
     "name": "stdout",
     "output_type": "stream",
     "text": [
      "\n",
      "17% от 2533 пользователей с событием contacts_show в группе «A»\n",
      "30% от 293 пользователей с событием contacts_show в группе «B»\n",
      "\u001b[32mКонверсия в группе B лучше.\u001b[0m\n",
      "\n",
      "p-значение: 0.0000%\n",
      "\u001b[32mОтвергаем нулевую гипотезу: между долями есть значимая разница.\u001b[0m\n"
     ]
    }
   ],
   "source": [
    "check_hyp(event = 'contacts_show',\n",
    "          group_a = df_a, group_b = df_b,\n",
    "          alpha=alpha_adj)"
   ]
  },
  {
   "cell_type": "markdown",
   "metadata": {},
   "source": [
    "Видим, что конверсия в группе пользователей, которые совершали события `tips_show` и `tips_click`, выше, чем в группе пользователей, которые совершали только `tips_show`, и различие статистически значимое."
   ]
  },
  {
   "cell_type": "markdown",
   "metadata": {},
   "source": [
    "### Статистическая гипотеза №2"
   ]
  },
  {
   "cell_type": "markdown",
   "metadata": {},
   "source": [
    "Конверсия в просмотры контактов различается у групп пользователей: одни добавляют объявления в избранное (совершают действие `favorites_add`), другие — нет.\n",
    "\n",
    "Формулируем нулевую и альтернативную гипотезы:\n",
    "\n",
    "- H0: доли пользователей, совершивших целевое событие `contacts_show`, НЕ различаются у групп пользователей: группа A — совершали `favorites_add` хотя бы один раз, группа B — не совершали `favorites_add` ни разу;\n",
    "- H1: доли пользователей, совершивших целевое событие `contacts_show`, различаются у групп A и B пользователей."
   ]
  },
  {
   "cell_type": "code",
   "execution_count": 65,
   "metadata": {},
   "outputs": [
    {
     "data": {
      "text/plain": [
       "351"
      ]
     },
     "execution_count": 65,
     "metadata": {},
     "output_type": "execute_result"
    }
   ],
   "source": [
    "# отберем id пользователей, которые совершали событие favorites_add\n",
    "da_ids = list(df.query('event_name == \"favorites_add\"')['user_id'].unique())\n",
    "len(da_ids)"
   ]
  },
  {
   "cell_type": "code",
   "execution_count": 66,
   "metadata": {},
   "outputs": [],
   "source": [
    "df_a = df.query('user_id in @da_ids')\n",
    "df_b = df.query('user_id not in @da_ids')"
   ]
  },
  {
   "cell_type": "markdown",
   "metadata": {},
   "source": [
    "Проверим гипотезу:"
   ]
  },
  {
   "cell_type": "code",
   "execution_count": 67,
   "metadata": {},
   "outputs": [
    {
     "name": "stdout",
     "output_type": "stream",
     "text": [
      "\n",
      "39% от 351 пользователей с событием contacts_show в группе «A»\n",
      "21% от 3942 пользователей с событием contacts_show в группе «B»\n",
      "\u001b[31mКонверсия в группе B хуже.\u001b[0m\n",
      "\n",
      "p-значение: 0.0000%\n",
      "\u001b[32mОтвергаем нулевую гипотезу: между долями есть значимая разница.\u001b[0m\n"
     ]
    }
   ],
   "source": [
    "check_hyp(event = 'contacts_show',\n",
    "          group_a = df_a, group_b = df_b,\n",
    "          alpha=alpha_adj)"
   ]
  },
  {
   "cell_type": "markdown",
   "metadata": {},
   "source": [
    "Видим, что конверсия в группе пользователей, которые не добавляли объявления в избранное, ниже, чем в группе пользователей, которые хотя бы раз совершали событие `favorites_add`, и различие статистически значимое."
   ]
  },
  {
   "cell_type": "markdown",
   "metadata": {},
   "source": [
    "### Промежуточные выводы\n",
    "\n",
    "Здесь мы сформулировали и проверили две статистические гипотезы и получили результаты:\n",
    "\n",
    "- Конверсия в группе пользователей, которые совершали события `tips_show` и `tips_click`, выше, чем в группе пользователей, которые совершали только `tips_show`, и различие статистически значимое;\n",
    "- Конверсия в группе пользователей, которые не добавляли объявления в избранное, ниже, чем в группе пользователей, которые хотя бы раз совершали событие `favorites_add`, и различие статистически значимое."
   ]
  },
  {
   "cell_type": "markdown",
   "metadata": {},
   "source": [
    "<div align='right'><a href='#content'>↑ В начало проекта ↑</a></div>"
   ]
  },
  {
   "cell_type": "markdown",
   "metadata": {},
   "source": [
    "---"
   ]
  },
  {
   "cell_type": "markdown",
   "metadata": {},
   "source": [
    "## <a href='#results'>Общие выводы</a></div>"
   ]
  },
  {
   "cell_type": "markdown",
   "metadata": {},
   "source": [
    "### Выполненные работы и полученные результаты\n",
    "\n",
    "В данном проекте мы:\n",
    "\n",
    "1. Изучили имеющиеся данные, обнаружили в них недочеты.\n",
    "\n",
    "\n",
    "2. Подготовили данные — переименовали столбцы, привели столбец с датой и временем совершения события к нужному формату и выделили в отдельный столбец только дату.\n",
    "\n",
    "\n",
    "3. Провели исследовательский анализ и обнаружили особенности:\n",
    "\n",
    "   - Всего в данных 4293 пользователя, при чем каждый из них совершил хотя бы одно действие. Максимум событий на одного пользователя = 478;\n",
    "   - Больше всего пользователей пришло из Яндекса (1934 = 45%);\n",
    "   - В логе представлены 74197 событий за период с 7 октября по 3 ноября;\n",
    "   - Распределение общего количества событий во времени неравномерное: есть всплески и провалы. Больше событий суммарно пользователи совершают в начале недели (понедельник – среда), меньше всего — по субботам;\n",
    "   - В среднем, на одного пользователя приходится 12.8 событий (медиана = 9).\n",
    "\n",
    "\n",
    "4. Построили упрощенную воронку событий, изучили матрицу корреляций и посмотрели на различия в поведении пользователей, совершавших целевое событие `contacts_show` хотя бы один раз и не совершавших его ни разу:\n",
    "\n",
    "   - Целевое действие совершали только 22.9% от общего числа пользователей в логе;\n",
    "   - Их тех, кто посмотрел контакты, только 21.7% позвонили по номеру в контактах;\n",
    "   - Только 5% всех пользователей доходит до итогового действия всего приложения (звонок);\n",
    "   - Целевое событие `contacts_show` несильно положительно коррелирует с событием `tips_show` (коэффициент корреляции 0.42);\n",
    "   - Среди тех, кто совершил целевое событие `contacts_show`, выше доля пользователей, совершивших события `photos_show` и `search_1`;\n",
    "   - Доля пользователей, совершивших целевое событие `contacts_show` хотя бы раз, ниже среди пользователей, приходящих из источника `other`.\n",
    "\n",
    "\n",
    "5. Сформулировали и проверили две статистические гипотезы и получили результаты:\n",
    "\n",
    "   - Конверсия в просмотр контактов выше в группе пользователей, которые смотрели и кликали на рекомендованные объявления, чем среди пользователей, которые только просматривали, но не кликали на рекомендации;\n",
    "   - Конверсия в просмотр контактов выше в группе пользователей, которые хотя бы раз добавляли объявления в избранное, чем среди пользователей, которые ни разу этого не делали."
   ]
  },
  {
   "cell_type": "markdown",
   "metadata": {},
   "source": [
    "### Рекомендации\n",
    "\n",
    "Исходя из полученных данных можем рекомендовать:\n",
    "\n",
    "1. Сделать возможным звонок продавцу без необходимости просмотра контактов, то есть убрать действие `contacts_show`, так как до него доходят только 22.9% пользователей. Для этого, например, можно использовать подменные номера, показывая анонимные номера и скрывая реальные данные пользователей.\n",
    "\n",
    "\n",
    "2. Если убрать действие `contacts_show` невозможно по техническим причинам или в связи с требованиями безопасности, рекомендуем стимулировать пользователей к просмотру контактов. Для этого можно предпринять следующие действия:\n",
    "\n",
    "   - Развивать каналы привлечения «Яндекс» и «Google»;\n",
    "   - Делать более доступным и удобным добавление объявлений в избранное;\n",
    "   - Развивать систему показа рекомендованных объявлений, чтобы выдача была максимально релевантной;\n",
    "   - Помогать и стимулировать продавцов размещать в объявлениях больше качественных фотографий.\n",
    "\n",
    "\n",
    "3. Также стоит провести юзабилити-тестирование приложения, чтобы понять, почему так много пользователей не совершают звонок после просмотра контактов (только 21.7% из тех, кто посмотрел контакты, звонят по указанному номеру)."
   ]
  },
  {
   "cell_type": "markdown",
   "metadata": {},
   "source": [
    "<div align='right'><a href='#content'>↑ В начало проекта ↑</a></div>"
   ]
  }
 ],
 "metadata": {
  "kernelspec": {
   "display_name": "Python 3",
   "language": "python",
   "name": "python3"
  },
  "language_info": {
   "codemirror_mode": {
    "name": "ipython",
    "version": 3
   },
   "file_extension": ".py",
   "mimetype": "text/x-python",
   "name": "python",
   "nbconvert_exporter": "python",
   "pygments_lexer": "ipython3",
   "version": "3.7.6"
  }
 },
 "nbformat": 4,
 "nbformat_minor": 2
}
